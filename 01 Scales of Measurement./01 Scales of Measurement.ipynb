{
 "cells": [
  {
   "cell_type": "markdown",
   "id": "3ed8e8fe",
   "metadata": {},
   "source": [
    "$$\n",
    "\\text{Data}\\left\\{\\begin{array}{ll}\n",
    "\\text{Categorical Data}\\left\\{\\begin{array}{lll}\n",
    "\\text{without Meaningful Order}&\\rightarrow&\\text{Nominal Data}\\\\\n",
    "\\\\\n",
    "\\text{with Meaningful Order}&\\rightarrow&\\text{Ordinal Data}\\\\\n",
    "\\end{array}\\right.\\\\\n",
    "\\\\\n",
    "\\text{Numerical Data}\\left\\{\\begin{array}{lll}\n",
    "\\text{Not Ratio}&\\rightarrow&\\text{Interval Data}\\\\\n",
    "\\\\\n",
    "\\text{Ratio}&\\rightarrow&\\text{Ratio Data}\\\\\n",
    "\\end{array}\\right.\n",
    "\\end{array}\\right.\n",
    "$$"
   ]
  },
  {
   "cell_type": "markdown",
   "id": "3ba73ca1",
   "metadata": {},
   "source": [
    "# Reference\n",
    "\n",
    "[Scales of Measurement - Nominal, Ordinal, Interval, Ratio (Part 1) - Introductory Statistics](https://www.youtube.com/watch?v=KIBZUk39ncI)\n",
    "\n",
    "[Scales of Measurement - Nominal, Ordinal, Interval, Ratio (Part 2) - Introductory Statistics](https://www.youtube.com/watch?v=yJpiUHbLKLU)"
   ]
  }
 ],
 "metadata": {
  "kernelspec": {
   "display_name": "Python 3",
   "language": "python",
   "name": "python3"
  },
  "language_info": {
   "codemirror_mode": {
    "name": "ipython",
    "version": 3
   },
   "file_extension": ".py",
   "mimetype": "text/x-python",
   "name": "python",
   "nbconvert_exporter": "python",
   "pygments_lexer": "ipython3",
   "version": "3.8.8"
  }
 },
 "nbformat": 4,
 "nbformat_minor": 5
}
