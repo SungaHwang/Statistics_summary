{
 "cells": [
  {
   "cell_type": "markdown",
   "metadata": {},
   "source": [
    "[khanacademy](https://www.khanacademy.org/math/ap-statistics/analyzing-categorical-ap/analyzing-one-categorical-variable/v/identifying-individuals-variables-and-categorical-variables-in-a-data-set?modal=1)"
   ]
  },
  {
   "cell_type": "markdown",
   "metadata": {},
   "source": [
    "<div align=\"center\"><img src=\"img/Screen Shot 2019-08-12 at 9.31.19 AM.png\" width=\"80%\" height=\"30%\"></div>\n",
    "<div align=\"center\"><img src=\"img/Screen Shot 2019-08-12 at 9.30.59 AM.png\" width=\"80%\" height=\"30%\"></div>"
   ]
  },
  {
   "cell_type": "code",
   "execution_count": 7,
   "metadata": {},
   "outputs": [
    {
     "name": "stdout",
     "output_type": "stream",
     "text": [
      "                    Type  Calories  Sugars (g)  Caffein (mg)\n",
      "Drink                                                       \n",
      "Brewed coffee        Hot         4           0           260\n",
      "Caffe latte          Hot       100          14            75\n",
      "Caffe mocha          Hot       170          27            95\n",
      "Cappuccino           Hot        60           8            75\n",
      "Iced brewed coffee  Cold        60          15           120\n",
      "Chai latte           Hot       120          25            60\n"
     ]
    }
   ],
   "source": [
    "import pandas as pd\n",
    "\n",
    "data = {\n",
    "    'Drink': ['Brewed coffee', 'Caffe latte', 'Caffe mocha', 'Cappuccino', 'Iced brewed coffee', 'Chai latte'],\n",
    "    'Type': ['Hot', 'Hot', 'Hot', 'Hot', 'Cold', 'Hot'],\n",
    "    'Calories': [4, 100, 170, 60, 60, 120],\n",
    "    'Sugars (g)': [0, 14, 27, 8, 15, 25],\n",
    "    'Caffein (mg)': [260, 75, 95, 75, 120, 60]\n",
    "    }\n",
    "\n",
    "df = pd.DataFrame(data=data).set_index('Drink')\n",
    "print(df)"
   ]
  },
  {
   "cell_type": "code",
   "execution_count": 9,
   "metadata": {},
   "outputs": [
    {
     "name": "stdout",
     "output_type": "stream",
     "text": [
      "                    Calories  Sugars (g)  Caffein (mg)  Type_Cold\n",
      "Drink                                                            \n",
      "Brewed coffee              4           0           260          0\n",
      "Caffe latte              100          14            75          0\n",
      "Caffe mocha              170          27            95          0\n",
      "Cappuccino                60           8            75          0\n",
      "Iced brewed coffee        60          15           120          1\n",
      "Chai latte               120          25            60          0\n"
     ]
    }
   ],
   "source": [
    "df = pd.get_dummies(df).drop(columns=['Type_Hot'])\n",
    "print(df)"
   ]
  },
  {
   "cell_type": "code",
   "execution_count": 6,
   "metadata": {},
   "outputs": [
    {
     "name": "stdout",
     "output_type": "stream",
     "text": [
      "[1 2 3]\n",
      "<class 'numpy.ndarray'>\n"
     ]
    }
   ],
   "source": [
    "import numpy as np\n",
    "\n",
    "a = [1,2,3] # list\n",
    "a = (1,2,3) # tuple\n",
    "a = {1,2,3} # set\n",
    "a = {1: 1, 2: 2, 3: 3} # dict\n",
    "a = np.array([1,2,3]) # numpy.ndarray\n",
    "print(a)\n",
    "print(type(a))"
   ]
  },
  {
   "cell_type": "code",
   "execution_count": 15,
   "metadata": {},
   "outputs": [
    {
     "name": "stdout",
     "output_type": "stream",
     "text": [
      "[2]\n",
      "<class 'numpy.ndarray'>\n"
     ]
    }
   ],
   "source": [
    "a = 1 + 1\n",
    "a = 1. + 1.\n",
    "a = 1. + 1\n",
    "a = '1' + '1'\n",
    "a = [1] + [1]\n",
    "a = np.array([1]) + np.array([1])\n",
    "print(a)\n",
    "print(type(a))"
   ]
  },
  {
   "cell_type": "code",
   "execution_count": 17,
   "metadata": {},
   "outputs": [
    {
     "name": "stdout",
     "output_type": "stream",
     "text": [
      "<class '__main__.One_Plus_One'>\n",
      "<class '__main__.One_Plus_One'>\n",
      "일더하기 일은 귀요미\n",
      "<class 'str'>\n"
     ]
    }
   ],
   "source": [
    "class One_Plus_One:\n",
    "    \n",
    "    def __init__(self, string):\n",
    "        self.string = string\n",
    "        \n",
    "    def __add__(self, other):\n",
    "        if (self.string=='1') and (other.string=='1'):\n",
    "            return '일더하기 일은 귀요미'\n",
    "        \n",
    "\n",
    "a1 = One_Plus_One('1')\n",
    "a2 = One_Plus_One('1')\n",
    "print(type(a1))\n",
    "print(type(a2))\n",
    "\n",
    "a = a1 + a2\n",
    "print(a)\n",
    "print(type(a))"
   ]
  },
  {
   "cell_type": "code",
   "execution_count": null,
   "metadata": {},
   "outputs": [],
   "source": []
  }
 ],
 "metadata": {
  "kernelspec": {
   "display_name": "Python 3",
   "language": "python",
   "name": "python3"
  },
  "language_info": {
   "codemirror_mode": {
    "name": "ipython",
    "version": 3
   },
   "file_extension": ".py",
   "mimetype": "text/x-python",
   "name": "python",
   "nbconvert_exporter": "python",
   "pygments_lexer": "ipython3",
   "version": "3.7.3"
  }
 },
 "nbformat": 4,
 "nbformat_minor": 2
}
