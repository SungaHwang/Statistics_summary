{
 "cells": [
  {
   "cell_type": "markdown",
   "metadata": {},
   "source": [
    "[khanacademy](https://www.khanacademy.org/math/ap-statistics/analyzing-categorical-ap/stats-two-way-tables/v/two-way-frequency-tables-and-venn-diagrams?modal=1)"
   ]
  },
  {
   "cell_type": "markdown",
   "metadata": {},
   "source": [
    "<div align=\"center\"><img src=\"img/Screen Shot 2019-08-10 at 10.37.42 AM.png\" width=\"100%\" height=\"30%\"></div>"
   ]
  },
  {
   "cell_type": "code",
   "execution_count": 1,
   "metadata": {},
   "outputs": [
    {
     "name": "stdout",
     "output_type": "stream",
     "text": [
      "   chocolate coconut\n",
      "0        yes     yes\n",
      "1        yes     yes\n",
      "2        yes     yes\n",
      "3        yes      no\n",
      "4        yes      no\n",
      "5        yes      no\n",
      "6        yes      no\n",
      "7        yes      no\n",
      "8        yes      no\n",
      "9         no     yes\n",
      "10        no      no\n",
      "11        no      no\n"
     ]
    }
   ],
   "source": [
    "import pandas as pd\n",
    "\n",
    "data = {\n",
    "    'chocolate': ['yes','yes','yes','yes','yes','yes','yes','yes','yes','no','no','no'],\n",
    "    'coconut': ['yes','yes','yes','no','no','no','no','no','no','yes','no','no']\n",
    "    }\n",
    "\n",
    "df = pd.DataFrame(data)\n",
    "print(df)"
   ]
  },
  {
   "cell_type": "code",
   "execution_count": 2,
   "metadata": {},
   "outputs": [
    {
     "name": "stdout",
     "output_type": "stream",
     "text": [
      "chocolate  coconut\n",
      "no         no         2\n",
      "           yes        1\n",
      "yes        no         6\n",
      "           yes        3\n",
      "dtype: int64\n"
     ]
    }
   ],
   "source": [
    "g = df.groupby(['chocolate', 'coconut'])\n",
    "print(g.size())"
   ]
  },
  {
   "cell_type": "code",
   "execution_count": 3,
   "metadata": {},
   "outputs": [
    {
     "name": "stdout",
     "output_type": "stream",
     "text": [
      "2\n",
      "1\n",
      "6\n",
      "3\n"
     ]
    }
   ],
   "source": [
    "for i in range(4):\n",
    "    print(g.size()[i])"
   ]
  },
  {
   "cell_type": "code",
   "execution_count": 10,
   "metadata": {},
   "outputs": [
    {
     "name": "stdout",
     "output_type": "stream",
     "text": [
      "coconut    no  yes  TOTAL\n",
      "chocolate                \n",
      "no          2    1      3\n",
      "yes         6    3      9\n",
      "TOTAL       8    4     12\n"
     ]
    }
   ],
   "source": [
    "import numpy as np\n",
    "\n",
    "g = pd.crosstab(df.chocolate, df.coconut, rownames=['chocolate'], colnames=['coconut'])\n",
    "g.loc['TOTAL',:] = g.sum()\n",
    "g.loc[:,'TOTAL'] = g.sum(axis=1) \n",
    "g = g.astype(np.int)\n",
    "print(g)"
   ]
  },
  {
   "cell_type": "code",
   "execution_count": null,
   "metadata": {},
   "outputs": [],
   "source": []
  }
 ],
 "metadata": {
  "kernelspec": {
   "display_name": "Python 3",
   "language": "python",
   "name": "python3"
  },
  "language_info": {
   "codemirror_mode": {
    "name": "ipython",
    "version": 3
   },
   "file_extension": ".py",
   "mimetype": "text/x-python",
   "name": "python",
   "nbconvert_exporter": "python",
   "pygments_lexer": "ipython3",
   "version": "3.7.3"
  }
 },
 "nbformat": 4,
 "nbformat_minor": 2
}
