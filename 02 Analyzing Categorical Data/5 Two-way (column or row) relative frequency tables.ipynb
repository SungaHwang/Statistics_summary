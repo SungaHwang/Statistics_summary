{
 "cells": [
  {
   "cell_type": "markdown",
   "metadata": {},
   "source": [
    "[khanacademy](https://www.khanacademy.org/math/ap-statistics/analyzing-categorical-ap/stats-two-way-tables/v/two-way-relative-frequency-tables?modal=1)"
   ]
  },
  {
   "cell_type": "markdown",
   "metadata": {},
   "source": [
    "<div align=\"center\"><img src=\"img/Screen Shot 2019-08-10 at 10.42.22 AM.png\" width=\"100%\" height=\"30%\"></div>"
   ]
  },
  {
   "cell_type": "code",
   "execution_count": 1,
   "metadata": {},
   "outputs": [
    {
     "name": "stdout",
     "output_type": "stream",
     "text": [
      "     SUV Accident\n",
      "0    yes      yes\n",
      "1    yes      yes\n",
      "2    yes      yes\n",
      "3    yes      yes\n",
      "4    yes      yes\n",
      "5    yes      yes\n",
      "6    yes      yes\n",
      "7    yes      yes\n",
      "8    yes      yes\n",
      "9    yes      yes\n",
      "10   yes      yes\n",
      "11   yes      yes\n",
      "12   yes      yes\n",
      "13   yes      yes\n",
      "14   yes      yes\n",
      "15   yes      yes\n",
      "16   yes      yes\n",
      "17   yes      yes\n",
      "18   yes      yes\n",
      "19   yes      yes\n",
      "20   yes      yes\n",
      "21   yes      yes\n",
      "22   yes      yes\n",
      "23   yes      yes\n",
      "24   yes      yes\n",
      "25   yes      yes\n",
      "26   yes      yes\n",
      "27   yes      yes\n",
      "28    no      yes\n",
      "29    no      yes\n",
      "..   ...      ...\n",
      "234   no       no\n",
      "235   no       no\n",
      "236   no       no\n",
      "237   no       no\n",
      "238   no       no\n",
      "239   no       no\n",
      "240   no       no\n",
      "241   no       no\n",
      "242   no       no\n",
      "243   no       no\n",
      "244   no       no\n",
      "245   no       no\n",
      "246   no       no\n",
      "247   no       no\n",
      "248   no       no\n",
      "249   no       no\n",
      "250   no       no\n",
      "251   no       no\n",
      "252   no       no\n",
      "253   no       no\n",
      "254   no       no\n",
      "255   no       no\n",
      "256   no       no\n",
      "257   no       no\n",
      "258   no       no\n",
      "259   no       no\n",
      "260   no       no\n",
      "261   no       no\n",
      "262   no       no\n",
      "263   no       no\n",
      "\n",
      "[264 rows x 2 columns]\n"
     ]
    }
   ],
   "source": [
    "import pandas as pd\n",
    "\n",
    "data = {\n",
    "    'SUV': 28*['yes'] + 35*['no'] + 97*['yes'] + 104*['no'],\n",
    "    'Accident': 28*['yes'] + 35*['yes'] + 97*['no'] + 104*['no']\n",
    "    }\n",
    "\n",
    "df = pd.DataFrame(data)\n",
    "print(df)"
   ]
  },
  {
   "cell_type": "code",
   "execution_count": 2,
   "metadata": {},
   "outputs": [
    {
     "name": "stdout",
     "output_type": "stream",
     "text": [
      "SUV  Accident\n",
      "no   no          104\n",
      "     yes          35\n",
      "yes  no           97\n",
      "     yes          28\n",
      "dtype: int64\n"
     ]
    }
   ],
   "source": [
    "g = df.groupby(['SUV', 'Accident'])\n",
    "print(g.size())"
   ]
  },
  {
   "cell_type": "code",
   "execution_count": 3,
   "metadata": {},
   "outputs": [
    {
     "name": "stdout",
     "output_type": "stream",
     "text": [
      "104\n",
      "35\n",
      "97\n",
      "28\n"
     ]
    }
   ],
   "source": [
    "for i in range(4):\n",
    "    print(g.size()[i])"
   ]
  },
  {
   "cell_type": "code",
   "execution_count": 4,
   "metadata": {},
   "outputs": [
    {
     "name": "stdout",
     "output_type": "stream",
     "text": [
      "Accident   no  yes  TOTAL\n",
      "SUV                      \n",
      "no        104   35    139\n",
      "yes        97   28    125\n",
      "TOTAL     201   63    264\n"
     ]
    }
   ],
   "source": [
    "import numpy as np\n",
    "\n",
    "g = pd.crosstab(df.SUV, df.Accident, rownames=['SUV'], colnames=['Accident'])\n",
    "g.loc['TOTAL',:] = g.sum()\n",
    "g.loc[:,'TOTAL'] = g.sum(axis=1) \n",
    "g = g.astype(np.int)\n",
    "print(g)"
   ]
  },
  {
   "cell_type": "code",
   "execution_count": 5,
   "metadata": {},
   "outputs": [
    {
     "name": "stdout",
     "output_type": "stream",
     "text": [
      "Accident        no       yes     TOTAL\n",
      "SUV                                   \n",
      "no        0.517413  0.555556  0.526515\n",
      "yes       0.482587  0.444444  0.473485\n",
      "TOTAL     1.000000  1.000000  1.000000\n"
     ]
    }
   ],
   "source": [
    "h = g.copy()\n",
    "h = h / h.loc['TOTAL',:] \n",
    "print(h)"
   ]
  },
  {
   "cell_type": "code",
   "execution_count": 10,
   "metadata": {},
   "outputs": [
    {
     "name": "stdout",
     "output_type": "stream",
     "text": [
      "Accident        no       yes  TOTAL\n",
      "SUV                                \n",
      "no        0.748201  0.251799    1.0\n",
      "yes       0.776000  0.224000    1.0\n",
      "TOTAL     0.761364  0.238636    1.0\n"
     ]
    }
   ],
   "source": [
    "i = g.copy()\n",
    "i = i / np.array(i.loc[:,'TOTAL']).reshape(-1,1) \n",
    "print(i)"
   ]
  },
  {
   "cell_type": "code",
   "execution_count": null,
   "metadata": {},
   "outputs": [],
   "source": []
  }
 ],
 "metadata": {
  "kernelspec": {
   "display_name": "Python 3",
   "language": "python",
   "name": "python3"
  },
  "language_info": {
   "codemirror_mode": {
    "name": "ipython",
    "version": 3
   },
   "file_extension": ".py",
   "mimetype": "text/x-python",
   "name": "python",
   "nbconvert_exporter": "python",
   "pygments_lexer": "ipython3",
   "version": "3.7.3"
  }
 },
 "nbformat": 4,
 "nbformat_minor": 2
}
