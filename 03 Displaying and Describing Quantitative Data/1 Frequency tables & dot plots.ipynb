{
 "cells": [
  {
   "cell_type": "markdown",
   "metadata": {},
   "source": [
    "[khanacademy](https://www.khanacademy.org/math/ap-statistics/quantitative-data-ap/frequency-tables-dot-plots/v/frequency-tables-and-dot-plots?modal=1)"
   ]
  },
  {
   "cell_type": "markdown",
   "metadata": {},
   "source": [
    "<div align=\"center\"><img src=\"img/Screen Shot 2019-08-12 at 10.22.51 AM.png\" width=\"100%\" height=\"30%\"></div>"
   ]
  },
  {
   "cell_type": "code",
   "execution_count": 1,
   "metadata": {},
   "outputs": [],
   "source": [
    "%matplotlib inline"
   ]
  },
  {
   "cell_type": "code",
   "execution_count": 13,
   "metadata": {},
   "outputs": [
    {
     "name": "stdout",
     "output_type": "stream",
     "text": [
      "    Age\n",
      "0     5\n",
      "1     7\n",
      "2     5\n",
      "3     9\n",
      "4     7\n",
      "5     7\n",
      "6     6\n",
      "7     9\n",
      "8     9\n",
      "9     9\n",
      "10   10\n",
      "11   12\n",
      "12   12\n",
      "13    7\n"
     ]
    }
   ],
   "source": [
    "import pandas as pd\n",
    "\n",
    "data = {'Age': [5,7,5,9,7,7,6,9,9,9,10,12,12,7]}\n",
    "df = pd.DataFrame(data)\n",
    "print(df)"
   ]
  },
  {
   "cell_type": "code",
   "execution_count": 18,
   "metadata": {},
   "outputs": [
    {
     "name": "stdout",
     "output_type": "stream",
     "text": [
      "9     4\n",
      "7     4\n",
      "12    2\n",
      "5     2\n",
      "10    1\n",
      "6     1\n",
      "Name: Age, dtype: int64\n"
     ]
    }
   ],
   "source": [
    "# frequency-table\n",
    "counts = df['Age'].value_counts()\n",
    "print(counts)"
   ]
  },
  {
   "cell_type": "code",
   "execution_count": 24,
   "metadata": {},
   "outputs": [
    {
     "data": {
      "image/png": "[encoded data removed]",
      "text/plain": [
       "<Figure size 432x288 with 1 Axes>"
      ]
     },
     "metadata": {
      "needs_background": "light"
     },
     "output_type": "display_data"
    }
   ],
   "source": [
    "# histogram\n",
    "import numpy as np\n",
    "import matplotlib.pyplot as plt\n",
    "df['Age'].plot(kind='hist', bins=np.array([4,5,6,7,8,9])+0.5)\n",
    "plt.yticks([0,1,2,3,4])\n",
    "plt.show()"
   ]
  },
  {
   "cell_type": "code",
   "execution_count": 43,
   "metadata": {},
   "outputs": [
    {
     "data": {
      "image/png": "[encoded data removed]",
      "text/plain": [
       "<Figure size 432x288 with 1 Axes>"
      ]
     },
     "metadata": {
      "needs_background": "light"
     },
     "output_type": "display_data"
    }
   ],
   "source": [
    "# https://stackoverflow.com/questions/49703938/how-to-create-a-dot-plot-in-matplotlib-not-a-scatter-plot\n",
    "# dot plot\n",
    "import numpy as np\n",
    "import matplotlib.pyplot as plt\n",
    "\n",
    "data = df.values.reshape(-1)\n",
    "bins = np.arange(13)-0.5\n",
    "\n",
    "hist, edges = np.histogram(data, bins=bins)\n",
    "#hist, edges, _ = plt.hist(data, bins=bins)\n",
    "\n",
    "y = np.arange(1,hist.max()+1) # [1,2,3,4]\n",
    "x = np.arange(12) # [0,1,2,3,4,5,6,7,8,9,10,11]\n",
    "X, Y = np.meshgrid(x, y)\n",
    "\n",
    "Y = Y.astype(np.float)\n",
    "Y[Y>hist] = np.nan\n",
    "\n",
    "plt.scatter(X, Y)\n",
    "plt.xlim([0, 15])\n",
    "plt.show()"
   ]
  },
  {
   "cell_type": "code",
   "execution_count": 47,
   "metadata": {},
   "outputs": [
    {
     "name": "stdout",
     "output_type": "stream",
     "text": [
      "             Age\n",
      "count  14.000000\n",
      "mean    8.142857\n",
      "std     2.248320\n",
      "min     5.000000\n",
      "25%     7.000000\n",
      "50%     8.000000\n",
      "75%     9.000000\n",
      "max    12.000000\n",
      "Range: 7\n"
     ]
    }
   ],
   "source": [
    "print(df.describe())\n",
    "Range = df['Age'].max() - df['Age'].min()\n",
    "print('Range: {}'.format(Range))"
   ]
  },
  {
   "cell_type": "code",
   "execution_count": 51,
   "metadata": {},
   "outputs": [
    {
     "name": "stdout",
     "output_type": "stream",
     "text": [
      "3\n"
     ]
    }
   ],
   "source": [
    "print(np.sum(df.values > 9))"
   ]
  }
 ],
 "metadata": {
  "kernelspec": {
   "display_name": "Python 3",
   "language": "python",
   "name": "python3"
  },
  "language_info": {
   "codemirror_mode": {
    "name": "ipython",
    "version": 3
   },
   "file_extension": ".py",
   "mimetype": "text/x-python",
   "name": "python",
   "nbconvert_exporter": "python",
   "pygments_lexer": "ipython3",
   "version": "3.7.3"
  }
 },
 "nbformat": 4,
 "nbformat_minor": 2
}
