{
 "cells": [
  {
   "cell_type": "markdown",
   "metadata": {},
   "source": [
    "[khanacademy](https://www.khanacademy.org/math/ap-statistics/summarizing-quantitative-data-ap/measuring-spread-quantitative/v/calculating-interquartile-range-iqr?modal=1)\n",
    "[pandas.DataFrame.quantile](https://pandas.pydata.org/pandas-docs/stable/reference/api/pandas.DataFrame.quantile.html)"
   ]
  },
  {
   "cell_type": "markdown",
   "metadata": {},
   "source": [
    "<div align=\"center\"><img src=\"img/Screen Shot 2019-08-12 at 1.55.11 PM.png\" width=\"100%\" height=\"30%\"></div>\n",
    "<div align=\"center\"><img src=\"img/Screen Shot 2019-08-12 at 1.55.32 PM.png\" width=\"100%\" height=\"30%\"></div>"
   ]
  },
  {
   "cell_type": "code",
   "execution_count": 35,
   "metadata": {},
   "outputs": [
    {
     "name": "stdout",
     "output_type": "stream",
     "text": [
      "               x\n",
      "count   9.000000\n",
      "mean    9.222222\n",
      "std     4.146618\n",
      "min     4.000000\n",
      "25%     6.000000\n",
      "50%    10.000000\n",
      "75%    12.000000\n",
      "max    15.000000\n"
     ]
    }
   ],
   "source": [
    "import pandas as pd\n",
    "\n",
    "data = {'x': [4,4,6,7,10,11,12,14,15]}\n",
    "df = pd.DataFrame(data)\n",
    "print(df.describe())"
   ]
  },
  {
   "cell_type": "code",
   "execution_count": 41,
   "metadata": {},
   "outputs": [
    {
     "name": "stdout",
     "output_type": "stream",
     "text": [
      "x    12.0\n",
      "Name: 0.75, dtype: float64\n",
      "x    12\n",
      "Name: 0.75, dtype: int64\n"
     ]
    }
   ],
   "source": [
    "print(df.quantile(q=0.75))\n",
    "print(df.quantile(q=0.75, interpolation='nearest'))"
   ]
  },
  {
   "cell_type": "code",
   "execution_count": 25,
   "metadata": {},
   "outputs": [
    {
     "name": "stdout",
     "output_type": "stream",
     "text": [
      "6.0\n"
     ]
    }
   ],
   "source": [
    "import scipy.stats as stats\n",
    "\n",
    "print(stats.iqr(df))"
   ]
  },
  {
   "cell_type": "code",
   "execution_count": 34,
   "metadata": {},
   "outputs": [
    {
     "name": "stdout",
     "output_type": "stream",
     "text": [
      "    x  Rank  Empirical_CDF\n",
      "0   4     1       0.111111\n",
      "1   4     2       0.222222\n",
      "2   6     3       0.333333\n",
      "3   7     4       0.444444\n",
      "4  10     5       0.555556\n",
      "5  11     6       0.666667\n",
      "6  12     7       0.777778\n",
      "7  14     8       0.888889\n",
      "8  15     9       1.000000\n",
      "\n",
      "6\n",
      "10\n",
      "12\n"
     ]
    }
   ],
   "source": [
    "import pandas as pd\n",
    "\n",
    "data = {'x': [4,4,6,7,10,11,12,14,15]}\n",
    "df = pd.DataFrame(data).sort_values('x')\n",
    "df['Rank'] = df.index + 1\n",
    "df['Empirical_CDF'] = df['Rank'] / df.shape[0]\n",
    "print(df)\n",
    "print()\n",
    "\n",
    "print(df.x[df.Empirical_CDF>=0.25].reset_index(drop=True)[0])\n",
    "print(df.x[df.Empirical_CDF>=0.50].reset_index(drop=True)[0])\n",
    "print(df.x[df.Empirical_CDF>=0.75].reset_index(drop=True)[0])"
   ]
  },
  {
   "cell_type": "code",
   "execution_count": null,
   "metadata": {},
   "outputs": [],
   "source": []
  }
 ],
 "metadata": {
  "kernelspec": {
   "display_name": "Python 3",
   "language": "python",
   "name": "python3"
  },
  "language_info": {
   "codemirror_mode": {
    "name": "ipython",
    "version": 3
   },
   "file_extension": ".py",
   "mimetype": "text/x-python",
   "name": "python",
   "nbconvert_exporter": "python",
   "pygments_lexer": "ipython3",
   "version": "3.7.3"
  }
 },
 "nbformat": 4,
 "nbformat_minor": 2
}
