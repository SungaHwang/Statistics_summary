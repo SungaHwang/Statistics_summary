{
 "cells": [
  {
   "cell_type": "markdown",
   "metadata": {},
   "source": [
    "[khanacademy](https://www.khanacademy.org/math/ap-statistics/summarizing-quantitative-data-ap/measuring-spread-quantitative/v/sample-variance?modal=1)\n",
    "[numpy.std](https://docs.scipy.org/doc/numpy/reference/generated/numpy.std.html)"
   ]
  },
  {
   "cell_type": "markdown",
   "metadata": {},
   "source": [
    "$$\\begin{array}{lll}\n",
    "\\mbox{Population Variance}&&\\displaystyle \\sigma^2=\\frac{\\sum_{i=1}^n(x_i-\\bar{x})^2}{n}\\\\\n",
    "\\mbox{Sample Variance}&&\\displaystyle S^2=\\frac{\\sum_{i=1}^n(x_i-\\bar{x})^2}{n-1}\\\\\n",
    "\\end{array}$$"
   ]
  },
  {
   "cell_type": "markdown",
   "metadata": {},
   "source": [
    "<div align=\"center\"><img src=\"img/Screen Shot 2019-08-12 at 12.15.53 PM.png\" width=\"100%\" height=\"30%\"></div>"
   ]
  },
  {
   "cell_type": "code",
   "execution_count": 6,
   "metadata": {},
   "outputs": [
    {
     "name": "stdout",
     "output_type": "stream",
     "text": [
      "2.0\n",
      "1.140175425099138\n",
      "1.3 1.140175425099138\n"
     ]
    }
   ],
   "source": [
    "import numpy as np\n",
    "\n",
    "x = np.array([1.5,2.5,4,2,1,1])\n",
    "print(x.mean())\n",
    "print(x.std(ddof=1))\n",
    "print(x.var(ddof=1), np.sqrt(x.var(ddof=1)))"
   ]
  },
  {
   "cell_type": "code",
   "execution_count": 7,
   "metadata": {},
   "outputs": [
    {
     "name": "stdout",
     "output_type": "stream",
     "text": [
      "1.140175425099138\n"
     ]
    }
   ],
   "source": [
    "n = x.shape[0]\n",
    "x_bar = np.sum(x) / n\n",
    "s_square = np.sum((x-x_bar)**2) / (n-1)\n",
    "s = np.sqrt(s_square)\n",
    "print(s)"
   ]
  },
  {
   "cell_type": "code",
   "execution_count": null,
   "metadata": {},
   "outputs": [],
   "source": []
  }
 ],
 "metadata": {
  "kernelspec": {
   "display_name": "Python 3",
   "language": "python",
   "name": "python3"
  },
  "language_info": {
   "codemirror_mode": {
    "name": "ipython",
    "version": 3
   },
   "file_extension": ".py",
   "mimetype": "text/x-python",
   "name": "python",
   "nbconvert_exporter": "python",
   "pygments_lexer": "ipython3",
   "version": "3.7.3"
  }
 },
 "nbformat": 4,
 "nbformat_minor": 2
}
