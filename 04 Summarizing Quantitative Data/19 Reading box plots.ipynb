{
 "cells": [
  {
   "cell_type": "markdown",
   "metadata": {},
   "source": [
    "[khanacademy](https://www.khanacademy.org/math/ap-statistics/summarizing-quantitative-data-ap/stats-box-whisker-plots/v/reading-box-and-whisker-plots?modal=1)"
   ]
  },
  {
   "cell_type": "markdown",
   "metadata": {},
   "source": [
    "<div align=\"center\"><img src=\"img/Screen Shot 2019-08-12 at 1.14.02 PM.png\" width=\"100%\" height=\"30%\"></div>"
   ]
  },
  {
   "cell_type": "markdown",
   "metadata": {},
   "source": [
    "<div align=\"center\"><img src=\"img/Screen Shot 2019-08-12 at 2.13.21 PM.png\" width=\"50%\" height=\"30%\"></div>\n",
    "\n",
    "https://socratic.org/questions/what-do-the-minimum-first-quartile-median-third-quartile-and-maximum-represent-o"
   ]
  },
  {
   "cell_type": "markdown",
   "metadata": {},
   "source": [
    "<div align=\"center\"><img src=\"img/Screen Shot 2019-08-12 at 2.19.05 PM.png\" width=\"30%\" height=\"30%\"></div>\n",
    "<div align=\"center\"><img src=\"img/Screen Shot 2019-08-12 at 2.19.21 PM.png\" width=\"30%\" height=\"30%\"></div>\n",
    "\n",
    "http://www.physics.csbsju.edu/stats/box2.html"
   ]
  },
  {
   "cell_type": "markdown",
   "metadata": {},
   "source": [
    "<div align=\"center\"><img src=\"img/Screen Shot 2019-08-12 at 2.17.10 PM.png\" width=\"100%\" height=\"30%\"></div>\n",
    "\n",
    "https://www.quora.com/How-do-quartiles-and-percentiles-relate"
   ]
  },
  {
   "cell_type": "code",
   "execution_count": null,
   "metadata": {},
   "outputs": [],
   "source": []
  }
 ],
 "metadata": {
  "kernelspec": {
   "display_name": "Python 3",
   "language": "python",
   "name": "python3"
  },
  "language_info": {
   "codemirror_mode": {
    "name": "ipython",
    "version": 3
   },
   "file_extension": ".py",
   "mimetype": "text/x-python",
   "name": "python",
   "nbconvert_exporter": "python",
   "pygments_lexer": "ipython3",
   "version": "3.7.3"
  }
 },
 "nbformat": 4,
 "nbformat_minor": 2
}
