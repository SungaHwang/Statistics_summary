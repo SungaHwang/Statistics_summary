{
 "cells": [
  {
   "cell_type": "markdown",
   "metadata": {},
   "source": [
    "[khanacademy](https://www.khanacademy.org/math/ap-statistics/density-curves-normal-distribution-ap/percentiles-cumulative-relative-frequency/v/calculating-percentile?modal=1)\n",
    "[datasciencemadesimple](http://www.datasciencemadesimple.com/percentile-rank-column-pandas-python-2/)\n",
    "[pandas.DataFrame.rank](https://pandas.pydata.org/pandas-docs/stable/reference/api/pandas.DataFrame.rank.html)"
   ]
  },
  {
   "cell_type": "markdown",
   "metadata": {},
   "source": [
    "<div align=\"center\"><img src=\"img/Screen Shot 2019-08-12 at 8.14.32 PM.png\" width=\"100%\" height=\"30%\"></div>\n",
    "<div align=\"center\"><img src=\"img/Screen Shot 2019-08-12 at 8.15.21 PM.png\" width=\"100%\" height=\"30%\"></div>"
   ]
  },
  {
   "cell_type": "code",
   "execution_count": 11,
   "metadata": {},
   "outputs": [
    {
     "name": "stdout",
     "output_type": "stream",
     "text": [
      "      Name  Score\n",
      "0   George     62\n",
      "1   Andrea     47\n",
      "2  micheal     55\n",
      "3   maggie     74\n",
      "4     Ravi     32\n",
      "5     Xien     77\n",
      "6    Jalpa     86\n",
      "\n",
      "      Name  Score  Rank  Percentile_Rank\n",
      "0   George     62   4.0         0.571429\n",
      "1   Andrea     47   2.0         0.285714\n",
      "2  micheal     55   3.0         0.428571\n",
      "3   maggie     74   5.0         0.714286\n",
      "4     Ravi     32   1.0         0.142857\n",
      "5     Xien     77   6.0         0.857143\n",
      "6    Jalpa     86   7.0         1.000000\n"
     ]
    }
   ],
   "source": [
    "import pandas as pd\n",
    "import numpy as np\n",
    " \n",
    "data = {\n",
    "    'Name':['George','Andrea','micheal','maggie','Ravi','Xien','Jalpa'],\n",
    "    'Score':[62,47,55,74,32,77,86]\n",
    "    } \n",
    "df = pd.DataFrame(data)\n",
    "print(df)\n",
    "print()\n",
    "\n",
    "df['Rank'] = df['Score'].rank()\n",
    "df['Percentile_Rank'] = df['Score'].rank(pct=True)\n",
    "print(df)"
   ]
  },
  {
   "cell_type": "markdown",
   "metadata": {},
   "source": [
    "[Code Project] 위 스크린샷의 질문을 파이썬을 이용 답하라."
   ]
  },
  {
   "cell_type": "code",
   "execution_count": 21,
   "metadata": {},
   "outputs": [
    {
     "name": "stdout",
     "output_type": "stream",
     "text": [
      "      Name  Score\n",
      "0   George     62\n",
      "1   Andrea     47\n",
      "2  micheal     55\n",
      "3   maggie     74\n",
      "4     Ravi     32\n",
      "5     Xien     77\n",
      "6    Jalpa     86\n",
      "\n",
      "      Name  Score\n",
      "4     Ravi     32\n",
      "1   Andrea     47\n",
      "2  micheal     55\n",
      "0   George     62\n",
      "3   maggie     74\n",
      "5     Xien     77\n",
      "6    Jalpa     86\n",
      "\n",
      "   index     Name  Score\n",
      "0      4     Ravi     32\n",
      "1      1   Andrea     47\n",
      "2      2  micheal     55\n",
      "3      0   George     62\n",
      "4      3   maggie     74\n",
      "5      5     Xien     77\n",
      "6      6    Jalpa     86\n",
      "\n",
      "   index     Name  Score  Rank\n",
      "0      4     Ravi     32     1\n",
      "1      1   Andrea     47     2\n",
      "2      2  micheal     55     3\n",
      "3      0   George     62     4\n",
      "4      3   maggie     74     5\n",
      "5      5     Xien     77     6\n",
      "6      6    Jalpa     86     7\n",
      "\n",
      "   index     Name  Score  Rank  Empirical_CDF\n",
      "0      4     Ravi     32     1       0.142857\n",
      "1      1   Andrea     47     2       0.285714\n",
      "2      2  micheal     55     3       0.428571\n",
      "3      0   George     62     4       0.571429\n",
      "4      3   maggie     74     5       0.714286\n",
      "5      5     Xien     77     6       0.857143\n",
      "6      6    Jalpa     86     7       1.000000\n",
      "\n",
      "          Name  Score  Rank  Empirical_CDF\n",
      "index                                     \n",
      "4         Ravi     32     1       0.142857\n",
      "1       Andrea     47     2       0.285714\n",
      "2      micheal     55     3       0.428571\n",
      "0       George     62     4       0.571429\n",
      "3       maggie     74     5       0.714286\n",
      "5         Xien     77     6       0.857143\n",
      "6        Jalpa     86     7       1.000000\n",
      "\n",
      "          Name  Score  Rank  Empirical_CDF\n",
      "index                                     \n",
      "0       George     62     4       0.571429\n",
      "1       Andrea     47     2       0.285714\n",
      "2      micheal     55     3       0.428571\n",
      "3       maggie     74     5       0.714286\n",
      "4         Ravi     32     1       0.142857\n",
      "5         Xien     77     6       0.857143\n",
      "6        Jalpa     86     7       1.000000\n",
      "\n"
     ]
    }
   ],
   "source": [
    "import pandas as pd\n",
    "import numpy as np\n",
    " \n",
    "data = {\n",
    "    'Name':['George','Andrea','micheal','maggie','Ravi','Xien','Jalpa'],\n",
    "    'Score':[62,47,55,74,32,77,86]\n",
    "    } \n",
    "df = pd.DataFrame(data)\n",
    "print(df)\n",
    "print()\n",
    "\n",
    "df = df.sort_values('Score')\n",
    "print(df)\n",
    "print()\n",
    "\n",
    "df = df.reset_index()\n",
    "print(df)\n",
    "print()\n",
    "\n",
    "df['Rank'] = df.index + 1\n",
    "print(df)\n",
    "print()\n",
    "\n",
    "df['Empirical_CDF'] = df['Rank'] / df['Rank'].shape[0]\n",
    "print(df)\n",
    "print()\n",
    "\n",
    "df = df.set_index('index')\n",
    "print(df)\n",
    "print()\n",
    "\n",
    "df = df.sort_index()\n",
    "print(df)\n",
    "print()"
   ]
  },
  {
   "cell_type": "code",
   "execution_count": null,
   "metadata": {},
   "outputs": [],
   "source": []
  }
 ],
 "metadata": {
  "kernelspec": {
   "display_name": "Python [default]",
   "language": "python",
   "name": "python3"
  },
  "language_info": {
   "codemirror_mode": {
    "name": "ipython",
    "version": 3
   },
   "file_extension": ".py",
   "mimetype": "text/x-python",
   "name": "python",
   "nbconvert_exporter": "python",
   "pygments_lexer": "ipython3",
   "version": "3.5.5"
  }
 },
 "nbformat": 4,
 "nbformat_minor": 2
}
