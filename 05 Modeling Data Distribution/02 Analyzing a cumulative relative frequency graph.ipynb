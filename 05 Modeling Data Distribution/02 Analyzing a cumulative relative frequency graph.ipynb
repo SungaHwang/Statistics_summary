{
 "cells": [
  {
   "cell_type": "markdown",
   "metadata": {},
   "source": [
    "[khanacademy](https://www.khanacademy.org/math/ap-statistics/density-curves-normal-distribution-ap/percentiles-cumulative-relative-frequency/v/analyzing-a-cumulative-relative-frequency-graph?modal=1)"
   ]
  },
  {
   "cell_type": "markdown",
   "metadata": {},
   "source": [
    "<div align=\"center\"><img src=\"img/Screen Shot 2019-08-12 at 8.18.53 PM.png\" width=\"100%\" height=\"30%\"></div>\n",
    "<div align=\"center\"><img src=\"img/Screen Shot 2019-08-12 at 8.20.11 PM.png\" width=\"100%\" height=\"30%\"></div>\n",
    "<div align=\"center\"><img src=\"img/Screen Shot 2019-08-12 at 8.21.53 PM.png\" width=\"100%\" height=\"30%\"></div>"
   ]
  },
  {
   "cell_type": "code",
   "execution_count": 2,
   "metadata": {},
   "outputs": [],
   "source": [
    "%matplotlib inline"
   ]
  },
  {
   "cell_type": "code",
   "execution_count": 13,
   "metadata": {},
   "outputs": [
    {
     "name": "stdout",
     "output_type": "stream",
     "text": [
      "      Name  Score\n",
      "0   George     62\n",
      "1   Andrea     47\n",
      "2  micheal     55\n",
      "3   maggie     74\n",
      "4     Ravi     32\n",
      "5     Xien     77\n",
      "6    Jalpa     86\n",
      "\n",
      "      Name  Score  Rank  Percentile_Rank\n",
      "4     Ravi     32   1.0         0.142857\n",
      "1   Andrea     47   2.0         0.285714\n",
      "2  micheal     55   3.0         0.428571\n",
      "0   George     62   4.0         0.571429\n",
      "3   maggie     74   5.0         0.714286\n",
      "5     Xien     77   6.0         0.857143\n",
      "6    Jalpa     86   7.0         1.000000\n"
     ]
    },
    {
     "data": {
      "image/png": "[encoded data removed]",
      "text/plain": [
       "<Figure size 432x288 with 1 Axes>"
      ]
     },
     "metadata": {
      "needs_background": "light"
     },
     "output_type": "display_data"
    }
   ],
   "source": [
    "import pandas as pd\n",
    "import numpy as np\n",
    "import matplotlib.pyplot as plt\n",
    " \n",
    "data = {\n",
    "    'Name':['George','Andrea','micheal','maggie','Ravi','Xien','Jalpa'],\n",
    "    'Score':[62,47,55,74,32,77,86]\n",
    "    } \n",
    "df = pd.DataFrame(data)\n",
    "print(df)\n",
    "print()\n",
    "\n",
    "df['Rank'] = df['Score'].rank()\n",
    "df['Percentile_Rank'] = df['Score'].rank(pct=True)\n",
    "df = df.sort_values('Score')\n",
    "print(df)\n",
    "\n",
    "plt.plot(df['Score'], df['Percentile_Rank'], '-o')\n",
    "plt.xlabel('Score')\n",
    "plt.ylabel('Percentile_Rank')\n",
    "plt.show()"
   ]
  },
  {
   "cell_type": "code",
   "execution_count": null,
   "metadata": {},
   "outputs": [],
   "source": []
  }
 ],
 "metadata": {
  "kernelspec": {
   "display_name": "Python 3",
   "language": "python",
   "name": "python3"
  },
  "language_info": {
   "codemirror_mode": {
    "name": "ipython",
    "version": 3
   },
   "file_extension": ".py",
   "mimetype": "text/x-python",
   "name": "python",
   "nbconvert_exporter": "python",
   "pygments_lexer": "ipython3",
   "version": "3.7.3"
  }
 },
 "nbformat": 4,
 "nbformat_minor": 2
}
