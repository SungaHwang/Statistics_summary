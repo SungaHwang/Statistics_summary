{
 "cells": [
  {
   "cell_type": "markdown",
   "metadata": {},
   "source": [
    "[khanacademy](https://www.khanacademy.org/math/ap-statistics/gathering-data-ap/sampling-methods/v/techniques-for-generating-a-simple-random-sample?modal=1)"
   ]
  },
  {
   "cell_type": "markdown",
   "metadata": {},
   "source": [
    "<div align=\"center\"><img src=\"img/Screen Shot 2019-08-13 at 11.06.01 AM.png\" width=\"100%\" height=\"30%\"></div>"
   ]
  },
  {
   "cell_type": "code",
   "execution_count": 10,
   "metadata": {},
   "outputs": [
    {
     "name": "stdout",
     "output_type": "stream",
     "text": [
      "[[ 0.25077014 -2.85668124  0.38102243]\n",
      " [ 1.66073638 -0.79028141 -2.06996645]]\n",
      "[[ 0.07993134 -1.12416339 -0.28961701]\n",
      " [-0.37046242 -0.51843836  1.08527389]]\n",
      "-0.7432394926599724\n"
     ]
    }
   ],
   "source": [
    "import numpy as np\n",
    "import scipy.stats as stats\n",
    "import random\n",
    "\n",
    "print(np.random.normal(size=(2,3)))\n",
    "print(stats.norm.rvs(size=(2,3)))\n",
    "print(random.gauss(0,1))"
   ]
  },
  {
   "cell_type": "code",
   "execution_count": 18,
   "metadata": {},
   "outputs": [
    {
     "name": "stdout",
     "output_type": "stream",
     "text": [
      "N\n",
      "E\n"
     ]
    }
   ],
   "source": [
    "import random\n",
    "import numpy as np\n",
    "\n",
    "if 1:\n",
    "    A = ['N', 'E', 'W', 'S']\n",
    "elif 1:\n",
    "    A = [[0,1], [1,0], [-1,0], [0,-1]]\n",
    "\n",
    "print(random.choice(A))\n",
    "print(np.random.choice(A, p=[0.1,0.1,0.1,0.7]))"
   ]
  },
  {
   "cell_type": "code",
   "execution_count": 21,
   "metadata": {},
   "outputs": [
    {
     "name": "stdout",
     "output_type": "stream",
     "text": [
      "['N', 'S']\n"
     ]
    }
   ],
   "source": [
    "import random\n",
    "A = ['N', 'E', 'W', 'S']\n",
    "print(random.sample(A,2))"
   ]
  },
  {
   "cell_type": "code",
   "execution_count": null,
   "metadata": {},
   "outputs": [],
   "source": []
  }
 ],
 "metadata": {
  "kernelspec": {
   "display_name": "Python 3",
   "language": "python",
   "name": "python3"
  },
  "language_info": {
   "codemirror_mode": {
    "name": "ipython",
    "version": 3
   },
   "file_extension": ".py",
   "mimetype": "text/x-python",
   "name": "python",
   "nbconvert_exporter": "python",
   "pygments_lexer": "ipython3",
   "version": "3.7.3"
  }
 },
 "nbformat": 4,
 "nbformat_minor": 2
}
