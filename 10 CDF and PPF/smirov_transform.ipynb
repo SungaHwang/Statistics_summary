{
 "cells": [
  {
   "cell_type": "code",
   "execution_count": 1,
   "metadata": {},
   "outputs": [],
   "source": [
    "%matplotlib inline"
   ]
  },
  {
   "cell_type": "code",
   "execution_count": 6,
   "metadata": {},
   "outputs": [
    {
     "data": {
      "image/png": "[encoded data removed]",
      "text/plain": [
       "<Figure size 432x288 with 1 Axes>"
      ]
     },
     "metadata": {
      "needs_background": "light"
     },
     "output_type": "display_data"
    }
   ],
   "source": [
    "import numpy as np\n",
    "import matplotlib.pyplot as plt\n",
    "\n",
    "# target distribution B(n,p)\n",
    "n = 30\n",
    "p = 0.5\n",
    "\n",
    "# generate uniform random variables \n",
    "n_sim = 10000\n",
    "u = np.random.uniform(0.,1.,size=(n_sim,n))\n",
    "#print(u)\n",
    "\n",
    "# generate B(p) using smirov transform\n",
    "x = np.zeros_like(u)\n",
    "x[u>1-p] = 1.\n",
    "#print(x)\n",
    "\n",
    "# generate B(n,p) by summing B(p)\n",
    "x = np.sum(x, axis=1)\n",
    "\n",
    "bins = np.arange(n+2)-0.5\n",
    "plt.hist(x, bins=bins, density=True)\n",
    "plt.show()"
   ]
  },
  {
   "cell_type": "code",
   "execution_count": null,
   "metadata": {},
   "outputs": [],
   "source": []
  }
 ],
 "metadata": {
  "kernelspec": {
   "display_name": "Python 3",
   "language": "python",
   "name": "python3"
  },
  "language_info": {
   "codemirror_mode": {
    "name": "ipython",
    "version": 3
   },
   "file_extension": ".py",
   "mimetype": "text/x-python",
   "name": "python",
   "nbconvert_exporter": "python",
   "pygments_lexer": "ipython3",
   "version": "3.7.3"
  }
 },
 "nbformat": 4,
 "nbformat_minor": 2
}
