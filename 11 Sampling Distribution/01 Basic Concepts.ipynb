{
 "cells": [
  {
   "cell_type": "markdown",
   "metadata": {},
   "source": [
    "$$\n",
    "\\text{Population $\\Omega=\\{x_\\alpha\\}$}\n",
    "\\quad\\rightarrow\\quad\n",
    "\\text{Samples ${\\bf x}=[x_1,x_2,\\ldots,x_n]$}\n",
    "\\quad\\rightarrow\\quad\n",
    "\\text{Statistic $f({\\bf x})=f(x_1,x_2,\\ldots,x_n)$}\n",
    "$$"
   ]
  },
  {
   "cell_type": "markdown",
   "metadata": {},
   "source": [
    "$$\n",
    "\\text{$\\Omega=\\{x_\\alpha\\}$}\n",
    "\\quad\\rightarrow\\quad\n",
    "\\text{${\\bf x}=[x_1,x_2,\\ldots,x_n]$}\n",
    "\\quad\\rightarrow\\quad\n",
    "\\text{Estimator $\\hat{\\theta}({\\bf x})=\\hat{\\theta}(x_1,x_2,\\ldots,x_n)$ of Parameter $\\theta$}\n",
    "$$"
   ]
  },
  {
   "cell_type": "markdown",
   "metadata": {},
   "source": [
    "$$\n",
    "\\text{$f({\\bf x})$ is random}\n",
    "\\quad\\rightarrow\\quad\n",
    "\\text{Distribution of $f({\\bf x})$ is Sampling Distibution}\n",
    "$$"
   ]
  },
  {
   "cell_type": "code",
   "execution_count": null,
   "metadata": {},
   "outputs": [],
   "source": []
  }
 ],
 "metadata": {
  "kernelspec": {
   "display_name": "Python 3",
   "language": "python",
   "name": "python3"
  },
  "language_info": {
   "codemirror_mode": {
    "name": "ipython",
    "version": 3
   },
   "file_extension": ".py",
   "mimetype": "text/x-python",
   "name": "python",
   "nbconvert_exporter": "python",
   "pygments_lexer": "ipython3",
   "version": "3.8.5"
  }
 },
 "nbformat": 4,
 "nbformat_minor": 5
}
