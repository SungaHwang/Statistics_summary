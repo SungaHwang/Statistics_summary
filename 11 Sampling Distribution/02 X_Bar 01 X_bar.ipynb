{
 "cells": [
  {
   "cell_type": "code",
   "execution_count": 1,
   "metadata": {},
   "outputs": [],
   "source": [
    "import matplotlib.pyplot as plt; #plt.style.use('seaborn')\n",
    "import numpy as np; np.random.seed(10)\n",
    "import pandas as pd\n",
    "from scipy import stats"
   ]
  },
  {
   "cell_type": "markdown",
   "metadata": {},
   "source": [
    "# $\\bar{X}$\n",
    "\n",
    "$$\n",
    "\\bar{X}=\\frac{\\sum_{i=1}^nX_i}{n}\n",
    "$$"
   ]
  },
  {
   "cell_type": "code",
   "execution_count": 2,
   "metadata": {},
   "outputs": [],
   "source": [
    "def scatter(x, y_center, color, mu=None, sigma=None, text=None):\n",
    "    plt.hlines(y_center, xmin=0,              xmax=1,             alpha=1.0, color='black', ls='-')\n",
    "    for i in range(11):\n",
    "        plt.vlines(0.1*i, ymin=-2e-2+y_center, ymax=2e-2+y_center, alpha=1.0, color='black', ls='-')\n",
    "        \n",
    "    plt.scatter(x, np.ones_like(x)*y_center, color=color, s=100)\n",
    "    \n",
    "    if mu:\n",
    "        plt.vlines(mu,       ymin=-7e-2+y_center, ymax=7e-2+y_center, alpha=1.0, color=color, ls='-', lw=5)\n",
    "        \n",
    "    if sigma:\n",
    "        plt.vlines(mu+sigma, ymin=-7e-2+y_center, ymax=7e-2+y_center, alpha=0.7, color=color, ls='--')\n",
    "        plt.vlines(mu-sigma, ymin=-7e-2+y_center, ymax=7e-2+y_center, alpha=0.7, color=color, ls='--')\n",
    "    \n",
    "    if text:\n",
    "        arrowprops=dict(arrowstyle='<->', color='k', linewidth=3, mutation_scale=20)\n",
    "        plt.annotate(text='',\n",
    "                     xy=(mu,7e-2+y_center),\n",
    "                     xytext=(mu+sigma,7e-2+y_center), \n",
    "                     arrowprops=arrowprops)\n",
    "        plt.annotate(text=text,\n",
    "                     xy=(mu,13e-2+y_center), \n",
    "                     xytext=(mu,13e-2+y_center),\n",
    "                     fontsize=20)\n",
    "        \n",
    "    plt.xlim(-0.1,1.1)\n",
    "    plt.ylim(-0.1,1)\n",
    "    plt.axis('off');"
   ]
  },
  {
   "cell_type": "code",
   "execution_count": 3,
   "metadata": {},
   "outputs": [],
   "source": [
    "x = np.random.uniform(size=(5,))\n",
    "mu = x.mean()\n",
    "sigma = x.std()"
   ]
  },
  {
   "cell_type": "code",
   "execution_count": 4,
   "metadata": {},
   "outputs": [
    {
     "data": {
      "image/png": "[encoded data removed]",
      "text/plain": [
       "<Figure size 432x288 with 1 Axes>"
      ]
     },
     "metadata": {
      "needs_background": "light"
     },
     "output_type": "display_data"
    }
   ],
   "source": [
    "scatter(x, 0.5, 'blue')"
   ]
  },
  {
   "cell_type": "code",
   "execution_count": 5,
   "metadata": {},
   "outputs": [
    {
     "data": {
      "image/png": "[encoded data removed]",
      "text/plain": [
       "<Figure size 432x288 with 1 Axes>"
      ]
     },
     "metadata": {
      "needs_background": "light"
     },
     "output_type": "display_data"
    }
   ],
   "source": [
    "scatter(x, 0.5, 'blue', mu)"
   ]
  },
  {
   "cell_type": "code",
   "execution_count": 6,
   "metadata": {},
   "outputs": [
    {
     "data": {
      "image/png": "[encoded data removed]",
      "text/plain": [
       "<Figure size 432x288 with 1 Axes>"
      ]
     },
     "metadata": {
      "needs_background": "light"
     },
     "output_type": "display_data"
    }
   ],
   "source": [
    "mu_list = []\n",
    "\n",
    "for i, color in zip(range(5), ['r','g','b','c','m']):\n",
    "    x = np.random.uniform(size=(5,))\n",
    "    mu = x.mean()\n",
    "\n",
    "    y_center = i * 0.2\n",
    "    scatter(x, y_center, color, mu)\n",
    "    \n",
    "    mu_list.append(mu)"
   ]
  },
  {
   "cell_type": "markdown",
   "metadata": {},
   "source": [
    "# Reference\n",
    "\n",
    "[표준 편차 대 표준 오차, 명확하게 설명!!!](https://www.youtube.com/watch?v=A82brFpdr9g)"
   ]
  },
  {
   "cell_type": "code",
   "execution_count": null,
   "metadata": {},
   "outputs": [],
   "source": []
  }
 ],
 "metadata": {
  "kernelspec": {
   "display_name": "Python 3",
   "language": "python",
   "name": "python3"
  },
  "language_info": {
   "codemirror_mode": {
    "name": "ipython",
    "version": 3
   },
   "file_extension": ".py",
   "mimetype": "text/x-python",
   "name": "python",
   "nbconvert_exporter": "python",
   "pygments_lexer": "ipython3",
   "version": "3.8.5"
  }
 },
 "nbformat": 4,
 "nbformat_minor": 5
}
