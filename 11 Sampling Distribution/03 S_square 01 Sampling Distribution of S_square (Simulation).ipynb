{
 "cells": [
  {
   "cell_type": "code",
   "execution_count": 1,
   "metadata": {},
   "outputs": [],
   "source": [
    "import matplotlib.pyplot as plt; #plt.style.use('seaborn')\n",
    "import numpy as np; np.random.seed(10)\n",
    "import pandas as pd\n",
    "from scipy import stats"
   ]
  },
  {
   "cell_type": "markdown",
   "metadata": {},
   "source": [
    "# $S^2$\n",
    "\n",
    "$$\n",
    "S^2 = \\frac{\\sum_{i=1}^n \\left(X_i-\\bar{X}\\right)^2}{n}\n",
    "$$"
   ]
  },
  {
   "cell_type": "code",
   "execution_count": 2,
   "metadata": {},
   "outputs": [],
   "source": [
    "S_square = []\n",
    "for _ in range(10000):\n",
    "    x = np.random.uniform(size=(5,))\n",
    "    sigma = x.std()\n",
    "    S_square.append(sigma**2)"
   ]
  },
  {
   "cell_type": "code",
   "execution_count": 5,
   "metadata": {},
   "outputs": [
    {
     "data": {
      "image/png": "[encoded data removed]",
      "text/plain": [
       "<Figure size 432x288 with 1 Axes>"
      ]
     },
     "metadata": {
      "needs_background": "light"
     },
     "output_type": "display_data"
    }
   ],
   "source": [
    "plt.hist(S_square, bins=100, density=True, alpha=0.3)\n",
    "\n",
    "plt.xlim(-0.01,0.2)\n",
    "plt.ylim(-0.1,15)\n",
    "plt.title('(Estimated) Sampling Distribution of $S^2$');\n",
    "#plt.axis('off');"
   ]
  },
  {
   "cell_type": "markdown",
   "metadata": {},
   "source": [
    "# Reference\n",
    "\n",
    "[표준 편차 대 표준 오차, 명확하게 설명!!!](https://www.youtube.com/watch?v=A82brFpdr9g)"
   ]
  },
  {
   "cell_type": "code",
   "execution_count": null,
   "metadata": {},
   "outputs": [],
   "source": []
  }
 ],
 "metadata": {
  "kernelspec": {
   "display_name": "Python 3",
   "language": "python",
   "name": "python3"
  },
  "language_info": {
   "codemirror_mode": {
    "name": "ipython",
    "version": 3
   },
   "file_extension": ".py",
   "mimetype": "text/x-python",
   "name": "python",
   "nbconvert_exporter": "python",
   "pygments_lexer": "ipython3",
   "version": "3.8.5"
  }
 },
 "nbformat": 4,
 "nbformat_minor": 5
}
