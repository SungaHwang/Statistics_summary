{
 "cells": [
  {
   "cell_type": "markdown",
   "metadata": {},
   "source": [
    "<div align=\"center\"><img src=\"https://upload.wikimedia.org/wikipedia/commons/thumb/5/5c/Jackdaw_with_a_ring.JPG/440px-Jackdaw_with_a_ring.JPG\" width=\"50%\"></div>"
   ]
  },
  {
   "cell_type": "code",
   "execution_count": 1,
   "metadata": {},
   "outputs": [],
   "source": [
    "import numpy as np\n",
    "import matplotlib.pyplot as plt\n",
    "import scipy.special as sc\n",
    "\n",
    "def likelihood(n, c, r, t):\n",
    "    \"\"\"\n",
    "    input n - Number of blue jeys in the forest, unknown\n",
    "    input c - Number of blue jeys captured, tagged, and released\n",
    "    input r - Number of blue jeys re-captured \n",
    "    input t - Number of blue jeys tagged in re-captured stage\n",
    "    output  - likelihood probability\n",
    "    \"\"\"\n",
    "    return sc.comb(n-c, r-t) * sc.comb(c, t) / sc.comb(n, r)\n",
    "\n",
    "def main(c, r, t):\n",
    "    \n",
    "    prob = []\n",
    "    for n in range(c+(r-t), 10*(c+(r-t))):\n",
    "        prob.append(likelihood(n, c, r, t))\n",
    "        \n",
    "    max_prob = max(prob)\n",
    "    idx = prob.index(max_prob)\n",
    "    n_mle = idx + (c+r-t)\n",
    "    print('Number of blue jeys in the forest: {}'.format(n_mle))\n",
    "\n",
    "    plt.plot(range((c+r-t), 10*(c+r-t)), prob)\n",
    "    plt.scatter(n_mle, prob[idx], color='red')\n",
    "    plt.show()"
   ]
  },
  {
   "cell_type": "code",
   "execution_count": 3,
   "metadata": {},
   "outputs": [
    {
     "name": "stdout",
     "output_type": "stream",
     "text": [
      "Number of blue jeys in the forest: 17\n"
     ]
    },
    {
     "data": {
      "image/png": "[encoded data removed]",
      "text/plain": [
       "<Figure size 432x288 with 1 Axes>"
      ]
     },
     "metadata": {
      "needs_background": "light"
     },
     "output_type": "display_data"
    }
   ],
   "source": [
    "if __name__ == '__main__':\n",
    "           # n - Number of blue jeys in the forest, unknown\n",
    "    c = 5  # c - Number of blue jeys captured, tagged, and release\n",
    "    r = 7  # r - Number of blue jeys re-captured \n",
    "    t = 2  # t - Number of blue jeys tagged in re-captured stage\n",
    "    main(c, r, t)"
   ]
  },
  {
   "cell_type": "code",
   "execution_count": null,
   "metadata": {},
   "outputs": [],
   "source": []
  }
 ],
 "metadata": {
  "kernelspec": {
   "display_name": "Python 3",
   "language": "python",
   "name": "python3"
  },
  "language_info": {
   "codemirror_mode": {
    "name": "ipython",
    "version": 3
   },
   "file_extension": ".py",
   "mimetype": "text/x-python",
   "name": "python",
   "nbconvert_exporter": "python",
   "pygments_lexer": "ipython3",
   "version": "3.7.0"
  }
 },
 "nbformat": 4,
 "nbformat_minor": 4
}
