{
 "cells": [
  {
   "cell_type": "markdown",
   "metadata": {},
   "source": [
    "# Estimation of mu and sigma (Normal Distribution) "
   ]
  },
  {
   "cell_type": "markdown",
   "metadata": {},
   "source": [
    "Let $x^{(i)}$ be $m$ iid sample from $N(\\mu,\\sigma^2)$.\n",
    "Then, $\\mu$ and $\\sigma^2$ can be estimated by $\\hat{\\mu}$ and $\\hat{\\sigma}^2$\n",
    "where \n",
    "$$\\begin{array}{lll}\n",
    "\\hat{\\mu}&=&\\frac{\\sum_{i=1}^mx^{(i)}}{m}\\\\\n",
    "\\hat{\\sigma}^2&=&\\frac{\\sum_{i=1}^m(x^{(i)}-\\hat{\\mu})^2}{m}\n",
    "\\end{array}$$"
   ]
  },
  {
   "cell_type": "markdown",
   "metadata": {},
   "source": [
    "##### Data\n",
    "$$\\{x^{(i)}: i=1,\\ldots,m\\}$$\n",
    "\n",
    "##### Model\n",
    "$$x^{(i)}\\sim N(\\mu,\\sigma^2)$$\n",
    "\n",
    "##### Likelihood function\n",
    "$$L(\\mu,\\sigma^2)=\\prod_{i=1}^m\\frac{1}{\\sqrt{2\\pi\\sigma^2}}exp\\left(-\\frac{1}{2\\sigma^2}\\left(x^{(i)}-\\mu\\right)^2\\right)$$\n",
    "\n",
    "##### Log-Likelihood function\n",
    "$$l(\\mu,\\sigma^2)=-\\frac{1}{2\\sigma^2}\\sum_{i=1}^m\\left(x^{(i)}-\\mu\\right)^2-\\frac{m}{2}\\log\\sigma^2+\\mbox{Constant}$$\n",
    "\n",
    "##### Cost function\n",
    "$$J(\\mu,\\sigma^2)=\\frac{1}{2\\sigma^2}\\sum_{i=1}^m\\left(x^{(i)}-\\mu\\right)^2+\\frac{m}{2}\\log\\sigma^2$$\n",
    "\n",
    "##### Maximum likelihood principle\n",
    "$$\\mbox{argmax}_{\\mu,\\sigma^2}\\ L\\quad\\Leftrightarrow\\quad\\mbox{argmax}_{\\mu,\\sigma^2}\\ l\\quad\\Leftrightarrow\\quad\\mbox{argmin}_{\\mu,\\sigma^2}\\ J$$"
   ]
  },
  {
   "cell_type": "markdown",
   "metadata": {},
   "source": [
    "$$\\begin{array}{llcll}\n",
    "\\frac{\\partial J}{\\partial\\mu}=0\n",
    "&\\Rightarrow&\n",
    "\\sum_{i=1}^m\\left(x^{(i)}-\\mu\\right)=0\n",
    "&\\Rightarrow&\n",
    "\\hat{\\mu}=\\frac{\\sum_{i=1}^mx^{(i)}}{m}\\\\\n",
    "\\frac{\\partial J}{\\partial\\sigma^2}=0\n",
    "&\\Rightarrow&\n",
    "\\cdots\n",
    "&\\Rightarrow&\n",
    "\\hat{\\sigma}^2=\\frac{\\sum_{i=1}^m(x^{(i)}-\\hat{\\mu})^2}{m}\\\\\n",
    "\\end{array}$$"
   ]
  }
 ],
 "metadata": {
  "kernelspec": {
   "display_name": "Python 3",
   "language": "python",
   "name": "python3"
  },
  "language_info": {
   "codemirror_mode": {
    "name": "ipython",
    "version": 3
   },
   "file_extension": ".py",
   "mimetype": "text/x-python",
   "name": "python",
   "nbconvert_exporter": "python",
   "pygments_lexer": "ipython3",
   "version": "3.7.0"
  }
 },
 "nbformat": 4,
 "nbformat_minor": 2
}
