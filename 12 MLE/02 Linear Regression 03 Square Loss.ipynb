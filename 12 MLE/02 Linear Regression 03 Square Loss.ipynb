{
 "cells": [
  {
   "cell_type": "markdown",
   "metadata": {},
   "source": [
    "# Square cost function"
   ]
  },
  {
   "cell_type": "markdown",
   "metadata": {},
   "source": [
    "##### Data\n",
    "$$\\{(x^{(i)}, y^{(i)}): i=1,\\ldots,m\\}$$\n",
    "\n",
    "##### Model\n",
    "$$y^{(i)}=\\alpha+\\beta x^{(i)}+\\varepsilon^{(i)}$$\n",
    "where with a fixed $\\sigma^2$\n",
    "$$\\varepsilon^{(i)}\\sim N(0,\\sigma^2)$$\n",
    "\n",
    "##### Likelihood function\n",
    "$$L(\\alpha,\\beta)=\\prod_{i=1}^m\\frac{1}{\\sqrt{2\\pi\\sigma^2}}exp\\left(-\\frac{1}{2\\sigma^2}\\left(y^{(i)}-\\alpha-\\beta x^{(i)}\\right)^2\\right)$$\n",
    "\n",
    "##### Log-Likelihood function\n",
    "$$l(\\alpha,\\beta)=-\\frac{1}{2\\sigma^2}\\sum_{i=1}^m\\left(y^{(i)}-\\alpha-\\beta x^{(i)}\\right)^2+\\mbox{Constant}$$\n",
    "\n",
    "##### Cost function\n",
    "$$J(\\alpha,\\beta)=\\frac{1}{2}\\sum_{i=1}^m\\left(y^{(i)}-\\alpha-\\beta x^{(i)}\\right)^2$$\n",
    "\n",
    "##### Maximum likelihood principle\n",
    "$$\\mbox{argmax}_{\\alpha,\\beta}\\ L\\quad\\Leftrightarrow\\quad\\mbox{argmax}_{\\alpha,\\beta}\\ l\\quad\\Leftrightarrow\\quad\\mbox{argmin}_{\\alpha,\\beta}\\ J$$"
   ]
  },
  {
   "cell_type": "code",
   "execution_count": null,
   "metadata": {},
   "outputs": [],
   "source": [
    "import tensorflow as tf\n",
    "\n",
    "y_minus_y_hat = tf.constant([[1.2], [0.1], [0.3]])\n",
    "\n",
    "loss = tf.nn.l2_loss(y_minus_y_hat)\n",
    "loss2 = tf.reduce_sum(tf.square(y_minus_y_hat)) / 2\n",
    "loss3 = (1.2**2 + 0.1**2 + 0.3**2) / 2 \n",
    "\n",
    "with tf.Session() as sess:\n",
    "    print(\"y_minus_y_hat : \")\n",
    "    print(sess.run(y_minus_y_hat))\n",
    "    print()\n",
    "    \n",
    "    print(\"loss  : \", sess.run(loss))\n",
    "    print(\"loss2 : \", sess.run(loss2))\n",
    "    print(\"loss3 : \", loss3)"
   ]
  }
 ],
 "metadata": {
  "kernelspec": {
   "display_name": "Python 3",
   "language": "python",
   "name": "python3"
  },
  "language_info": {
   "codemirror_mode": {
    "name": "ipython",
    "version": 3
   },
   "file_extension": ".py",
   "mimetype": "text/x-python",
   "name": "python",
   "nbconvert_exporter": "python",
   "pygments_lexer": "ipython3",
   "version": "3.7.0"
  }
 },
 "nbformat": 4,
 "nbformat_minor": 2
}
