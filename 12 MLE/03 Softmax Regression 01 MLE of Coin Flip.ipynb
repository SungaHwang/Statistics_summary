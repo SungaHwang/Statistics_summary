{
 "cells": [
  {
   "cell_type": "markdown",
   "metadata": {},
   "source": [
    "# Estimation of mu (Bernoulli Distribution) "
   ]
  },
  {
   "cell_type": "markdown",
   "metadata": {},
   "source": [
    "Let $x^{(i)}$ be $m$ iid sample from $B(p)$.\n",
    "Then, $p$ can be estimated by $\\hat{p}$\n",
    "where \n",
    "$$\\begin{array}{lll}\n",
    "\\hat{p}&=&\\frac{\\sum_{i=1}^mx^{(i)}}{m}\n",
    "\\end{array}$$"
   ]
  },
  {
   "cell_type": "markdown",
   "metadata": {},
   "source": [
    "##### Data\n",
    "$$\\{x^{(i)}: i=1,\\ldots,m\\}$$\n",
    "\n",
    "##### Model\n",
    "$$x^{(i)}\\sim B(p)$$\n",
    "\n",
    "##### Likelihood function\n",
    "$$L(p)=\\prod_{i=1}^mp^{x^{(i)}}(1-p)^{1-x^{(i)}}$$\n",
    "\n",
    "##### Log-Likelihood function\n",
    "$$l(p)=\\sum_{i=1}^mx^{(i)}\\log(p)+(1-x^{(i)})\\log(1-p)$$\n",
    "\n",
    "##### Cost function\n",
    "$$J(p)=-\\sum_{i=1}^mx^{(i)}\\log(p)+(1-x^{(i)})\\log(1-p)$$\n",
    "\n",
    "##### Maximum likelihood principle\n",
    "$$\\mbox{argmax}_{p}\\ L\\quad\\Leftrightarrow\\quad\\mbox{argmax}_{p}\\ l\\quad\\Leftrightarrow\\quad\\mbox{argmin}_{p}\\ J$$"
   ]
  },
  {
   "cell_type": "markdown",
   "metadata": {},
   "source": [
    "$$\\begin{array}{llcll}\n",
    "\\frac{\\partial J}{\\partial p}=0\n",
    "&\\Rightarrow&\n",
    "\\sum_{i=1}^m\\frac{x^{(i)}}{p}-\\frac{1-x^{(i)}}{1-p}=0\n",
    "&\\Rightarrow&\n",
    "\\hat{p}=\\frac{\\sum_{i=1}^mx^{(i)}}{m}\n",
    "\\end{array}$$"
   ]
  }
 ],
 "metadata": {
  "kernelspec": {
   "display_name": "Python 3",
   "language": "python",
   "name": "python3"
  },
  "language_info": {
   "codemirror_mode": {
    "name": "ipython",
    "version": 3
   },
   "file_extension": ".py",
   "mimetype": "text/x-python",
   "name": "python",
   "nbconvert_exporter": "python",
   "pygments_lexer": "ipython3",
   "version": "3.7.0"
  }
 },
 "nbformat": 4,
 "nbformat_minor": 2
}
