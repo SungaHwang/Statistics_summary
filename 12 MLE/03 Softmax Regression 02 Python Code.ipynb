{
 "cells": [
  {
   "cell_type": "code",
   "execution_count": 14,
   "metadata": {},
   "outputs": [],
   "source": [
    "import numpy as np\n",
    "n = 100\n",
    "p = 0.7\n",
    "uniform = np.random.uniform(size=(n,))\n",
    "coins = np.zeros_like(uniform)\n",
    "coins[uniform>1-p] = 1."
   ]
  },
  {
   "cell_type": "code",
   "execution_count": 15,
   "metadata": {},
   "outputs": [
    {
     "data": {
      "text/plain": [
       "array([1., 1., 0., 1., 0., 1., 1., 1., 1., 1., 0., 1., 0., 1., 1., 0., 0.,\n",
       "       1., 1., 1., 0., 1., 1., 1., 1., 0., 1., 1., 0., 1., 1., 0., 1., 1.,\n",
       "       0., 1., 0., 1., 1., 0., 0., 1., 0., 1., 1., 1., 1., 0., 0., 1., 1.,\n",
       "       0., 0., 0., 0., 0., 1., 1., 1., 1., 0., 1., 1., 1., 1., 0., 1., 0.,\n",
       "       1., 1., 1., 1., 1., 0., 1., 1., 1., 0., 1., 1., 1., 0., 1., 1., 1.,\n",
       "       1., 1., 1., 1., 1., 1., 1., 1., 1., 0., 1., 0., 1., 0., 1.])"
      ]
     },
     "execution_count": 15,
     "metadata": {},
     "output_type": "execute_result"
    }
   ],
   "source": [
    "coins"
   ]
  },
  {
   "cell_type": "code",
   "execution_count": 16,
   "metadata": {},
   "outputs": [],
   "source": [
    "def prob(coin, p):\n",
    "    return p**coin * (1-p)**(1-coin)\n",
    "\n",
    "def log_prob(coin, p):\n",
    "    return coin*np.log(p) + (1-coin)*np.log(1-p)\n",
    "\n",
    "def L(coins, p):\n",
    "    joint_prob = 1.\n",
    "    for coin in coins:\n",
    "        joint_prob *= prob(coin, p)\n",
    "    return joint_prob \n",
    "\n",
    "def l(coins, p):\n",
    "    log_joint_prob = 0.\n",
    "    for coin in coins:\n",
    "        log_joint_prob += log_prob(coin, p)\n",
    "    return log_joint_prob"
   ]
  },
  {
   "cell_type": "code",
   "execution_count": 17,
   "metadata": {},
   "outputs": [],
   "source": [
    "p_list = np.linspace(0.01, 0.99, 100)\n",
    "l_list = []\n",
    "for p_ in p_list:\n",
    "    l_list.append(l(coins, p_))\n",
    "l_list = np.array(l_list)"
   ]
  },
  {
   "cell_type": "code",
   "execution_count": 18,
   "metadata": {},
   "outputs": [
    {
     "data": {
      "image/png": "[encoded data removed]",
      "text/plain": [
       "<Figure size 432x288 with 1 Axes>"
      ]
     },
     "metadata": {
      "needs_background": "light"
     },
     "output_type": "display_data"
    }
   ],
   "source": [
    "import matplotlib.pyplot as plt\n",
    "plt.plot(p_list, l_list)\n",
    "plt.show()"
   ]
  },
  {
   "cell_type": "code",
   "execution_count": 19,
   "metadata": {},
   "outputs": [
    {
     "name": "stdout",
     "output_type": "stream",
     "text": [
      "69\n",
      "0.693030303030303\n",
      "0.69\n"
     ]
    }
   ],
   "source": [
    "idx = np.argmax(l_list)\n",
    "print(idx)\n",
    "print(p_list[idx])\n",
    "print(coins.sum()/n)"
   ]
  },
  {
   "cell_type": "code",
   "execution_count": null,
   "metadata": {},
   "outputs": [],
   "source": []
  }
 ],
 "metadata": {
  "kernelspec": {
   "display_name": "Python 3",
   "language": "python",
   "name": "python3"
  },
  "language_info": {
   "codemirror_mode": {
    "name": "ipython",
    "version": 3
   },
   "file_extension": ".py",
   "mimetype": "text/x-python",
   "name": "python",
   "nbconvert_exporter": "python",
   "pygments_lexer": "ipython3",
   "version": "3.7.0"
  }
 },
 "nbformat": 4,
 "nbformat_minor": 4
}
