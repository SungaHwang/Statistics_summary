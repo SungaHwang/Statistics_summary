{
 "cells": [
  {
   "cell_type": "code",
   "execution_count": 1,
   "metadata": {},
   "outputs": [],
   "source": [
    "import matplotlib.pyplot as plt; #plt.style.use('seaborn')\n",
    "import numpy as np; np.random.seed(10)\n",
    "import pandas as pd\n",
    "from scipy import stats"
   ]
  },
  {
   "cell_type": "markdown",
   "metadata": {},
   "source": [
    "# Standard Deviation\n",
    "\n",
    "$$\n",
    "\\text{Standard Deviation of }X=\\sqrt{Var(X)}\n",
    "$$"
   ]
  },
  {
   "cell_type": "markdown",
   "metadata": {},
   "source": [
    "# Standard Error\n",
    "\n",
    "$$\n",
    "\\text{Standard Error of }\\hat\\theta=\\sqrt{Var(\\hat\\theta)}\n",
    "$$"
   ]
  },
  {
   "cell_type": "code",
   "execution_count": 2,
   "metadata": {},
   "outputs": [],
   "source": [
    "X_bar = []\n",
    "for _ in range(10000):\n",
    "    x = np.random.uniform(size=(5,))\n",
    "    x_bar = x.mean()\n",
    "    X_bar.append(x_bar)"
   ]
  },
  {
   "cell_type": "code",
   "execution_count": 3,
   "metadata": {},
   "outputs": [],
   "source": [
    "average = np.array(X_bar).mean()\n",
    "standard_error = np.array(X_bar).std()"
   ]
  },
  {
   "cell_type": "code",
   "execution_count": 4,
   "metadata": {},
   "outputs": [
    {
     "name": "stdout",
     "output_type": "stream",
     "text": [
      "(Estimated) Mean of X_bar : 0.499\n",
      "Standard Error   of X_bar : 0.1287\n"
     ]
    }
   ],
   "source": [
    "print(f'(Estimated) Mean of X_bar : {average:.4}')\n",
    "print(f'Standard Error   of X_bar : {standard_error:.4}')"
   ]
  },
  {
   "cell_type": "code",
   "execution_count": 5,
   "metadata": {},
   "outputs": [
    {
     "data": {
      "image/png": "[encoded data removed]",
      "text/plain": [
       "<Figure size 432x288 with 1 Axes>"
      ]
     },
     "metadata": {
      "needs_background": "light"
     },
     "output_type": "display_data"
    }
   ],
   "source": [
    "plt.hist(X_bar, bins=100, density=True, alpha=0.3)\n",
    "plt.vlines(average, ymin=0, ymax=5, alpha=1.0, color='k', ls='-', lw=5)\n",
    "plt.vlines(average+standard_error, ymin=0, ymax=5, alpha=0.7, color='k', ls='--')\n",
    "plt.vlines(average-standard_error, ymin=0, ymax=5, alpha=0.7, color='k', ls='--')\n",
    "\n",
    "arrowprops=dict(arrowstyle='<->', color='k', linewidth=3, mutation_scale=20)\n",
    "plt.annotate(text='',\n",
    "             xy=(average,5),\n",
    "             xytext=(average+standard_error,5),\n",
    "             arrowprops=arrowprops)\n",
    "plt.annotate(text='Standard Error',\n",
    "             xy=(average,5.5),\n",
    "             xytext=(average,5.5),\n",
    "             fontsize=20)\n",
    "plt.xlim(0.0,1.0)\n",
    "plt.ylim(-0.1,6);\n",
    "#plt.axis('off');"
   ]
  },
  {
   "cell_type": "markdown",
   "metadata": {},
   "source": [
    "# Reference\n",
    "\n",
    "[표준 편차 대 표준 오차, 명확하게 설명!!!](https://www.youtube.com/watch?v=A82brFpdr9g)"
   ]
  },
  {
   "cell_type": "code",
   "execution_count": null,
   "metadata": {},
   "outputs": [],
   "source": []
  }
 ],
 "metadata": {
  "kernelspec": {
   "display_name": "Python 3",
   "language": "python",
   "name": "python3"
  },
  "language_info": {
   "codemirror_mode": {
    "name": "ipython",
    "version": 3
   },
   "file_extension": ".py",
   "mimetype": "text/x-python",
   "name": "python",
   "nbconvert_exporter": "python",
   "pygments_lexer": "ipython3",
   "version": "3.8.5"
  }
 },
 "nbformat": 4,
 "nbformat_minor": 5
}
