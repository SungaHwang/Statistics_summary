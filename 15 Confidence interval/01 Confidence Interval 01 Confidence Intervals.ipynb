{
 "cells": [
  {
   "cell_type": "markdown",
   "metadata": {},
   "source": [
    "<img src='https://media.nngroup.com/media/editor/2021/06/11/ci-width.png' width=80%>\n",
    "\n",
    "[Confidence Intervals, Margins of Error, and Confidence Levels in UX](https://www.nngroup.com/articles/confidence-interval/)"
   ]
  },
  {
   "cell_type": "markdown",
   "metadata": {},
   "source": [
    "$$\\begin{array}{lll}\n",
    "\\mbox{Symetric Case}&&\\\\\n",
    "\\mbox{Confidence_Interval}_\\theta \n",
    "&=&\\hat{\\theta}\\pm\\mbox{Margin_of_Error}_\\theta\\\\\n",
    "\\\\\n",
    "\\\\\n",
    "\\mbox{Non-Symetric Case ???}&&\\\\\n",
    "\\mbox{Confidence_Interval}_\\theta \n",
    "&=&(\\mbox{Left}_\\theta, \\mbox{Right}_\\theta)\\\\\n",
    "&=&\\mbox{Center}_\\theta\\pm\\frac{\\mbox{Right}_\\theta-\\mbox{Left}_\\theta}{2}\\\\\n",
    "&=&\\mbox{Center}_\\theta\\pm\\mbox{Margin_of_Error}_\\theta\n",
    "\\end{array}$$"
   ]
  },
  {
   "cell_type": "markdown",
   "metadata": {},
   "source": [
    "# Z Confidence Interval\n",
    "\n",
    "$$\n",
    "\\bar{X}\\pm z_*\\frac{S}{\\sqrt{n}}\n",
    "$$\n",
    "\n",
    "$$\\begin{array}{lllll}\n",
    "(1)\\ \\mbox{Simple Random Sample (Independent Sampling)}\\\\\n",
    "(2)\\ \\mbox{Normal Condition (or CLT Condition)}&&n\\ge 30\\mbox{ or Original is Normal}\\\\\n",
    "(3)\\ \\mbox{Independence Condition (on without Repetition)}&&n < \\mbox{10% of total population if chosen without repetition}\\\\\n",
    "\\end{array}$$"
   ]
  },
  {
   "cell_type": "markdown",
   "metadata": {},
   "source": [
    "# T Confidence Interval\n",
    "\n",
    "$$\n",
    "\\bar{X}\\pm t_*(n-1)\\frac{S}{\\sqrt{n}}\n",
    "$$\n",
    "\n",
    "$$\\begin{array}{lllll}\n",
    "(1)\\ \\mbox{Simple Random Sample (Independent Sampling)}\\\\\n",
    "(2)\\ \\mbox{Normal Condition (or CLT Condition)}&&\\mbox{Original is Normal}\\\\\n",
    "(3)\\ \\mbox{Independence Condition (on without Repetition)}&&n < \\mbox{10% of total population if chosen without repetition}\\\\\n",
    "\\end{array}$$\n",
    "\n",
    "[Confidence interval](https://en.wikipedia.org/wiki/Confidence_interval)"
   ]
  },
  {
   "cell_type": "markdown",
   "metadata": {},
   "source": [
    "# Binomial Confidence Interval\n",
    "\n",
    "$$\n",
    "\\hat{p}\\pm z_*\\sqrt{\\frac{\\hat{p}(1-\\hat{p})}{n}}\n",
    "$$\n",
    "\n",
    "$$\\begin{array}{lllll}\n",
    "(1)\\ \\mbox{Simple Random Sample (Independent Sampling)}\\\\\n",
    "(2)\\ \\mbox{Normal Condition (or CLT Condition)}&&n\\hat{p}\\ge 10,\\quad n(1-\\hat{p})\\ge 10\\\\\n",
    "(3)\\ \\mbox{Independence Condition (on without Repetition)}&&n < \\mbox{10% of total population if chosen without repetition}\\\\\n",
    "\\end{array}$$\n",
    "\n",
    "[Binomial proportion confidence interval](https://en.wikipedia.org/wiki/Binomial_proportion_confidence_interval)"
   ]
  },
  {
   "cell_type": "markdown",
   "metadata": {},
   "source": [
    "# $\\chi^2$ Confidence Interval\n",
    "\n",
    "$$\n",
    "\\left(\\frac{(n-1)s^2}{\\chi^2_{\\alpha/2}(n-1)},\\quad\\frac{(n-1)s^2}{\\chi^2_{1-\\alpha/2}(n-1)}\\right)\n",
    "$$\n",
    "\n",
    "$$\\begin{array}{lllll}\n",
    "(1)\\ \\mbox{Simple Random Sample (Independent Sampling)}\\\\\n",
    "(2)\\ \\mbox{Normal Condition (or CLT Condition)}&&\\mbox{Original is Normal}\\\\\n",
    "(3)\\ \\mbox{Independence Condition (on without Repetition)}&&n < \\mbox{10% of total population if chosen without repetition}\\\\\n",
    "\\end{array}$$\n",
    "\n",
    "[Confidence interval](https://en.wikipedia.org/wiki/Confidence_interval)"
   ]
  }
 ],
 "metadata": {
  "kernelspec": {
   "display_name": "Python 3",
   "language": "python",
   "name": "python3"
  },
  "language_info": {
   "codemirror_mode": {
    "name": "ipython",
    "version": 3
   },
   "file_extension": ".py",
   "mimetype": "text/x-python",
   "name": "python",
   "nbconvert_exporter": "python",
   "pygments_lexer": "ipython3",
   "version": "3.8.5"
  }
 },
 "nbformat": 4,
 "nbformat_minor": 2
}
