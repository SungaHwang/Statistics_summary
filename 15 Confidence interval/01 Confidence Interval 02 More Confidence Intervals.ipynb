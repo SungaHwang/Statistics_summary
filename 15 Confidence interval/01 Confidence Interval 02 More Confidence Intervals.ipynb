{
 "cells": [
  {
   "cell_type": "markdown",
   "metadata": {},
   "source": [
    "# 표본 크기가 클 때 (CLT)\n",
    "\n",
    "$$\n",
    "\\begin{array}{ccc}\n",
    "\\displaystyle\n",
    "\\frac{\\bar{X}-\\mu}{\\frac{\\sigma}{\\sqrt{n}}}\\approx \\frac{\\bar{X}-\\mu}{\\frac{S}{\\sqrt{n}}} \\approx N(0,1)\n",
    "&\\Rightarrow&\n",
    "\\bar{X}\\pm z_*\\frac{S}{\\sqrt{n}}\\\\\n",
    "\\\\\n",
    "\\displaystyle\n",
    "\\frac{\\hat{p}-p}{\\sqrt{\\frac{p(1-p)}{n}}}\\approx \\frac{\\hat{p}-p}{\\sqrt{\\frac{\\hat{p}(1-\\hat{p})}{n}}} \\approx N(0,1)\n",
    "&\\Rightarrow&\n",
    "\\hat{p}\\pm z_*\\sqrt{\\frac{\\hat{p}(1-\\hat{p})}{n}}\n",
    "\\end{array}\n",
    "$$\n",
    "\n",
    "# 모집단이 정규분포일 때\n",
    "\n",
    "$$\n",
    "\\begin{array}{ccc}\n",
    "\\displaystyle\n",
    "\\frac{\\bar{X}-\\mu}{\\frac{\\sigma}{\\sqrt{n}}}\\approx \\frac{\\bar{X}-\\mu}{\\frac{S}{\\sqrt{n}}} = t(n-1)\n",
    "&\\Rightarrow&\n",
    "\\bar{X}\\pm t_*\\frac{S}{\\sqrt{n}}\\\\\n",
    "\\\\\n",
    "\\displaystyle\n",
    "\\frac{(n-1)S^2}{\\sigma^2}=\\sum_{i=1}^n\\left(\\frac{X_i-\\bar{X}}{\\sigma}\\right)^2 = \\chi^2(n-1)\n",
    "&\\Rightarrow&\n",
    "\\left(S\\sqrt{\\frac{n-1}{\\chi^2_{\\alpha/2}(n-1)}}, S\\sqrt{\\frac{n-1}{\\chi^2_{1-\\alpha/2}(n-1)}}\\right)\n",
    "\\end{array}\n",
    "$$"
   ]
  },
  {
   "cell_type": "markdown",
   "metadata": {},
   "source": [
    "# 두 모집단이 표본 크기가 클 때 (CLT)\n",
    "\n",
    "$$\n",
    "\\begin{array}{ccc}\n",
    "\\displaystyle\n",
    "\\frac{\\bar{X}-\\bar{Y}-(\\mu_X-\\mu_Y)}{\\sqrt{\\frac{\\sigma^2_X}{n_X}+\\frac{\\sigma^2_Y}{n_Y}}}\\approx \\frac{\\bar{X}-\\bar{Y}-(\\mu_X-\\mu_Y)}{\\sqrt{\\frac{S^2_X}{n_X}+\\frac{S^2_Y}{n_Y}}} \\approx N(0,1)\n",
    "&\\Rightarrow&\n",
    "\\bar{X}-\\bar{Y}\\pm z_*\\sqrt{\\frac{S^2_X}{n_X}+\\frac{S^2_Y}{n_Y}}\\\\\n",
    "\\\\\n",
    "\\displaystyle\n",
    "\\frac{\\hat{p_1}-\\hat{p_2}-(p_1-p_2)}{\\sqrt{\\frac{p_1(1-p_1)}{n_1}+\\frac{p_2(1-p_2)}{n_2}}}\\approx \\frac{\\hat{p_1}-\\hat{p_2}-(p_1-p_2)}{\\sqrt{\\frac{\\hat{p_1}(1-\\hat{p_1})}{n_1}+\\frac{\\hat{p_2}(1-\\hat{p_2})}{n_2}}} \\approx N(0,1)\n",
    "&\\Rightarrow&\n",
    "\\hat{p_1}-\\hat{p_2}\\pm z_*\\sqrt{\\frac{\\hat{p_1}(1-\\hat{p_1})}{n_1}+\\frac{\\hat{p_2}(1-\\hat{p_2})}{n_2}}\\\\\n",
    "\\end{array}\n",
    "$$\n",
    "\n",
    "# 두 모집단이 정규분포일 때\n",
    "\n",
    "$$\n",
    "\\begin{array}{ccccc}\n",
    "\\displaystyle\n",
    "\\mbox{$\\sigma=\\sigma_X=\\sigma_Y$ Case}\n",
    "&&\n",
    "\\frac{\\bar{X}-\\bar{Y}-(\\mu_X-\\mu_Y)}{\\sigma\\sqrt{\\frac{1}{n_X}+\\frac{1}{n_Y}}}\\approx \\frac{\\bar{X}-\\bar{Y}-(\\mu_X-\\mu_Y)}{S_p\\sqrt{\\frac{1}{n_X}+\\frac{1}{n_Y}}} \\approx t(n_X+n_Y-2)\n",
    "&\\Rightarrow&\n",
    "\\bar{X}-\\bar{Y}\\pm t_*S_p\\sqrt{\\frac{1}{n_X}+\\frac{1}{n_Y}}\\\\\n",
    "\\\\\n",
    "\\\\\n",
    "\\displaystyle\n",
    "\\mbox{In General}\n",
    "&&\n",
    "\\frac{\\bar{X}-\\bar{Y}-(\\mu_X-\\mu_Y)}{\\sqrt{\\frac{\\sigma^2_X}{n_X}+\\frac{\\sigma^2_Y}{n_Y}}}\\approx \\frac{\\bar{X}-\\bar{Y}-(\\mu_X-\\mu_Y)}{\\sqrt{\\frac{S^2_X}{n_X}+\\frac{S^2_Y}{n_Y}}} \\approx t({\\color{red}\\min\\left(n_X-1,n_Y-1\\right)})\n",
    "&\\Rightarrow&\n",
    "\\bar{X}-\\bar{Y}\\pm t_*\\sqrt{\\frac{S^2_X}{n_X}+\\frac{S^2_Y}{n_Y}}\\\\\n",
    "\\end{array}\n",
    "$$"
   ]
  },
  {
   "cell_type": "markdown",
   "metadata": {},
   "source": [
    "# 두 모집단의 차가 정규분포일 때\n",
    "\n",
    "$$\n",
    "\\begin{array}{ccc}\n",
    "\\displaystyle\n",
    "\\frac{\\bar{D}-\\mu_D}{\\frac{\\sigma_D}{\\sqrt{n}}}\\approx \\frac{\\bar{D}-\\mu_D}{\\frac{S_D}{\\sqrt{n}}} \\approx N(0,1)\n",
    "&\\Rightarrow&\n",
    "\\bar{D}\\pm z_*\\frac{S_D}{\\sqrt{n}}\\\\\n",
    "\\end{array}\n",
    "$$"
   ]
  },
  {
   "cell_type": "code",
   "execution_count": null,
   "metadata": {},
   "outputs": [],
   "source": []
  }
 ],
 "metadata": {
  "kernelspec": {
   "display_name": "Python 3",
   "language": "python",
   "name": "python3"
  },
  "language_info": {
   "codemirror_mode": {
    "name": "ipython",
    "version": 3
   },
   "file_extension": ".py",
   "mimetype": "text/x-python",
   "name": "python",
   "nbconvert_exporter": "python",
   "pygments_lexer": "ipython3",
   "version": "3.8.5"
  }
 },
 "nbformat": 4,
 "nbformat_minor": 4
}
