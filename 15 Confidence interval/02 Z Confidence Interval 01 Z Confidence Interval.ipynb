{
 "cells": [
  {
   "cell_type": "code",
   "execution_count": 1,
   "id": "d2f10bc1",
   "metadata": {},
   "outputs": [],
   "source": [
    "import matplotlib.pyplot as plt; #plt.style.use('seaborn')\n",
    "import numpy as np; np.random.seed(4)\n",
    "import pandas as pd\n",
    "from scipy import stats"
   ]
  },
  {
   "cell_type": "markdown",
   "id": "4bb9575d",
   "metadata": {},
   "source": [
    "$$\\begin{array}{lll}\n",
    "\\mbox{Symetric Case}&&\\\\\n",
    "\\mbox{Confidence_Interval}_\\theta \n",
    "&=&\\hat{\\theta}\\pm\\mbox{Margin_of_Error}_\\theta\\\\\n",
    "\\\\\n",
    "\\\\\n",
    "\\mbox{Non-Symetric Case}&&\\\\\n",
    "\\mbox{Confidence_Interval}_\\theta \n",
    "&=&(\\mbox{Left}_\\theta, \\mbox{Right}_\\theta)\\\\\n",
    "&=&\\mbox{Center}_\\theta\\pm\\frac{\\mbox{Right}_\\theta-\\mbox{Left}_\\theta}{2}\\\\\n",
    "&=&\\mbox{Center}_\\theta\\pm\\mbox{Margin_of_Error}_\\theta\n",
    "\\end{array}$$"
   ]
  },
  {
   "cell_type": "markdown",
   "id": "c5b35c78",
   "metadata": {},
   "source": [
    "# Z Cofidence Interval\n",
    "\n",
    "$$\n",
    "\\bar{X}\\pm z_*\\frac{S}{\\sqrt{n}}\n",
    "$$\n",
    "\n",
    "$$\\begin{array}{lllll}\n",
    "(1)\\ \\mbox{Simple Random Sample}\\\\\n",
    "(2)\\ \\mbox{Normal Condition}&&n\\ge 30\\mbox{ or Original is Normal}\\\\\n",
    "(3)\\ \\mbox{Independence Condition}&&n < \\mbox{10% of total population if chosen without repetition}\\\\\n",
    "\\end{array}$$"
   ]
  },
  {
   "cell_type": "code",
   "execution_count": 2,
   "id": "06e01fdc",
   "metadata": {},
   "outputs": [],
   "source": [
    "def scatter(x, y_center, color, x_bar=None, width=None, text=None):\n",
    "    plt.hlines(y_center, xmin=-3,              xmax=3,             alpha=1.0, color='black', ls='-')\n",
    "    for i in range(-3,4):\n",
    "        plt.vlines(i, ymin=-2e-2+y_center, ymax=2e-2+y_center, alpha=1.0, color='black', ls='-')\n",
    "    plt.vlines(0, ymin=-20e-2+y_center, ymax=20e-2+y_center, alpha=1.0, color='black', ls='-')\n",
    "        \n",
    "    plt.scatter(x, np.ones_like(x)*y_center, color=color, s=100)\n",
    "    \n",
    "    if x_bar:\n",
    "        plt.vlines(x_bar,       ymin=-7e-2+y_center, ymax=7e-2+y_center, alpha=1.0, color=color, ls='-', lw=5)\n",
    "        \n",
    "    if width:\n",
    "        plt.vlines(x_bar+width, ymin=-7e-2+y_center, ymax=7e-2+y_center, alpha=0.7, color=color, ls='--')\n",
    "        plt.vlines(x_bar-width, ymin=-7e-2+y_center, ymax=7e-2+y_center, alpha=0.7, color=color, ls='--')\n",
    "    \n",
    "    if text:\n",
    "        arrowprops=dict(arrowstyle='<->', color='k', linewidth=3, mutation_scale=20)\n",
    "        plt.annotate(text='',\n",
    "                     xy=(x_bar-width,9e-2+y_center),\n",
    "                     xytext=(x_bar+width,9e-2+y_center), \n",
    "                     arrowprops=arrowprops)\n",
    "        plt.annotate(text=text,\n",
    "                     xy=(x_bar,13e-2+y_center), \n",
    "                     xytext=(x_bar,13e-2+y_center),\n",
    "                     fontsize=20)\n",
    "        \n",
    "    plt.xlim(-3,3)\n",
    "    plt.ylim(-0.1,1)\n",
    "    plt.axis('off');"
   ]
  },
  {
   "cell_type": "code",
   "execution_count": 3,
   "id": "fb01f616",
   "metadata": {},
   "outputs": [],
   "source": [
    "x = np.random.normal(size=(5,))\n",
    "x_bar = x.mean()\n",
    "sigma = 1\n",
    "z_star = stats.norm().ppf(0.975)\n",
    "n = x.shape[0]\n",
    "width = z_star * sigma / np.sqrt(n) "
   ]
  },
  {
   "cell_type": "code",
   "execution_count": 4,
   "id": "8b52d1e3",
   "metadata": {},
   "outputs": [
    {
     "data": {
      "image/png": "[encoded data removed]",
      "text/plain": [
       "<Figure size 432x288 with 1 Axes>"
      ]
     },
     "metadata": {
      "needs_background": "light"
     },
     "output_type": "display_data"
    }
   ],
   "source": [
    "scatter(x, 0.5, 'blue')"
   ]
  },
  {
   "cell_type": "code",
   "execution_count": 5,
   "id": "e10eb347",
   "metadata": {},
   "outputs": [
    {
     "data": {
      "image/png": "[encoded data removed]",
      "text/plain": [
       "<Figure size 432x288 with 1 Axes>"
      ]
     },
     "metadata": {
      "needs_background": "light"
     },
     "output_type": "display_data"
    }
   ],
   "source": [
    "scatter(x, 0.5, 'blue', x_bar)"
   ]
  },
  {
   "cell_type": "code",
   "execution_count": 6,
   "id": "34981369",
   "metadata": {},
   "outputs": [
    {
     "data": {
      "image/png": "[encoded data removed]",
      "text/plain": [
       "<Figure size 432x288 with 1 Axes>"
      ]
     },
     "metadata": {
      "needs_background": "light"
     },
     "output_type": "display_data"
    }
   ],
   "source": [
    "scatter(x, 0.5, 'blue', x_bar, width)"
   ]
  },
  {
   "cell_type": "code",
   "execution_count": 7,
   "id": "4fa260aa",
   "metadata": {},
   "outputs": [
    {
     "data": {
      "image/png": "[encoded data removed]",
      "text/plain": [
       "<Figure size 432x288 with 1 Axes>"
      ]
     },
     "metadata": {
      "needs_background": "light"
     },
     "output_type": "display_data"
    }
   ],
   "source": [
    "scatter(x, 0.5, 'blue', x_bar, width, 'Confidence Interval')"
   ]
  },
  {
   "cell_type": "code",
   "execution_count": 8,
   "id": "96984d70",
   "metadata": {},
   "outputs": [
    {
     "data": {
      "image/png": "[encoded data removed]",
      "text/plain": [
       "<Figure size 432x288 with 1 Axes>"
      ]
     },
     "metadata": {
      "needs_background": "light"
     },
     "output_type": "display_data"
    }
   ],
   "source": [
    "for i, color in zip(range(5), ['r','g','b','c','m']):\n",
    "    x = np.random.normal(size=(5,))\n",
    "    x_bar = x.mean()\n",
    "    sigma = 1\n",
    "    z_star = stats.norm.ppf(0.975)\n",
    "    n = x.shape[0]\n",
    "    width = z_star * sigma / np.sqrt(n) \n",
    "\n",
    "    y_center = i * 0.2\n",
    "    scatter(x, y_center, color, x_bar, width)"
   ]
  },
  {
   "cell_type": "code",
   "execution_count": 9,
   "id": "5eea0dec",
   "metadata": {},
   "outputs": [
    {
     "data": {
      "image/png": "[encoded data removed]",
      "text/plain": [
       "<Figure size 432x288 with 1 Axes>"
      ]
     },
     "metadata": {
      "needs_background": "light"
     },
     "output_type": "display_data"
    }
   ],
   "source": [
    "for i, color in zip(range(5), ['r','g','b','c','m']):\n",
    "    x = np.random.normal(size=(5,))\n",
    "    x_bar = x.mean()\n",
    "    sigma = 1\n",
    "    z_star = stats.norm.ppf(0.975)\n",
    "    n = x.shape[0]\n",
    "    width = z_star * sigma / np.sqrt(n) \n",
    "\n",
    "    y_center = i * 0.2\n",
    "    scatter(x, y_center, color, x_bar, width)"
   ]
  },
  {
   "cell_type": "code",
   "execution_count": 10,
   "id": "86d2d1b1",
   "metadata": {},
   "outputs": [
    {
     "data": {
      "image/png": "[encoded data removed]",
      "text/plain": [
       "<Figure size 432x288 with 1 Axes>"
      ]
     },
     "metadata": {
      "needs_background": "light"
     },
     "output_type": "display_data"
    }
   ],
   "source": [
    "for i, color in zip(range(5), ['r','g','b','c','m']):\n",
    "    x = np.random.normal(size=(5,))\n",
    "    x_bar = x.mean()\n",
    "    sigma = 1\n",
    "    z_star = stats.norm.ppf(0.975)\n",
    "    n = x.shape[0]\n",
    "    width = z_star * sigma / np.sqrt(n) \n",
    "\n",
    "    y_center = i * 0.2\n",
    "    scatter(x, y_center, color, x_bar, width)"
   ]
  },
  {
   "cell_type": "code",
   "execution_count": 11,
   "id": "fd636176",
   "metadata": {},
   "outputs": [
    {
     "data": {
      "image/png": "[encoded data removed]",
      "text/plain": [
       "<Figure size 432x288 with 1 Axes>"
      ]
     },
     "metadata": {
      "needs_background": "light"
     },
     "output_type": "display_data"
    }
   ],
   "source": [
    "for i, color in zip(range(5), ['r','g','b','c','m']):\n",
    "    x = np.random.normal(size=(5,))\n",
    "    x_bar = x.mean()\n",
    "    sigma = 1\n",
    "    z_star = stats.norm.ppf(0.975)\n",
    "    n = x.shape[0]\n",
    "    width = z_star * sigma / np.sqrt(n) \n",
    "\n",
    "    y_center = i * 0.2\n",
    "    scatter(x, y_center, color, x_bar, width)"
   ]
  },
  {
   "cell_type": "code",
   "execution_count": 12,
   "id": "17911899",
   "metadata": {},
   "outputs": [
    {
     "data": {
      "image/png": "[encoded data removed]",
      "text/plain": [
       "<Figure size 432x288 with 1 Axes>"
      ]
     },
     "metadata": {
      "needs_background": "light"
     },
     "output_type": "display_data"
    }
   ],
   "source": [
    "for i, color in zip(range(5), ['r','g','b','c','m']):\n",
    "    x = np.random.normal(size=(5,))\n",
    "    x_bar = x.mean()\n",
    "    sigma = 1\n",
    "    z_star = stats.norm.ppf(0.975)\n",
    "    n = x.shape[0]\n",
    "    width = z_star * sigma / np.sqrt(n) \n",
    "\n",
    "    y_center = i * 0.2\n",
    "    scatter(x, y_center, color, x_bar, width)"
   ]
  },
  {
   "cell_type": "code",
   "execution_count": 13,
   "id": "4ad30d8e",
   "metadata": {},
   "outputs": [
    {
     "data": {
      "image/png": "[encoded data removed]",
      "text/plain": [
       "<Figure size 432x288 with 1 Axes>"
      ]
     },
     "metadata": {
      "needs_background": "light"
     },
     "output_type": "display_data"
    }
   ],
   "source": [
    "for i, color in zip(range(5), ['r','g','b','c','m']):\n",
    "    x = np.random.normal(size=(5,))\n",
    "    x_bar = x.mean()\n",
    "    sigma = 1\n",
    "    z_star = stats.norm.ppf(0.975)\n",
    "    n = x.shape[0]\n",
    "    width = z_star * sigma / np.sqrt(n) \n",
    "\n",
    "    y_center = i * 0.2\n",
    "    scatter(x, y_center, color, x_bar, width)"
   ]
  },
  {
   "cell_type": "code",
   "execution_count": 14,
   "id": "8a2dc398",
   "metadata": {},
   "outputs": [
    {
     "data": {
      "image/png": "[encoded data removed]",
      "text/plain": [
       "<Figure size 432x288 with 1 Axes>"
      ]
     },
     "metadata": {
      "needs_background": "light"
     },
     "output_type": "display_data"
    }
   ],
   "source": [
    "for i, color in zip(range(5), ['r','g','b','c','m']):\n",
    "    x = np.random.normal(size=(5,))\n",
    "    x_bar = x.mean()\n",
    "    sigma = 1\n",
    "    z_star = stats.norm.ppf(0.975)\n",
    "    n = x.shape[0]\n",
    "    width = z_star * sigma / np.sqrt(n) \n",
    "\n",
    "    y_center = i * 0.2\n",
    "    scatter(x, y_center, color, x_bar, width)"
   ]
  },
  {
   "cell_type": "code",
   "execution_count": 15,
   "id": "b1135c98",
   "metadata": {},
   "outputs": [
    {
     "data": {
      "image/png": "[encoded data removed]",
      "text/plain": [
       "<Figure size 432x288 with 1 Axes>"
      ]
     },
     "metadata": {
      "needs_background": "light"
     },
     "output_type": "display_data"
    }
   ],
   "source": [
    "for i, color in zip(range(5), ['r','g','b','c','m']):\n",
    "    x = np.random.normal(size=(5,))\n",
    "    x_bar = x.mean()\n",
    "    sigma = 1\n",
    "    z_star = stats.norm.ppf(0.975)\n",
    "    n = x.shape[0]\n",
    "    width = z_star * sigma / np.sqrt(n) \n",
    "\n",
    "    y_center = i * 0.2\n",
    "    scatter(x, y_center, color, x_bar, width)"
   ]
  },
  {
   "cell_type": "code",
   "execution_count": 16,
   "id": "d107b86c",
   "metadata": {},
   "outputs": [
    {
     "data": {
      "image/png": "[encoded data removed]",
      "text/plain": [
       "<Figure size 432x288 with 1 Axes>"
      ]
     },
     "metadata": {
      "needs_background": "light"
     },
     "output_type": "display_data"
    }
   ],
   "source": [
    "for i, color in zip(range(5), ['r','g','b','c','m']):\n",
    "    x = np.random.normal(size=(5,))\n",
    "    x_bar = x.mean()\n",
    "    sigma = 1\n",
    "    z_star = stats.norm.ppf(0.975)\n",
    "    n = x.shape[0]\n",
    "    width = z_star * sigma / np.sqrt(n) \n",
    "\n",
    "    y_center = i * 0.2\n",
    "    scatter(x, y_center, color, x_bar, width)"
   ]
  }
 ],
 "metadata": {
  "kernelspec": {
   "display_name": "Python 3 (ipykernel)",
   "language": "python",
   "name": "python3"
  },
  "language_info": {
   "codemirror_mode": {
    "name": "ipython",
    "version": 3
   },
   "file_extension": ".py",
   "mimetype": "text/x-python",
   "name": "python",
   "nbconvert_exporter": "python",
   "pygments_lexer": "ipython3",
   "version": "3.7.11"
  }
 },
 "nbformat": 4,
 "nbformat_minor": 5
}
