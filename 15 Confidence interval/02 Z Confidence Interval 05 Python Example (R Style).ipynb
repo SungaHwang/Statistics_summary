{
 "cells": [
  {
   "cell_type": "code",
   "execution_count": 1,
   "metadata": {},
   "outputs": [],
   "source": [
    "import numpy as np\n",
    "from scipy import stats"
   ]
  },
  {
   "cell_type": "code",
   "execution_count": 2,
   "metadata": {},
   "outputs": [],
   "source": [
    "#define sample data\n",
    "data = [12, 12, 13, 13, 15, 16, 17, 22, 23, 25, 26, 27, 28, 28, 29]"
   ]
  },
  {
   "cell_type": "code",
   "execution_count": 3,
   "metadata": {},
   "outputs": [
    {
     "data": {
      "text/plain": [
       "(17.071631701202552, 23.728368298797445)"
      ]
     },
     "execution_count": 3,
     "metadata": {},
     "output_type": "execute_result"
    }
   ],
   "source": [
    "import statsmodels.stats.api as sms\n",
    "#sms.DescrStatsW(data, ddof=1).tconfint_mean()\n",
    "sms.DescrStatsW(data, ddof=1).zconfint_mean()"
   ]
  },
  {
   "cell_type": "code",
   "execution_count": 4,
   "metadata": {},
   "outputs": [
    {
     "data": {
      "text/plain": [
       "[17.071631701202552, 17.071631701202552]"
      ]
     },
     "execution_count": 4,
     "metadata": {},
     "output_type": "execute_result"
    }
   ],
   "source": [
    "x_bar = np.array(data).mean()\n",
    "s = np.array(data).std(ddof=1)\n",
    "n = len(data)\n",
    "df = len(data)-1\n",
    "#t_star = stats.t(df).ppf(0.975)\n",
    "z_star = stats.norm().ppf(0.975)\n",
    "confidence_interval = [x_bar-z_star*s/np.sqrt(n), x_bar-z_star*s/np.sqrt(n)]\n",
    "confidence_interval"
   ]
  },
  {
   "cell_type": "markdown",
   "metadata": {},
   "source": [
    "# Reference\n",
    "\n",
    "[How to Calculate Confidence Intervals in Python](https://www.statology.org/confidence-intervals-python/)\n",
    "\n",
    "[Compute a confidence interval from sample data](https://stackoverflow.com/questions/15033511/compute-a-confidence-interval-from-sample-data)"
   ]
  },
  {
   "cell_type": "code",
   "execution_count": null,
   "metadata": {},
   "outputs": [],
   "source": []
  }
 ],
 "metadata": {
  "kernelspec": {
   "display_name": "Python 3",
   "language": "python",
   "name": "python3"
  },
  "language_info": {
   "codemirror_mode": {
    "name": "ipython",
    "version": 3
   },
   "file_extension": ".py",
   "mimetype": "text/x-python",
   "name": "python",
   "nbconvert_exporter": "python",
   "pygments_lexer": "ipython3",
   "version": "3.8.5"
  }
 },
 "nbformat": 4,
 "nbformat_minor": 5
}
