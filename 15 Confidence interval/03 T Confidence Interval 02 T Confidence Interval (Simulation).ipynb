{
 "cells": [
  {
   "cell_type": "code",
   "execution_count": 1,
   "metadata": {},
   "outputs": [],
   "source": [
    "import matplotlib.pyplot as plt; #plt.style.use('seaborn')\n",
    "import numpy as np; np.random.seed(0)\n",
    "import pandas as pd\n",
    "from scipy import stats"
   ]
  },
  {
   "cell_type": "markdown",
   "metadata": {},
   "source": [
    "$$\\begin{array}{lll}\n",
    "\\mbox{Symetric Case}&&\\\\\n",
    "\\mbox{Confidence_Interval}_\\theta \n",
    "&=&\\hat{\\theta}\\pm\\mbox{Margin_of_Error}_\\theta\\\\\n",
    "\\\\\n",
    "\\\\\n",
    "\\mbox{Non-Symetric Case}&&\\\\\n",
    "\\mbox{Confidence_Interval}_\\theta \n",
    "&=&(\\mbox{Left}_\\theta, \\mbox{Right}_\\theta)\\\\\n",
    "&=&\\mbox{Center}_\\theta\\pm\\frac{\\mbox{Right}_\\theta-\\mbox{Left}_\\theta}{2}\\\\\n",
    "&=&\\mbox{Center}_\\theta\\pm\\mbox{Margin_of_Error}_\\theta\n",
    "\\end{array}$$"
   ]
  },
  {
   "cell_type": "markdown",
   "metadata": {},
   "source": [
    "# T Cofidence Interval\n",
    "\n",
    "$$\n",
    "\\bar{X}\\pm t_*(n-1)\\frac{S}{\\sqrt{n}}\n",
    "$$\n",
    "\n",
    "$$\\begin{array}{lllll}\n",
    "(1)\\ \\mbox{Simple Random Sample}\\\\\n",
    "(2)\\ \\mbox{Normal Condition}&&\\mbox{Original is Normal}\\\\\n",
    "(3)\\ \\mbox{Independence Condition}&&n < \\mbox{10% of total population if chosen without repetition}\\\\\n",
    "\\end{array}$$\n",
    "\n",
    "[Confidence interval](https://en.wikipedia.org/wiki/Confidence_interval)"
   ]
  },
  {
   "cell_type": "code",
   "execution_count": 2,
   "metadata": {},
   "outputs": [],
   "source": [
    "n_samples = 5\n",
    "n_simulations = 30"
   ]
  },
  {
   "cell_type": "code",
   "execution_count": 3,
   "metadata": {},
   "outputs": [],
   "source": [
    "samples = np.random.uniform(low=-3, high=3, size=(n_simulations, n_samples)) # (10,5)\n",
    "x_bar = samples.mean(axis=1).reshape((-1,1)) # (10,) ---> (10,1)\n",
    "S_square = np.sum((samples - x_bar)**2, axis=1) / (n_samples-1) # (10,)"
   ]
  },
  {
   "cell_type": "code",
   "execution_count": 4,
   "metadata": {},
   "outputs": [
    {
     "data": {
      "image/png": "[encoded data removed]",
      "text/plain": [
       "<Figure size 432x288 with 1 Axes>"
      ]
     },
     "metadata": {
      "needs_background": "light"
     },
     "output_type": "display_data"
    }
   ],
   "source": [
    "t_star = stats.t(n_samples-1).ppf(0.975)\n",
    "for i in range(n_simulations):\n",
    "    center = x_bar[i,0]\n",
    "    S = np.sqrt(S_square[i])\n",
    "    n = n_samples \n",
    "    margin = t_star * S / np.sqrt(n)\n",
    "    plt.plot([center-margin,center+margin], [i,i])\n",
    "plt.plot([0,0],[0,n_simulations],'--r');"
   ]
  },
  {
   "cell_type": "code",
   "execution_count": null,
   "metadata": {},
   "outputs": [],
   "source": []
  }
 ],
 "metadata": {
  "kernelspec": {
   "display_name": "Python 3",
   "language": "python",
   "name": "python3"
  },
  "language_info": {
   "codemirror_mode": {
    "name": "ipython",
    "version": 3
   },
   "file_extension": ".py",
   "mimetype": "text/x-python",
   "name": "python",
   "nbconvert_exporter": "python",
   "pygments_lexer": "ipython3",
   "version": "3.8.5"
  }
 },
 "nbformat": 4,
 "nbformat_minor": 4
}
