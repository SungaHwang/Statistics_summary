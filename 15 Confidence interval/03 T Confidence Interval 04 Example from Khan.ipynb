{
 "cells": [
  {
   "cell_type": "markdown",
   "metadata": {},
   "source": [
    "khanacademy [video](https://www.khanacademy.org/math/ap-statistics/estimating-confidence-ap/one-sample-t-interval-mean/v/conditions-for-valid-t-intervals?modal=1)\n",
    "[Reference: Conditions for inference on a mean](https://www.khanacademy.org/math/ap-statistics/estimating-confidence-ap/one-sample-t-interval-mean/a/reference-conditions-inference-one-mean?modal=1)"
   ]
  },
  {
   "cell_type": "markdown",
   "metadata": {},
   "source": [
    "$$\\begin{array}{lllll}\n",
    "\\mbox{Condition for $p$ Interval}\\\\\n",
    "(1)\\ \\mbox{Random Sample}\\\\\n",
    "(2)\\ \\mbox{Normal Condition}&&np\\ge 10,\\quad n(1-p)\\ge 10\\\\\n",
    "(3)\\ \\mbox{Independence Condition}&&n < \\mbox{10% of total population if chosen without repetition}\\\\\n",
    "\\\\\n",
    "\\mbox{Condition for $z$ Interval}\\\\\n",
    "(1)\\ \\mbox{Random Sample}\\\\\n",
    "(2)\\ \\mbox{Normal Condition}&&n\\ge 30\\quad\\mbox{or}\\quad\\mbox{Original is Normal}\\\\\n",
    "\\\\\n",
    "\\mbox{Condition for $t$ Interval}\\\\\n",
    "(1)\\ \\mbox{Random Sample}\\\\\n",
    "(2)\\ \\mbox{Normal Condition}&&\\mbox{Original is Normal}\\\\\n",
    "\\end{array}$$"
   ]
  },
  {
   "cell_type": "markdown",
   "metadata": {},
   "source": [
    "<div align=\"center\"><img src=\"img/Screen Shot 2019-08-13 at 2.02.32 PM.png\" width=\"100%\" height=\"30%\"></div>"
   ]
  }
 ],
 "metadata": {
  "kernelspec": {
   "display_name": "Python 3",
   "language": "python",
   "name": "python3"
  },
  "language_info": {
   "codemirror_mode": {
    "name": "ipython",
    "version": 3
   },
   "file_extension": ".py",
   "mimetype": "text/x-python",
   "name": "python",
   "nbconvert_exporter": "python",
   "pygments_lexer": "ipython3",
   "version": "3.7.7"
  }
 },
 "nbformat": 4,
 "nbformat_minor": 2
}
