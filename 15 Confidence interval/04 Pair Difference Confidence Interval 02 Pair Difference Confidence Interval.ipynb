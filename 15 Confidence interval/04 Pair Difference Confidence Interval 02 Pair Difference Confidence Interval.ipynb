{
 "cells": [
  {
   "cell_type": "markdown",
   "metadata": {},
   "source": [
    "# 짝비교\n",
    "\n",
    "$$\n",
    "\\begin{array}{ccc}\n",
    "\\displaystyle\n",
    "\\frac{\\bar{D}-\\mu_D}{\\frac{\\sigma_D}{\\sqrt{n}}}\\approx \\frac{\\bar{D}-\\mu_D}{\\frac{S_D}{\\sqrt{n}}} \\approx N(0,1)\n",
    "&\\Rightarrow&\n",
    "\\bar{D}\\pm z_*\\frac{S_D}{\\sqrt{n}}\\\\\n",
    "\\end{array}\n",
    "$$"
   ]
  },
  {
   "cell_type": "code",
   "execution_count": 11,
   "metadata": {},
   "outputs": [
    {
     "name": "stdout",
     "output_type": "stream",
     "text": [
      "1.6999999999999886\n",
      "(0.4602219126541778, 2.9397780873457995)\n"
     ]
    }
   ],
   "source": [
    "import numpy as np\n",
    "\n",
    "x_bar = 128.2\n",
    "y_bar = 126.5\n",
    "s_x = 17.5\n",
    "s_y = 20.1\n",
    "n_x = 1623\n",
    "n_y = 1911\n",
    "z_star = 1.96\n",
    "\n",
    "center = x_bar - y_bar \n",
    "s_D_square = s_x**2/n_x + s_y**2/n_y\n",
    "s_D = np.sqrt(s_D_square)\n",
    "left = center - z_star * np.sqrt(s_x**2/n_x + s_y**2/n_y) \n",
    "right = center + z_star * np.sqrt(s_x**2/n_x + s_y**2/n_y) \n",
    "confidence_interval = (left, right)\n",
    "\n",
    "print(center)\n",
    "print(confidence_interval)"
   ]
  },
  {
   "cell_type": "code",
   "execution_count": 12,
   "metadata": {},
   "outputs": [
    {
     "name": "stdout",
     "output_type": "stream",
     "text": [
      "3.0\n",
      "(2.3544704043274036, 3.6455295956725964)\n"
     ]
    }
   ],
   "source": [
    "import numpy as np\n",
    "\n",
    "x_bar = 75.6\n",
    "y_bar = 72.6\n",
    "s_x = 9.8\n",
    "s_y = 9.7\n",
    "n_x = 1622\n",
    "n_y = 1910\n",
    "z_star = 1.96\n",
    "\n",
    "center = x_bar - y_bar \n",
    "left = center - z_star * np.sqrt(s_x**2/n_x + s_y**2/n_y) \n",
    "right = center + z_star * np.sqrt(s_x**2/n_x + s_y**2/n_y) \n",
    "confidence_interval = (left, right)\n",
    "\n",
    "print(center)\n",
    "print(confidence_interval)"
   ]
  },
  {
   "cell_type": "code",
   "execution_count": null,
   "metadata": {},
   "outputs": [],
   "source": []
  }
 ],
 "metadata": {
  "kernelspec": {
   "display_name": "Python 3",
   "language": "python",
   "name": "python3"
  },
  "language_info": {
   "codemirror_mode": {
    "name": "ipython",
    "version": 3
   },
   "file_extension": ".py",
   "mimetype": "text/x-python",
   "name": "python",
   "nbconvert_exporter": "python",
   "pygments_lexer": "ipython3",
   "version": "3.8.5"
  }
 },
 "nbformat": 4,
 "nbformat_minor": 4
}
