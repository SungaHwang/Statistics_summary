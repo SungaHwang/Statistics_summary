{
 "cells": [
  {
   "cell_type": "markdown",
   "metadata": {},
   "source": [
    "$$\\begin{array}{lll}\n",
    "\\mbox{Symetric Case}&&\\\\\n",
    "\\mbox{Confidence_Interval}_\\theta \n",
    "&=&\\hat{\\theta}\\pm\\mbox{Margin_of_Error}_\\theta\\\\\n",
    "\\\\\n",
    "\\\\\n",
    "\\mbox{Non-Symetric Case}&&\\\\\n",
    "\\mbox{Confidence_Interval}_\\theta \n",
    "&=&(\\mbox{Left}_\\theta, \\mbox{Right}_\\theta)\\\\\n",
    "&=&\\mbox{Center}_\\theta\\pm\\frac{\\mbox{Right}_\\theta-\\mbox{Left}_\\theta}{2}\\\\\n",
    "&=&\\mbox{Center}_\\theta\\pm\\mbox{Margin_of_Error}_\\theta\n",
    "\\end{array}$$"
   ]
  },
  {
   "cell_type": "markdown",
   "metadata": {},
   "source": [
    "# Property of $S^2$\n",
    "For $X_i$ iid $N(\\mu,\\sigma^2)$\n",
    "$$\\begin{array}{lllll}\n",
    "S^2=\\frac{\\sum_{i=1}^n(X_i-\\bar{X})^2}{n-1}\n",
    "&\\Rightarrow&(n-1)S^2=\\sum_{i=1}^n(X_i-\\bar{X})^2\\\\\n",
    "&\\Rightarrow&\\text{[Approximate Computation]}&\\frac{(n-1)S^2}{\\sigma^2}=\\sum_{i=1}^n\\left(\\frac{X_i-\\bar{X}}{\\sigma}\\right)^2\\approx\\sum_{i=1}^n\\left(\\frac{X_i-\\mu}{\\sigma}\\right)^2=\\sum_{i=1}^nZ_i^2\\sim\\chi^2(n)\\\\\n",
    "&\\Rightarrow&\\text{[Exact Computation]}&\\frac{(n-1)S^2}{\\sigma^2}\\sim\\chi^2(n-1)\\\\\n",
    "\\end{array}$$"
   ]
  },
  {
   "cell_type": "markdown",
   "metadata": {},
   "source": [
    "# $\\chi^2$ Confidence Interval\n",
    "\n",
    "$$\n",
    "\\left(\\frac{(n-1)s^2}{\\chi^2_{\\alpha/2}(n-1)},\\quad\\frac{(n-1)s^2}{\\chi^2_{1-\\alpha/2}(n-1)}\\right)\n",
    "$$\n",
    "\n",
    "$$\\begin{array}{lllll}\n",
    "(1)\\ \\mbox{Simple Random Sample}\\\\\n",
    "(2)\\ \\mbox{Normal Condition}&&\\mbox{Original is Normal}\\\\\n",
    "(3)\\ \\mbox{Independence Condition}&&n < \\mbox{10% of total population if chosen without repetition}\\\\\n",
    "\\end{array}$$\n",
    "\n",
    "[Confidence interval](https://en.wikipedia.org/wiki/Confidence_interval)"
   ]
  },
  {
   "cell_type": "code",
   "execution_count": 1,
   "metadata": {},
   "outputs": [
    {
     "name": "stdout",
     "output_type": "stream",
     "text": [
      "[39.82034663813177, 67.21575896202233]\n"
     ]
    }
   ],
   "source": [
    "from scipy import stats\n",
    "import numpy as np\n",
    "\n",
    "n = 30\n",
    "s = 50\n",
    "\n",
    "boundary_left = stats.chi2(n-1).ppf(0.025)\n",
    "boundary_right = stats.chi2(n-1).ppf(0.975)\n",
    "\n",
    "right = (n-1) * s**2 / boundary_left\n",
    "left = (n-1) * s**2 / boundary_right\n",
    "ci_95 = [np.sqrt(left), np.sqrt(right)]\n",
    "print(ci_95)"
   ]
  },
  {
   "cell_type": "code",
   "execution_count": null,
   "metadata": {},
   "outputs": [],
   "source": []
  }
 ],
 "metadata": {
  "kernelspec": {
   "display_name": "Python 3 (ipykernel)",
   "language": "python",
   "name": "python3"
  },
  "language_info": {
   "codemirror_mode": {
    "name": "ipython",
    "version": 3
   },
   "file_extension": ".py",
   "mimetype": "text/x-python",
   "name": "python",
   "nbconvert_exporter": "python",
   "pygments_lexer": "ipython3",
   "version": "3.7.11"
  }
 },
 "nbformat": 4,
 "nbformat_minor": 2
}
