{
 "cells": [
  {
   "cell_type": "markdown",
   "metadata": {},
   "source": [
    "[khanacademy](https://www.khanacademy.org/math/ap-statistics/tests-significance-ap/idea-significance-tests/v/examples-of-null-and-alternative-hypotheses?modal=1)"
   ]
  },
  {
   "cell_type": "markdown",
   "metadata": {},
   "source": [
    "<div align=\"center\"><img src=\"img/Screen Shot 2019-08-13 at 2.41.00 PM.png\" width=\"100%\" height=\"30%\"></div>\n",
    "<div align=\"center\"><img src=\"img/Screen Shot 2019-08-13 at 2.42.55 PM.png\" width=\"100%\" height=\"30%\"></div>\n",
    "<div align=\"center\"><img src=\"img/Screen Shot 2019-08-13 at 2.45.19 PM.png\" width=\"100%\" height=\"30%\"></div>"
   ]
  }
 ],
 "metadata": {
  "kernelspec": {
   "display_name": "Python 3",
   "language": "python",
   "name": "python3"
  },
  "language_info": {
   "codemirror_mode": {
    "name": "ipython",
    "version": 3
   },
   "file_extension": ".py",
   "mimetype": "text/x-python",
   "name": "python",
   "nbconvert_exporter": "python",
   "pygments_lexer": "ipython3",
   "version": "3.7.4"
  }
 },
 "nbformat": 4,
 "nbformat_minor": 2
}
