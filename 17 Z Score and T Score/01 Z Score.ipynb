{
 "cells": [
  {
   "cell_type": "markdown",
   "id": "common-lincoln",
   "metadata": {},
   "source": [
    "# Z Score\n",
    "$$\n",
    "\\text{Z Score}=\\frac{X-\\mu}{\\sigma}\n",
    "$$"
   ]
  },
  {
   "cell_type": "code",
   "execution_count": 1,
   "id": "forced-sample",
   "metadata": {},
   "outputs": [],
   "source": [
    "X = 20\n",
    "mu = 24\n",
    "sigma = 5"
   ]
  },
  {
   "cell_type": "code",
   "execution_count": 2,
   "id": "elementary-tobago",
   "metadata": {},
   "outputs": [
    {
     "data": {
      "text/plain": [
       "-0.8"
      ]
     },
     "execution_count": 2,
     "metadata": {},
     "output_type": "execute_result"
    }
   ],
   "source": [
    "z_score = (X - mu) / sigma\n",
    "z_score"
   ]
  },
  {
   "cell_type": "markdown",
   "id": "crude-vietnam",
   "metadata": {},
   "source": [
    "# Reference\n",
    "\n",
    "[Statistics - Find the z score](https://www.youtube.com/watch?v=1o-t_mVDDYQ)"
   ]
  }
 ],
 "metadata": {
  "kernelspec": {
   "display_name": "Python 3",
   "language": "python",
   "name": "python3"
  },
  "language_info": {
   "codemirror_mode": {
    "name": "ipython",
    "version": 3
   },
   "file_extension": ".py",
   "mimetype": "text/x-python",
   "name": "python",
   "nbconvert_exporter": "python",
   "pygments_lexer": "ipython3",
   "version": "3.7.0"
  }
 },
 "nbformat": 4,
 "nbformat_minor": 5
}
