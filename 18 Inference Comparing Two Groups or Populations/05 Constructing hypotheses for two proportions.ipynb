{
 "cells": [
  {
   "cell_type": "markdown",
   "metadata": {},
   "source": [
    "[khanacademy](https://www.khanacademy.org/math/ap-statistics/two-sample-inference/two-sample-z-test-proportions/v/constructing-hypotheses-for-two-proportions?modal=1)"
   ]
  },
  {
   "cell_type": "markdown",
   "metadata": {},
   "source": [
    "<div align=\"center\"><img src=\"img/Screen Shot 2019-08-13 at 11.56.38 PM.png\" width=\"100%\" height=\"30%\"></div>\n",
    "<div align=\"center\"><img src=\"img/Screen Shot 2019-08-13 at 11.56.54 PM.png\" width=\"100%\" height=\"30%\"></div>"
   ]
  }
 ],
 "metadata": {
  "kernelspec": {
   "display_name": "Python 3",
   "language": "python",
   "name": "python3"
  },
  "language_info": {
   "codemirror_mode": {
    "name": "ipython",
    "version": 3
   },
   "file_extension": ".py",
   "mimetype": "text/x-python",
   "name": "python",
   "nbconvert_exporter": "python",
   "pygments_lexer": "ipython3",
   "version": "3.6.9"
  }
 },
 "nbformat": 4,
 "nbformat_minor": 2
}
