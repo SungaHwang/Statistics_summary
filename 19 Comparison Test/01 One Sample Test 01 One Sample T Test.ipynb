{
 "cells": [
  {
   "cell_type": "markdown",
   "id": "063b04bc",
   "metadata": {},
   "source": [
    "<img src='img/Screen Shot 2021-10-28 at 1.55.00 AM_2.png'>"
   ]
  },
  {
   "cell_type": "code",
   "execution_count": 1,
   "id": "829f9b3c",
   "metadata": {},
   "outputs": [],
   "source": [
    "import matplotlib.pyplot as plt; plt.style.use('seaborn')\n",
    "import numpy as np; np.random.seed(0)\n",
    "import pandas as pd\n",
    "from scipy import stats"
   ]
  },
  {
   "cell_type": "markdown",
   "id": "ef9d0548",
   "metadata": {},
   "source": [
    "<img src='img/Screen Shot 2021-10-27 at 5.59.57 PM.png'>\n",
    "\n",
    "[5.3.1- Steps in Conducting a Hypothesis Test for mu](https://online.stat.psu.edu/stat800/lesson/5/5.3/5.3.1)"
   ]
  },
  {
   "cell_type": "markdown",
   "id": "0eef242d",
   "metadata": {},
   "source": [
    "```\n",
    "scipy.stats.ttest_1samp(a, popmean, axis=0, nan_policy='propagate', alternative='two-sided')\n",
    "```\n",
    "\n",
    "[DOC](https://docs.scipy.org/doc/scipy/reference/generated/scipy.stats.ttest_1samp.html)"
   ]
  },
  {
   "cell_type": "code",
   "execution_count": 2,
   "id": "203ba6fe",
   "metadata": {},
   "outputs": [],
   "source": [
    "sample = np.random.normal(size=(100,))"
   ]
  },
  {
   "cell_type": "code",
   "execution_count": 3,
   "id": "1f65821c",
   "metadata": {},
   "outputs": [
    {
     "data": {
      "image/png": "[encoded data removed]",
      "text/plain": [
       "<Figure size 576x396 with 1 Axes>"
      ]
     },
     "metadata": {},
     "output_type": "display_data"
    }
   ],
   "source": [
    "plt.hist(sample, density=True);"
   ]
  },
  {
   "cell_type": "markdown",
   "id": "d52b09f6",
   "metadata": {},
   "source": [
    "$$\n",
    "H_0: \\mu=0\\quad\\text{vs}\\quad H_1: \\mu\\neq 0\n",
    "$$"
   ]
  },
  {
   "cell_type": "code",
   "execution_count": 4,
   "id": "558ba6ed",
   "metadata": {},
   "outputs": [
    {
     "data": {
      "text/plain": [
       "(0.5904283402851698, 0.5562489158694675)"
      ]
     },
     "execution_count": 4,
     "metadata": {},
     "output_type": "execute_result"
    }
   ],
   "source": [
    "stat, pval = stats.ttest_1samp(sample, 0.0)\n",
    "stat, pval"
   ]
  },
  {
   "cell_type": "code",
   "execution_count": 5,
   "id": "00540f6b",
   "metadata": {},
   "outputs": [
    {
     "data": {
      "text/plain": [
       "0.5904283402851698"
      ]
     },
     "execution_count": 5,
     "metadata": {},
     "output_type": "execute_result"
    }
   ],
   "source": [
    "x_bar = sample.mean()\n",
    "s = sample.std(ddof=1)\n",
    "n = sample.shape[0]\n",
    "mu = 0\n",
    "stat = (x_bar - mu) / (s / np.sqrt(n))\n",
    "stat"
   ]
  },
  {
   "cell_type": "code",
   "execution_count": 6,
   "id": "a30d08e6",
   "metadata": {},
   "outputs": [
    {
     "data": {
      "text/plain": [
       "0.5562489158694675"
      ]
     },
     "execution_count": 6,
     "metadata": {},
     "output_type": "execute_result"
    }
   ],
   "source": [
    "pval = 2 * stats.t(n-1).cdf(-abs(stat))\n",
    "pval"
   ]
  },
  {
   "cell_type": "markdown",
   "id": "80f6eca7",
   "metadata": {},
   "source": [
    "$$\n",
    "H_0: \\mu=-1\\quad\\text{vs}\\quad H_1: \\mu\\neq -1\n",
    "$$"
   ]
  },
  {
   "cell_type": "code",
   "execution_count": 7,
   "id": "773b7d7c",
   "metadata": {},
   "outputs": [
    {
     "data": {
      "text/plain": [
       "(10.462488715616162, 1.0740810021885569e-17)"
      ]
     },
     "execution_count": 7,
     "metadata": {},
     "output_type": "execute_result"
    }
   ],
   "source": [
    "stat, pval = stats.ttest_1samp(sample, -1.)\n",
    "stat, pval"
   ]
  },
  {
   "cell_type": "markdown",
   "id": "bacdddc7",
   "metadata": {},
   "source": [
    "$$\n",
    "H_0: \\mu=-1\\quad\\text{vs}\\quad H_1: \\mu< -1\n",
    "$$"
   ]
  },
  {
   "cell_type": "code",
   "execution_count": 8,
   "id": "22c4c54a",
   "metadata": {},
   "outputs": [
    {
     "data": {
      "text/plain": [
       "(10.462488715616162, 1.0)"
      ]
     },
     "execution_count": 8,
     "metadata": {},
     "output_type": "execute_result"
    }
   ],
   "source": [
    "stat, pval = stats.ttest_1samp(sample, -1., alternative='less')\n",
    "stat, pval"
   ]
  },
  {
   "cell_type": "markdown",
   "id": "52136b6a",
   "metadata": {},
   "source": [
    "$$\n",
    "H_0: \\mu=-1\\quad\\text{vs}\\quad H_1: \\mu> -1\n",
    "$$"
   ]
  },
  {
   "cell_type": "code",
   "execution_count": 9,
   "id": "af104d1b",
   "metadata": {},
   "outputs": [
    {
     "data": {
      "text/plain": [
       "(10.462488715616162, 5.3704050109427844e-18)"
      ]
     },
     "execution_count": 9,
     "metadata": {},
     "output_type": "execute_result"
    }
   ],
   "source": [
    "stat, pval = stats.ttest_1samp(sample, -1., alternative='greater')\n",
    "stat, pval"
   ]
  },
  {
   "cell_type": "code",
   "execution_count": null,
   "id": "604a9e45",
   "metadata": {},
   "outputs": [],
   "source": []
  }
 ],
 "metadata": {
  "kernelspec": {
   "display_name": "Python 3",
   "language": "python",
   "name": "python3"
  },
  "language_info": {
   "codemirror_mode": {
    "name": "ipython",
    "version": 3
   },
   "file_extension": ".py",
   "mimetype": "text/x-python",
   "name": "python",
   "nbconvert_exporter": "python",
   "pygments_lexer": "ipython3",
   "version": "3.8.8"
  }
 },
 "nbformat": 4,
 "nbformat_minor": 5
}
