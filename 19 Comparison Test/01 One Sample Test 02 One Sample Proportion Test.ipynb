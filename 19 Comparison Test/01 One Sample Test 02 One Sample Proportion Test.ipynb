{
 "cells": [
  {
   "cell_type": "markdown",
   "id": "540c2953",
   "metadata": {},
   "source": [
    "<img src='img/Screen Shot 2021-10-28 at 1.55.00 AM_2.png'>"
   ]
  },
  {
   "cell_type": "code",
   "execution_count": 1,
   "id": "5286d0bc",
   "metadata": {},
   "outputs": [],
   "source": [
    "import matplotlib.pyplot as plt; plt.style.use('seaborn')\n",
    "import numpy as np; np.random.seed(0)\n",
    "import pandas as pd\n",
    "from scipy import stats"
   ]
  },
  {
   "cell_type": "markdown",
   "id": "24977b56",
   "metadata": {},
   "source": [
    "<img src='img/Screen Shot 2021-10-26 at 1.01.32 AM.png'>\n",
    "\n",
    "[5.2 - Hypothesis Testing for One Sample Proportion](https://online.stat.psu.edu/stat800/lesson/5/5.2)"
   ]
  },
  {
   "cell_type": "markdown",
   "id": "04ef8720",
   "metadata": {},
   "source": [
    "```\n",
    "scipy.stats.binomtest(k, n, p=0.5, alternative='two-sided')\n",
    "```\n",
    "\n",
    "[DOC](https://docs.scipy.org/doc/scipy/reference/generated/scipy.stats.binomtest.html#scipy.stats.binomtest)"
   ]
  },
  {
   "cell_type": "markdown",
   "id": "8e8a179c",
   "metadata": {},
   "source": [
    "$$\n",
    "H_0: p_0=0.1\\quad\\text{vs}\\quad H_1: p_0\\neq 0.1\n",
    "$$"
   ]
  },
  {
   "cell_type": "code",
   "execution_count": 2,
   "id": "6eaf95ca",
   "metadata": {},
   "outputs": [],
   "source": [
    "num_1 = 110\n",
    "n = 1000\n",
    "p_0 = 0.1"
   ]
  },
  {
   "cell_type": "code",
   "execution_count": 3,
   "id": "e621fc64",
   "metadata": {},
   "outputs": [
    {
     "data": {
      "text/plain": [
       "BinomTestResult(k=110, n=1000, alternative='two-sided', proportion_estimate=0.11, pvalue=0.29166130195280887)"
      ]
     },
     "execution_count": 3,
     "metadata": {},
     "output_type": "execute_result"
    }
   ],
   "source": [
    "result = stats.binomtest(num_1, n=n, p=p_0)\n",
    "result "
   ]
  },
  {
   "cell_type": "code",
   "execution_count": 4,
   "id": "c5dc3191",
   "metadata": {},
   "outputs": [
    {
     "data": {
      "text/plain": [
       "BinomTestResult(k=3, n=15, alternative='two-sided', proportion_estimate=0.2, pvalue=0.18406106910639106)"
      ]
     },
     "execution_count": 4,
     "metadata": {},
     "output_type": "execute_result"
    }
   ],
   "source": [
    "result = stats.binomtest(num_1, n=n, p=p_0, alternative='two-sided')\n",
    "result "
   ]
  },
  {
   "cell_type": "code",
   "execution_count": 5,
   "id": "4d2d08ed",
   "metadata": {},
   "outputs": [
    {
     "data": {
      "text/plain": [
       "BinomTestResult(k=3, n=15, alternative='greater', proportion_estimate=0.2, pvalue=0.18406106910639106)"
      ]
     },
     "execution_count": 5,
     "metadata": {},
     "output_type": "execute_result"
    }
   ],
   "source": [
    "result = stats.binomtest(num_1, n=n, p=p_0, alternative='greater')\n",
    "result "
   ]
  },
  {
   "cell_type": "code",
   "execution_count": 6,
   "id": "9b9b1957",
   "metadata": {},
   "outputs": [
    {
     "data": {
      "text/plain": [
       "BinomTestResult(k=3, n=15, alternative='less', proportion_estimate=0.2, pvalue=0.944444369992464)"
      ]
     },
     "execution_count": 6,
     "metadata": {},
     "output_type": "execute_result"
    }
   ],
   "source": [
    "result = stats.binomtest(num_1, n=n, p=p_0, alternative='less')\n",
    "result"
   ]
  },
  {
   "cell_type": "code",
   "execution_count": 10,
   "id": "7110af06",
   "metadata": {},
   "outputs": [
    {
     "data": {
      "text/plain": [
       "0.944444369992464"
      ]
     },
     "execution_count": 10,
     "metadata": {},
     "output_type": "execute_result"
    }
   ],
   "source": [
    "result.pvalue"
   ]
  },
  {
   "cell_type": "markdown",
   "id": "152ea879",
   "metadata": {},
   "source": [
    "<img src='img/Screen Shot 2021-11-08 at 3.42.40 PM.png'>\n",
    "\n",
    "[source](https://github.com/scipy/scipy/blob/v1.7.1/scipy/stats/_binomtest.py#L204-L334)"
   ]
  },
  {
   "cell_type": "code",
   "execution_count": 14,
   "id": "68eff264",
   "metadata": {},
   "outputs": [
    {
     "data": {
      "text/plain": [
       "1.0540925533894592"
      ]
     },
     "execution_count": 14,
     "metadata": {},
     "output_type": "execute_result"
    }
   ],
   "source": [
    "p_hat = num_1 / n\n",
    "p_0 = 0.1\n",
    "stat = (p_hat - p_0) / np.sqrt(p_0*(1-p_0)/n)\n",
    "stat"
   ]
  },
  {
   "cell_type": "code",
   "execution_count": 15,
   "id": "1b52bd42",
   "metadata": {},
   "outputs": [
    {
     "data": {
      "text/plain": [
       "0.29184054514378877"
      ]
     },
     "execution_count": 15,
     "metadata": {},
     "output_type": "execute_result"
    }
   ],
   "source": [
    "pval = 2 * stats.norm().cdf(-abs(stat))\n",
    "pval"
   ]
  },
  {
   "cell_type": "code",
   "execution_count": null,
   "id": "8dfff761",
   "metadata": {},
   "outputs": [],
   "source": []
  }
 ],
 "metadata": {
  "kernelspec": {
   "display_name": "Python 3",
   "language": "python",
   "name": "python3"
  },
  "language_info": {
   "codemirror_mode": {
    "name": "ipython",
    "version": 3
   },
   "file_extension": ".py",
   "mimetype": "text/x-python",
   "name": "python",
   "nbconvert_exporter": "python",
   "pygments_lexer": "ipython3",
   "version": "3.8.8"
  }
 },
 "nbformat": 4,
 "nbformat_minor": 5
}
