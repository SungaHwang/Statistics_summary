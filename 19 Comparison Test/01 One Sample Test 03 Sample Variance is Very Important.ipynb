{
 "cells": [
  {
   "cell_type": "markdown",
   "id": "bcf30352",
   "metadata": {},
   "source": [
    "<img src='img/Screen Shot 2021-10-28 at 1.55.00 AM_2.png'>"
   ]
  },
  {
   "cell_type": "code",
   "execution_count": 1,
   "id": "a2011636",
   "metadata": {},
   "outputs": [],
   "source": [
    "import matplotlib.pyplot as plt; plt.style.use('seaborn')\n",
    "import numpy as np; np.random.seed(0)\n",
    "import pandas as pd\n",
    "from scipy import stats"
   ]
  },
  {
   "cell_type": "markdown",
   "id": "82aca361",
   "metadata": {},
   "source": [
    "<img src='img/Screen Shot 2021-10-27 at 5.59.57 PM.png'>\n",
    "\n",
    "[5.3.1- Steps in Conducting a Hypothesis Test for mu](https://online.stat.psu.edu/stat800/lesson/5/5.3/5.3.1)"
   ]
  },
  {
   "cell_type": "markdown",
   "id": "37b91292",
   "metadata": {},
   "source": [
    "```\n",
    "scipy.stats.ttest_1samp(a, popmean, axis=0, nan_policy='propagate', alternative='two-sided')\n",
    "```\n",
    "\n",
    "[DOC](https://docs.scipy.org/doc/scipy/reference/generated/scipy.stats.ttest_1samp.html)"
   ]
  },
  {
   "cell_type": "markdown",
   "id": "c1547e3f",
   "metadata": {},
   "source": [
    "$$\n",
    "H_0: \\mu=0\\quad\\text{vs}\\quad H_1: \\mu\\neq 0\n",
    "$$"
   ]
  },
  {
   "cell_type": "code",
   "execution_count": 5,
   "id": "8d43c5bb",
   "metadata": {},
   "outputs": [
    {
     "data": {
      "text/plain": [
       "0.5904283402851698"
      ]
     },
     "execution_count": 5,
     "metadata": {},
     "output_type": "execute_result"
    }
   ],
   "source": [
    "x_bar = 0.5\n",
    "s = 0.1\n",
    "n = 100\n",
    "mu = 0\n",
    "stat = (x_bar - mu) / (s / np.sqrt(n))\n",
    "pval = 2 * stats.t(n-1).cdf(-abs(stat))\n",
    "stat,  pval"
   ]
  },
  {
   "cell_type": "code",
   "execution_count": null,
   "id": "a3b26be3",
   "metadata": {},
   "outputs": [],
   "source": []
  }
 ],
 "metadata": {
  "kernelspec": {
   "display_name": "Python 3",
   "language": "python",
   "name": "python3"
  },
  "language_info": {
   "codemirror_mode": {
    "name": "ipython",
    "version": 3
   },
   "file_extension": ".py",
   "mimetype": "text/x-python",
   "name": "python",
   "nbconvert_exporter": "python",
   "pygments_lexer": "ipython3",
   "version": "3.8.8"
  }
 },
 "nbformat": 4,
 "nbformat_minor": 5
}
