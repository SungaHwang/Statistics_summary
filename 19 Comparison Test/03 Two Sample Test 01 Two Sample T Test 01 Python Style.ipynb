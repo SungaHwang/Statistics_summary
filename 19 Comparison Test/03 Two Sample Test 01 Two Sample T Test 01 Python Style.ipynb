{
 "cells": [
  {
   "cell_type": "markdown",
   "id": "split-month",
   "metadata": {},
   "source": [
    "<img src='img/Screen Shot 2021-10-28 at 1.55.00 AM_2.png'>"
   ]
  },
  {
   "cell_type": "markdown",
   "id": "modern-detail",
   "metadata": {},
   "source": [
    "<img src='img/Screen Shot 2021-10-26 at 12.37.32 AM.png' width=100%>\n",
    "\n",
    "[How To... Test for Equal and Unequal Variance (F Test) by Hand](https://www.youtube.com/watch?v=-ukqBN5sQSI)"
   ]
  },
  {
   "cell_type": "code",
   "execution_count": 1,
   "id": "certain-realtor",
   "metadata": {},
   "outputs": [],
   "source": [
    "import matplotlib.pyplot as plt; plt.style.use('seaborn')\n",
    "import numpy as np; np.random.seed(0)\n",
    "import pandas as pd\n",
    "from scipy import stats"
   ]
  },
  {
   "cell_type": "markdown",
   "id": "statewide-death",
   "metadata": {},
   "source": [
    "<img src='img/Screen Shot 2021-10-27 at 6.04.12 PM.png' width=80%>\n",
    "\n",
    "[5.6.1.1 - Pooled Variances](https://online.stat.psu.edu/stat800/lesson/5/5.6/5.6.1/5.6.1.1)"
   ]
  },
  {
   "cell_type": "markdown",
   "id": "baking-lesbian",
   "metadata": {},
   "source": [
    "<img src='img/Screen Shot 2021-10-27 at 6.04.38 PM.png' width=80%>\n",
    "\n",
    "[5.6.1.2 - Unpooled Variances](https://online.stat.psu.edu/stat800/lesson/5/5.6/5.6.1/5.6.1.2)"
   ]
  },
  {
   "cell_type": "markdown",
   "id": "altered-brooklyn",
   "metadata": {},
   "source": [
    "```\n",
    "scipy.stats.ttest_ind(a, b, axis=0, equal_var=True, nan_policy='propagate', permutations=None, random_state=None, alternative='two-sided', trim=0)\n",
    "```\n",
    "\n",
    "[DOC](https://docs.scipy.org/doc/scipy/reference/generated/scipy.stats.ttest_ind.html)"
   ]
  },
  {
   "cell_type": "code",
   "execution_count": 19,
   "id": "interested-regression",
   "metadata": {},
   "outputs": [],
   "source": [
    "np.random.seed(37)\n",
    "sample = np.random.normal(size=(100,)) # mu_1 = 0\n",
    "sample2 = np.random.normal(loc=0.3, size=(100,))  # mu_2 = 0.3"
   ]
  },
  {
   "cell_type": "code",
   "execution_count": 21,
   "id": "upset-burlington",
   "metadata": {},
   "outputs": [
    {
     "data": {
      "text/plain": [
       "(-1.5679164113404067, 0.94075030122026)"
      ]
     },
     "execution_count": 21,
     "metadata": {},
     "output_type": "execute_result"
    }
   ],
   "source": [
    "stat, pval = stats.ttest_ind(sample, sample2, equal_var=False, alternative='greater')\n",
    "stat, pval"
   ]
  },
  {
   "cell_type": "markdown",
   "id": "celtic-husband",
   "metadata": {},
   "source": [
    "# Reference\n",
    "\n",
    "[Student's t-test](https://www.youtube.com/watch?v=pTmLQvMM-1M)"
   ]
  }
 ],
 "metadata": {
  "kernelspec": {
   "display_name": "Python 3 (ipykernel)",
   "language": "python",
   "name": "python3"
  },
  "language_info": {
   "codemirror_mode": {
    "name": "ipython",
    "version": 3
   },
   "file_extension": ".py",
   "mimetype": "text/x-python",
   "name": "python",
   "nbconvert_exporter": "python",
   "pygments_lexer": "ipython3",
   "version": "3.8.8"
  }
 },
 "nbformat": 4,
 "nbformat_minor": 5
}
