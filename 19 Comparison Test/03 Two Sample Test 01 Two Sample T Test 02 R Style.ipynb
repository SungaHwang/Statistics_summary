{
 "cells": [
  {
   "cell_type": "markdown",
   "id": "becoming-player",
   "metadata": {},
   "source": [
    "<img src='img/Screen Shot 2021-10-28 at 1.55.00 AM_2.png'>"
   ]
  },
  {
   "cell_type": "markdown",
   "id": "rapid-software",
   "metadata": {},
   "source": [
    "<img src='img/Screen Shot 2021-10-26 at 12.37.32 AM.png' width=50%>\n",
    "\n",
    "[How To... Test for Equal and Unequal Variance (F Test) by Hand](https://www.youtube.com/watch?v=-ukqBN5sQSI)"
   ]
  },
  {
   "cell_type": "code",
   "execution_count": 1,
   "id": "reverse-affiliate",
   "metadata": {},
   "outputs": [],
   "source": [
    "import matplotlib.pyplot as plt; plt.style.use('seaborn')\n",
    "import numpy as np; np.random.seed(0)\n",
    "import pandas as pd\n",
    "from scipy import stats"
   ]
  },
  {
   "cell_type": "markdown",
   "id": "joined-inflation",
   "metadata": {},
   "source": [
    "<img src='img/Screen Shot 2021-10-27 at 6.04.12 PM.png' width=60%>\n",
    "\n",
    "[5.6.1.1 - Pooled Variances](https://online.stat.psu.edu/stat800/lesson/5/5.6/5.6.1/5.6.1.1)"
   ]
  },
  {
   "cell_type": "markdown",
   "id": "physical-proceeding",
   "metadata": {},
   "source": [
    "<img src='img/Screen Shot 2021-10-27 at 6.04.38 PM.png' width=60%>\n",
    "\n",
    "[5.6.1.2 - Unpooled Variances](https://online.stat.psu.edu/stat800/lesson/5/5.6/5.6.1/5.6.1.2)"
   ]
  },
  {
   "cell_type": "code",
   "execution_count": 2,
   "id": "exclusive-classic",
   "metadata": {},
   "outputs": [],
   "source": [
    "sample = np.random.normal(size=(100,))\n",
    "sample2 = np.random.normal(loc=0.3, size=(100,))"
   ]
  },
  {
   "cell_type": "markdown",
   "id": "different-yemen",
   "metadata": {},
   "source": [
    "# API Reference\n",
    "The main statsmodels API is split into models:\n",
    "\n",
    "`statsmodels.api`: Cross-sectional models and methods. Canonically imported using import statsmodels.api as sm.\n",
    "\n",
    "`statsmodels.tsa.api`: Time-series models and methods. Canonically imported using import statsmodels.tsa.api as tsa.\n",
    "\n",
    "`statsmodels.formula.api`: A convenience interface for specifying models using formula strings and DataFrames. This API directly exposes the from_formula class method of models that support the formula API. Canonically imported using import statsmodels.formula.api as smf\n",
    "\n",
    "[DOC](https://www.statsmodels.org/stable/api.html)"
   ]
  },
  {
   "cell_type": "markdown",
   "id": "interesting-canada",
   "metadata": {},
   "source": [
    "```\n",
    "statsmodels.stats.weightstats.ttest_ind(x1, x2, alternative='two-sided', usevar='pooled', weights=(None, None), value=0)\n",
    "```\n",
    "\n",
    "[DOC](https://www.statsmodels.org/stable/generated/statsmodels.stats.weightstats.ttest_ind.html)"
   ]
  },
  {
   "cell_type": "code",
   "execution_count": 3,
   "id": "purple-airfare",
   "metadata": {},
   "outputs": [
    {
     "name": "stdout",
     "output_type": "stream",
     "text": [
      "stat    : -2.2195\n",
      "p-value :  0.0138\n"
     ]
    }
   ],
   "source": [
    "import statsmodels.api as sm\n",
    "stat, pval, df = sm.stats.ttest_ind(sample, sample2, usevar='unequal', alternative='smaller')\n",
    "print(f'stat    : {stat:>6.4f}')\n",
    "print(f'p-value : {pval:>7.4f}')"
   ]
  },
  {
   "cell_type": "markdown",
   "id": "oriental-flooring",
   "metadata": {},
   "source": [
    "# Reference\n",
    "\n",
    "[Student's t-test](https://www.youtube.com/watch?v=pTmLQvMM-1M)"
   ]
  }
 ],
 "metadata": {
  "kernelspec": {
   "display_name": "Python 3",
   "language": "python",
   "name": "python3"
  },
  "language_info": {
   "codemirror_mode": {
    "name": "ipython",
    "version": 3
   },
   "file_extension": ".py",
   "mimetype": "text/x-python",
   "name": "python",
   "nbconvert_exporter": "python",
   "pygments_lexer": "ipython3",
   "version": "3.8.8"
  }
 },
 "nbformat": 4,
 "nbformat_minor": 5
}
