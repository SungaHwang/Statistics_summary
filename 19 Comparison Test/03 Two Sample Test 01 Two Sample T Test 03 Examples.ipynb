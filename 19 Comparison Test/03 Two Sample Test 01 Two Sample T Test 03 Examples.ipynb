{
 "cells": [
  {
   "cell_type": "markdown",
   "metadata": {},
   "source": [
    "<img src='img/Screen Shot 2021-10-28 at 1.55.00 AM_2.png'>"
   ]
  },
  {
   "cell_type": "markdown",
   "metadata": {},
   "source": [
    "<img src='img/Screen Shot 2021-10-26 at 12.37.32 AM.png' width=50%>\n",
    "\n",
    "[How To... Test for Equal and Unequal Variance (F Test) by Hand](https://www.youtube.com/watch?v=-ukqBN5sQSI)"
   ]
  },
  {
   "cell_type": "code",
   "execution_count": 1,
   "metadata": {},
   "outputs": [],
   "source": [
    "import matplotlib.pyplot as plt; plt.style.use('seaborn')\n",
    "import numpy as np; np.random.seed(0)\n",
    "import pandas as pd\n",
    "from scipy import stats"
   ]
  },
  {
   "cell_type": "markdown",
   "metadata": {},
   "source": [
    "<img src='img/Screen Shot 2021-10-27 at 6.04.12 PM.png' width=60%>\n",
    "\n",
    "[5.6.1.1 - Pooled Variances](https://online.stat.psu.edu/stat800/lesson/5/5.6/5.6.1/5.6.1.1)"
   ]
  },
  {
   "cell_type": "markdown",
   "metadata": {},
   "source": [
    "<img src='img/Screen Shot 2021-10-27 at 6.04.38 PM.png' width=60%>\n",
    "\n",
    "[5.6.1.2 - Unpooled Variances](https://online.stat.psu.edu/stat800/lesson/5/5.6/5.6.1/5.6.1.2)"
   ]
  },
  {
   "cell_type": "markdown",
   "metadata": {},
   "source": [
    "<div align=\"center\"><img src=\"img/Screen Shot 2019-08-15 at 6.16.45 PM.png\" width=\"100%\" height=\"30%\"></div> \n",
    "\n",
    "[khanacademy](https://www.khanacademy.org/math/ap-statistics/two-sample-inference/two-sample-t-test-means/e/p-value-in-a-two-sample-t-test-for-the-difference-of-means)"
   ]
  },
  {
   "cell_type": "code",
   "execution_count": 2,
   "metadata": {},
   "outputs": [
    {
     "name": "stdout",
     "output_type": "stream",
     "text": [
      "129.71699161423916\n",
      "0.1124434757756921\n"
     ]
    }
   ],
   "source": [
    "s1 = 2.6\n",
    "s2 = 2.2\n",
    "N1 = 67\n",
    "N2 = 72\n",
    "\n",
    "t_value = (6.5 - 6.0) / np.sqrt(s1**2/N1 + s2**2/N2)\n",
    "\n",
    "# https://www.itl.nist.gov/div898/handbook/eda/section3/eda353.htm\n",
    "top = (s1**2/N1 + s2**2/N2)**2\n",
    "bottom = (s1**2/N1)**2/(N1-1) + (s2**2/N2)**2/(N2-1) \n",
    "df = top / bottom\n",
    "print(df)\n",
    "\n",
    "p_value = stats.t(df).cdf(-t_value)\n",
    "print(p_value)"
   ]
  },
  {
   "cell_type": "markdown",
   "metadata": {},
   "source": [
    "<div align=\"center\"><img src=\"img/Screen Shot 2019-08-15 at 6.19.50 PM.png\" width=\"100%\" height=\"30%\"></div>  \n",
    "\n",
    "[khanacademy](https://www.khanacademy.org/math/ap-statistics/two-sample-inference/two-sample-t-test-means/e/p-value-in-a-two-sample-t-test-for-the-difference-of-means)"
   ]
  },
  {
   "cell_type": "code",
   "execution_count": 3,
   "metadata": {},
   "outputs": [
    {
     "name": "stdout",
     "output_type": "stream",
     "text": [
      "0.036595844311059514\n"
     ]
    }
   ],
   "source": [
    "mu1 = 1.98\n",
    "mu2 = 1.32\n",
    "s1 = 1.77\n",
    "s2 = 1.28\n",
    "N1 = 46\n",
    "N2 = 58\n",
    "\n",
    "t_value = (mu1 - mu2) / np.sqrt(s1**2/N1 + s2**2/N2)\n",
    "\n",
    "# https://www.itl.nist.gov/div898/handbook/eda/section3/eda353.htm\n",
    "top = (s1**2/N1 + s2**2/N2)**2\n",
    "bottom = (s1**2/N1)**2/(N1-1) + (s2**2/N2)**2/(N2-1) \n",
    "df = top / bottom\n",
    "\n",
    "p_value = 2 * stats.t(df).cdf(-t_value)\n",
    "print(p_value)"
   ]
  },
  {
   "cell_type": "markdown",
   "metadata": {},
   "source": [
    "<div align=\"center\"><img src=\"img/Screen Shot 2019-08-15 at 6.20.15 PM.png\" width=\"100%\" height=\"30%\"></div>  \n",
    "\n",
    "[khanacademy](https://www.khanacademy.org/math/ap-statistics/two-sample-inference/two-sample-t-test-means/e/p-value-in-a-two-sample-t-test-for-the-difference-of-means)"
   ]
  },
  {
   "cell_type": "code",
   "execution_count": 4,
   "metadata": {},
   "outputs": [
    {
     "name": "stdout",
     "output_type": "stream",
     "text": [
      "0.005261467858258187\n"
     ]
    }
   ],
   "source": [
    "mu1 = 67\n",
    "mu2 = 70\n",
    "s1 = 9\n",
    "s2 = 8\n",
    "N1 = 104\n",
    "N2 = 112\n",
    "\n",
    "t_value = (mu2 - mu1) / np.sqrt(s1**2/N1 + s2**2/N2)\n",
    "\n",
    "# https://www.itl.nist.gov/div898/handbook/eda/section3/eda353.htm\n",
    "top = (s1**2/N1 + s2**2/N2)**2\n",
    "bottom = (s1**2/N1)**2/(N1-1) + (s2**2/N2)**2/(N2-1) \n",
    "df = top / bottom\n",
    "\n",
    "p_value = stats.t(df).cdf(-t_value)\n",
    "print(p_value)"
   ]
  },
  {
   "cell_type": "markdown",
   "metadata": {},
   "source": [
    "<div align=\"center\"><img src=\"img/Screen Shot 2019-08-15 at 6.20.35 PM.png\" width=\"100%\" height=\"30%\"></div>  \n",
    "\n",
    "[khanacademy](https://www.khanacademy.org/math/ap-statistics/two-sample-inference/two-sample-t-test-means/e/p-value-in-a-two-sample-t-test-for-the-difference-of-means)"
   ]
  },
  {
   "cell_type": "code",
   "execution_count": 5,
   "metadata": {},
   "outputs": [
    {
     "name": "stdout",
     "output_type": "stream",
     "text": [
      "0.184975037350408\n"
     ]
    }
   ],
   "source": [
    "mu1 = 1.97\n",
    "mu2 = 1.65\n",
    "s1 = 1.76\n",
    "s2 = 1.41\n",
    "N1 = 88\n",
    "N2 = 88\n",
    "\n",
    "t_value = (mu1 - mu2) / np.sqrt(s1**2/N1 + s2**2/N2)\n",
    "\n",
    "# https://www.itl.nist.gov/div898/handbook/eda/section3/eda353.htm\n",
    "top = (s1**2/N1 + s2**2/N2)**2\n",
    "bottom = (s1**2/N1)**2/(N1-1) + (s2**2/N2)**2/(N2-1) \n",
    "df = top / bottom\n",
    "\n",
    "pval = 2 * stats.t(df).cdf(-t_value)\n",
    "pval"
   ]
  },
  {
   "cell_type": "markdown",
   "metadata": {},
   "source": [
    "# Reference\n",
    "\n",
    "[scipy.stats.ttest_ind](https://docs.scipy.org/doc/scipy/reference/generated/scipy.stats.ttest_ind.html)\n",
    "\n",
    "[scipy.stats.ttest_rel](https://docs.scipy.org/doc/scipy/reference/generated/scipy.stats.ttest_rel.html?highlight=ttest_rel#scipy.stats.ttest_rel)\n",
    "\n",
    "[Erik_Marsja](https://www.youtube.com/watch?v=ZR6bf8_s-hw)\n",
    "\n",
    "khanacademy\n",
    "[1](https://www.khanacademy.org/math/ap-statistics/two-sample-inference/two-sample-t-test-means/v/alternative-hypothesis-for-2-sample-t-test)\n",
    "[2](https://www.khanacademy.org/math/ap-statistics/two-sample-inference/two-sample-t-test-means/v/example-of-hypotheses-for-paired-and-2-sample-t-tests)\n",
    "[3](https://www.khanacademy.org/math/ap-statistics/two-sample-inference/two-sample-t-test-means/v/two-sample-t-test-for-difference-of-means)\n",
    "[4](https://www.khanacademy.org/math/ap-statistics/two-sample-inference/two-sample-t-test-means/v/conclusion-for-2-sample-t-test-from-p-value)\n",
    "[5](https://www.khanacademy.org/math/ap-statistics/two-sample-inference/two-sample-t-test-means/v/conclusion-for-2-sample-t-test-from-confidence-interval)\n",
    "\n",
    "[Student's t-test](https://www.youtube.com/watch?v=pTmLQvMM-1M)"
   ]
  },
  {
   "cell_type": "code",
   "execution_count": null,
   "metadata": {},
   "outputs": [],
   "source": []
  }
 ],
 "metadata": {
  "kernelspec": {
   "display_name": "Python 3",
   "language": "python",
   "name": "python3"
  },
  "language_info": {
   "codemirror_mode": {
    "name": "ipython",
    "version": 3
   },
   "file_extension": ".py",
   "mimetype": "text/x-python",
   "name": "python",
   "nbconvert_exporter": "python",
   "pygments_lexer": "ipython3",
   "version": "3.8.8"
  }
 },
 "nbformat": 4,
 "nbformat_minor": 2
}
