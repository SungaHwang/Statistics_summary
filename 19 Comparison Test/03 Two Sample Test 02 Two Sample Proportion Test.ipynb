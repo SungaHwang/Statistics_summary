{
 "cells": [
  {
   "cell_type": "markdown",
   "id": "dangerous-village",
   "metadata": {},
   "source": [
    "<img src='img/Screen Shot 2021-10-28 at 1.55.00 AM_2.png'>"
   ]
  },
  {
   "cell_type": "markdown",
   "id": "outer-station",
   "metadata": {},
   "source": [
    "<img src='img/Screen Shot 2021-10-26 at 12.59.27 AM.png' width=50%>\n",
    "\n",
    "[5.5 - Hypothesis Testing for Two-Sample Proportions](https://online.stat.psu.edu/stat800/lesson/5/5.5)"
   ]
  },
  {
   "cell_type": "code",
   "execution_count": null,
   "id": "hired-institute",
   "metadata": {},
   "outputs": [],
   "source": []
  }
 ],
 "metadata": {
  "kernelspec": {
   "display_name": "Python 3",
   "language": "python",
   "name": "python3"
  },
  "language_info": {
   "codemirror_mode": {
    "name": "ipython",
    "version": 3
   },
   "file_extension": ".py",
   "mimetype": "text/x-python",
   "name": "python",
   "nbconvert_exporter": "python",
   "pygments_lexer": "ipython3",
   "version": "3.8.8"
  }
 },
 "nbformat": 4,
 "nbformat_minor": 5
}
