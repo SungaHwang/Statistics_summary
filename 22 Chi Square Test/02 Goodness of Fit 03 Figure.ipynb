{
 "cells": [
  {
   "cell_type": "markdown",
   "metadata": {},
   "source": [
    "<img src='img/Screen Shot 2021-10-28 at 1.12.39 AM.png'>"
   ]
  },
  {
   "cell_type": "code",
   "execution_count": 1,
   "metadata": {},
   "outputs": [],
   "source": [
    "import matplotlib.pyplot as plt\n",
    "import numpy as np\n",
    "import pandas as pd\n",
    "from scipy import stats"
   ]
  },
  {
   "cell_type": "code",
   "execution_count": 2,
   "metadata": {},
   "outputs": [
    {
     "data": {
      "text/html": [
       "<div>\n",
       "<style scoped>\n",
       "    .dataframe tbody tr th:only-of-type {\n",
       "        vertical-align: middle;\n",
       "    }\n",
       "\n",
       "    .dataframe tbody tr th {\n",
       "        vertical-align: top;\n",
       "    }\n",
       "\n",
       "    .dataframe thead th {\n",
       "        text-align: right;\n",
       "    }\n",
       "</style>\n",
       "<table border=\"1\" class=\"dataframe\">\n",
       "  <thead>\n",
       "    <tr style=\"text-align: right;\">\n",
       "      <th></th>\n",
       "      <th>Class 1</th>\n",
       "      <th>Class 2</th>\n",
       "      <th>Class 3</th>\n",
       "      <th>Class 4</th>\n",
       "      <th>Class 5</th>\n",
       "      <th>Class 6</th>\n",
       "    </tr>\n",
       "  </thead>\n",
       "  <tbody>\n",
       "    <tr>\n",
       "      <th>O</th>\n",
       "      <td>72</td>\n",
       "      <td>40</td>\n",
       "      <td>68</td>\n",
       "      <td>60</td>\n",
       "      <td>72</td>\n",
       "      <td>72</td>\n",
       "    </tr>\n",
       "    <tr>\n",
       "      <th>E</th>\n",
       "      <td>64</td>\n",
       "      <td>64</td>\n",
       "      <td>64</td>\n",
       "      <td>64</td>\n",
       "      <td>64</td>\n",
       "      <td>64</td>\n",
       "    </tr>\n",
       "  </tbody>\n",
       "</table>\n",
       "</div>"
      ],
      "text/plain": [
       "   Class 1  Class 2  Class 3  Class 4  Class 5  Class 6\n",
       "O       72       40       68       60       72       72\n",
       "E       64       64       64       64       64       64"
      ]
     },
     "execution_count": 2,
     "metadata": {},
     "output_type": "execute_result"
    }
   ],
   "source": [
    "O = np.array([18, 10, 17, 15, 18, 18]) * 4\n",
    "E = np.array([16, 16, 16, 16, 16, 16]) * 4\n",
    "data = {'O': O, 'E': E}\n",
    "df = pd.DataFrame(data).transpose()\n",
    "df.columns = ['Class 1','Class 2','Class 3','Class 4','Class 5','Class 6']\n",
    "df"
   ]
  },
  {
   "cell_type": "code",
   "execution_count": 3,
   "metadata": {},
   "outputs": [
    {
     "name": "stdout",
     "output_type": "stream",
     "text": [
      "Statistic : 12.5\n",
      "P Value   : 0.028543123326167485\n"
     ]
    }
   ],
   "source": [
    "statistic, p_value = stats.chisquare(O, f_exp=E)\n",
    "print(f'Statistic : {statistic}')\n",
    "print(f'P Value   : {p_value}')"
   ]
  },
  {
   "cell_type": "markdown",
   "metadata": {},
   "source": [
    "$$\n",
    "\\displaystyle\n",
    "\\chi^2_{df}=\\sum_{i=1}^k\\frac{(O_i-E_i)^2}{E_i},\\quad df=k-1\n",
    "$$"
   ]
  },
  {
   "cell_type": "code",
   "execution_count": 7,
   "metadata": {},
   "outputs": [
    {
     "data": {
      "text/plain": [
       "5"
      ]
     },
     "execution_count": 7,
     "metadata": {},
     "output_type": "execute_result"
    }
   ],
   "source": [
    "degree_of_freedom = O.shape[0] - 1\n",
    "degree_of_freedom"
   ]
  },
  {
   "cell_type": "code",
   "execution_count": 9,
   "metadata": {},
   "outputs": [
    {
     "data": {
      "image/png": "[encoded data removed]",
      "text/plain": [
       "<Figure size 432x288 with 1 Axes>"
      ]
     },
     "metadata": {
      "needs_background": "light"
     },
     "output_type": "display_data"
    }
   ],
   "source": [
    "fig, ax = plt.subplots()\n",
    "\n",
    "x = np.linspace(0, statistic) \n",
    "y = stats.chi2(degree_of_freedom).pdf(x)\n",
    "ax.plot(x, y, color='b', linewidth=3)\n",
    "\n",
    "x = np.concatenate([[0], x, [statistic], [0]])\n",
    "y = np.concatenate([[0], y, [0], [0]])\n",
    "ax.fill(x, y, color='b', alpha=0.1)\n",
    "\n",
    "x = np.linspace(statistic, 20, 100)\n",
    "y = stats.chi2(degree_of_freedom).pdf(x) \n",
    "ax.plot(x, y, color='r', linewidth=3)\n",
    "\n",
    "x = np.concatenate([[statistic], x, [20], [statistic]])\n",
    "y = np.concatenate([[0], y, [0], [0]])\n",
    "ax.fill(x, y, color='r', alpha=0.1)\n",
    "\n",
    "xy = ((12.5 + 15.0) / 2, 0.01)\n",
    "xytext = (16.5, 0.10)\n",
    "arrowprops = dict(color='k', width=0.2, headwidth=8)\n",
    "ax.annotate('p_value', xy, xytext=xytext, fontsize=15, arrowprops=arrowprops);"
   ]
  },
  {
   "cell_type": "markdown",
   "metadata": {},
   "source": [
    "# Reference\n",
    "\n",
    "[scipy.stats.chisquare](https://docs.scipy.org/doc/scipy/reference/generated/scipy.stats.chisquare.html)\n",
    "\n",
    "[Scott_Crawford](https://www.youtube.com/watch?v=_67mDWPt26Y)"
   ]
  }
 ],
 "metadata": {
  "kernelspec": {
   "display_name": "Python 3",
   "language": "python",
   "name": "python3"
  },
  "language_info": {
   "codemirror_mode": {
    "name": "ipython",
    "version": 3
   },
   "file_extension": ".py",
   "mimetype": "text/x-python",
   "name": "python",
   "nbconvert_exporter": "python",
   "pygments_lexer": "ipython3",
   "version": "3.7.0"
  }
 },
 "nbformat": 4,
 "nbformat_minor": 2
}
