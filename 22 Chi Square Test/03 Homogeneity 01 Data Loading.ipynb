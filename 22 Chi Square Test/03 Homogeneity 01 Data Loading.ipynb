{
 "cells": [
  {
   "cell_type": "markdown",
   "metadata": {},
   "source": [
    "<img src='img/Screen Shot 2021-10-28 at 1.12.39 AM.png'>"
   ]
  },
  {
   "cell_type": "code",
   "execution_count": 1,
   "metadata": {},
   "outputs": [],
   "source": [
    "import matplotlib.pyplot as plt\n",
    "import numpy as np\n",
    "import pandas as pd\n",
    "from scipy import stats"
   ]
  },
  {
   "cell_type": "code",
   "execution_count": 4,
   "metadata": {},
   "outputs": [
    {
     "data": {
      "text/html": [
       "<div>\n",
       "<style scoped>\n",
       "    .dataframe tbody tr th:only-of-type {\n",
       "        vertical-align: middle;\n",
       "    }\n",
       "\n",
       "    .dataframe tbody tr th {\n",
       "        vertical-align: top;\n",
       "    }\n",
       "\n",
       "    .dataframe thead th {\n",
       "        text-align: right;\n",
       "    }\n",
       "</style>\n",
       "<table border=\"1\" class=\"dataframe\">\n",
       "  <thead>\n",
       "    <tr style=\"text-align: right;\">\n",
       "      <th>Quality</th>\n",
       "      <th>Much_better</th>\n",
       "      <th>Better</th>\n",
       "      <th>Same</th>\n",
       "      <th>Worse</th>\n",
       "      <th>Much_worse</th>\n",
       "    </tr>\n",
       "  </thead>\n",
       "  <tbody>\n",
       "    <tr>\n",
       "      <th>Canada</th>\n",
       "      <td>75</td>\n",
       "      <td>71</td>\n",
       "      <td>96</td>\n",
       "      <td>50</td>\n",
       "      <td>19</td>\n",
       "    </tr>\n",
       "    <tr>\n",
       "      <th>US</th>\n",
       "      <td>541</td>\n",
       "      <td>498</td>\n",
       "      <td>779</td>\n",
       "      <td>282</td>\n",
       "      <td>65</td>\n",
       "    </tr>\n",
       "  </tbody>\n",
       "</table>\n",
       "</div>"
      ],
      "text/plain": [
       "Quality  Much_better  Better  Same  Worse  Much_worse\n",
       "Canada            75      71    96     50          19\n",
       "US               541     498   779    282          65"
      ]
     },
     "execution_count": 4,
     "metadata": {},
     "output_type": "execute_result"
    }
   ],
   "source": [
    "data = {\n",
    "    'Quality': ['Much_better', 'Better', 'Same', 'Worse', 'Much_worse'],\n",
    "    'Canada': [75,71,96,50,19],\n",
    "    'US': [541,498,779,282,65]\n",
    "    }\n",
    "df = pd.DataFrame(data).set_index('Quality').transpose()\n",
    "df"
   ]
  },
  {
   "cell_type": "code",
   "execution_count": 5,
   "metadata": {},
   "outputs": [
    {
     "data": {
      "text/plain": [
       "array([[ 75,  71,  96,  50,  19],\n",
       "       [541, 498, 779, 282,  65]])"
      ]
     },
     "execution_count": 5,
     "metadata": {},
     "output_type": "execute_result"
    }
   ],
   "source": [
    "O = df.values\n",
    "O"
   ]
  },
  {
   "cell_type": "code",
   "execution_count": 6,
   "metadata": {},
   "outputs": [
    {
     "name": "stdout",
     "output_type": "stream",
     "text": [
      "Statistic :  11.725484722395281\n",
      "p Value :  0.019513763570996236\n"
     ]
    }
   ],
   "source": [
    "statistic, p_value, degree_of_freedom, expected = stats.chi2_contingency(O)\n",
    "print('Statistic : ', statistic)\n",
    "print('p Value : ', p_value)"
   ]
  },
  {
   "cell_type": "markdown",
   "metadata": {},
   "source": [
    "# Reference\n",
    "\n",
    "[Numberbender](https://www.youtube.com/watch?v=hoibLM5CngE)\n",
    "\n",
    "[Understandable_Statistics](https://www.youtube.com/watch?v=RvGb5L_A16w&list=PL4BztsgicSEeC4Oic6s5vW4LE-0YZTuo-&index=18&t=0s)\n",
    "\n",
    "[scipy.stats.chi2_contingency](https://docs.scipy.org/doc/scipy/reference/generated/scipy.stats.chi2_contingency.html)"
   ]
  },
  {
   "cell_type": "code",
   "execution_count": null,
   "metadata": {},
   "outputs": [],
   "source": []
  }
 ],
 "metadata": {
  "kernelspec": {
   "display_name": "Python 3",
   "language": "python",
   "name": "python3"
  },
  "language_info": {
   "codemirror_mode": {
    "name": "ipython",
    "version": 3
   },
   "file_extension": ".py",
   "mimetype": "text/x-python",
   "name": "python",
   "nbconvert_exporter": "python",
   "pygments_lexer": "ipython3",
   "version": "3.7.0"
  }
 },
 "nbformat": 4,
 "nbformat_minor": 2
}
