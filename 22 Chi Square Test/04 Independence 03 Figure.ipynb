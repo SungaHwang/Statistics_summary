{
 "cells": [
  {
   "cell_type": "markdown",
   "metadata": {},
   "source": [
    "<img src='img/Screen Shot 2021-10-28 at 1.12.39 AM.png'>"
   ]
  },
  {
   "cell_type": "code",
   "execution_count": 1,
   "metadata": {},
   "outputs": [],
   "source": [
    "import matplotlib.pyplot as plt\n",
    "import numpy as np\n",
    "import pandas as pd\n",
    "from scipy import stats"
   ]
  },
  {
   "cell_type": "code",
   "execution_count": 2,
   "metadata": {},
   "outputs": [
    {
     "data": {
      "text/html": [
       "<div>\n",
       "<style scoped>\n",
       "    .dataframe tbody tr th:only-of-type {\n",
       "        vertical-align: middle;\n",
       "    }\n",
       "\n",
       "    .dataframe tbody tr th {\n",
       "        vertical-align: top;\n",
       "    }\n",
       "\n",
       "    .dataframe thead th {\n",
       "        text-align: right;\n",
       "    }\n",
       "</style>\n",
       "<table border=\"1\" class=\"dataframe\">\n",
       "  <thead>\n",
       "    <tr style=\"text-align: right;\">\n",
       "      <th></th>\n",
       "      <th>21-40</th>\n",
       "      <th>41-60</th>\n",
       "      <th>61-80</th>\n",
       "    </tr>\n",
       "  </thead>\n",
       "  <tbody>\n",
       "    <tr>\n",
       "      <th>A</th>\n",
       "      <td>25</td>\n",
       "      <td>30</td>\n",
       "      <td>25</td>\n",
       "    </tr>\n",
       "    <tr>\n",
       "      <th>B</th>\n",
       "      <td>30</td>\n",
       "      <td>71</td>\n",
       "      <td>19</td>\n",
       "    </tr>\n",
       "    <tr>\n",
       "      <th>C</th>\n",
       "      <td>35</td>\n",
       "      <td>49</td>\n",
       "      <td>16</td>\n",
       "    </tr>\n",
       "  </tbody>\n",
       "</table>\n",
       "</div>"
      ],
      "text/plain": [
       "   21-40  41-60  61-80\n",
       "A     25     30     25\n",
       "B     30     71     19\n",
       "C     35     49     16"
      ]
     },
     "execution_count": 2,
     "metadata": {},
     "output_type": "execute_result"
    }
   ],
   "source": [
    "O = np.array([[25,30,25],[30,71,19],[35,49,16]])\n",
    "df_observed = pd.DataFrame(O, index=['A','B','C'])\n",
    "df_observed.columns = ['21-40','41-60','61-80']\n",
    "df_observed"
   ]
  },
  {
   "cell_type": "code",
   "execution_count": 3,
   "metadata": {},
   "outputs": [
    {
     "name": "stdout",
     "output_type": "stream",
     "text": [
      "Statistic :  13.315833333333334\n",
      "p Value :  0.009831372848336144\n"
     ]
    }
   ],
   "source": [
    "statistic, p_value, degree_of_freedom, expected = stats.chi2_contingency(O)\n",
    "print('Statistic : ', statistic)\n",
    "print('p Value : ', p_value)"
   ]
  },
  {
   "cell_type": "markdown",
   "metadata": {},
   "source": [
    "$$\n",
    "\\displaystyle\n",
    "\\chi^2_{df}=\\sum_{i=1}^{n_i}\\sum_{j=1}^{n_j}\\frac{(O_{ij}-E_{ij})^2}{E_{ij}},\\quad df=(n_i-1)(n_j-1)\n",
    "$$"
   ]
  },
  {
   "cell_type": "code",
   "execution_count": 7,
   "metadata": {},
   "outputs": [
    {
     "data": {
      "text/plain": [
       "4"
      ]
     },
     "execution_count": 7,
     "metadata": {},
     "output_type": "execute_result"
    }
   ],
   "source": [
    "degree_of_freedom = (O.shape[0] - 1) * (O.shape[1] - 1)\n",
    "degree_of_freedom"
   ]
  },
  {
   "cell_type": "code",
   "execution_count": 10,
   "metadata": {},
   "outputs": [
    {
     "data": {
      "image/png": "[encoded data removed]",
      "text/plain": [
       "<Figure size 432x288 with 1 Axes>"
      ]
     },
     "metadata": {
      "needs_background": "light"
     },
     "output_type": "display_data"
    }
   ],
   "source": [
    "fig, ax = plt.subplots()\n",
    "\n",
    "x = np.linspace(0, statistic) \n",
    "y = stats.chi2(degree_of_freedom).pdf(x)\n",
    "ax.plot(x, y, color='b', linewidth=3)\n",
    "\n",
    "x = np.concatenate([[0], x, [statistic], [0]])\n",
    "y = np.concatenate([[0], y, [0], [0]])\n",
    "ax.fill(x, y, color='b', alpha=0.1)\n",
    "\n",
    "x = np.linspace(statistic, 20, 100)\n",
    "y = stats.chi2(degree_of_freedom).pdf(x) \n",
    "ax.plot(x, y, color='r', linewidth=3)\n",
    "\n",
    "x = np.concatenate([[statistic], x, [20], [statistic]])\n",
    "y = np.concatenate([[0], y, [0], [0]])\n",
    "ax.fill(x, y, color='r', alpha=0.1)\n",
    "\n",
    "xy = ((12.5 + 15.0) / 2, 0.01)\n",
    "xytext = (16.5, 0.10)\n",
    "arrowprops = dict(color='k', width=0.2, headwidth=8)\n",
    "ax.annotate('p_value', xy, xytext=xytext, fontsize=15, arrowprops=arrowprops);"
   ]
  },
  {
   "cell_type": "markdown",
   "metadata": {},
   "source": [
    "# Reference\n",
    "\n",
    "[Understandable_Statistics](https://www.youtube.com/watch?v=RvGb5L_A16w&list=PL4BztsgicSEeC4Oic6s5vW4LE-0YZTuo-&index=18&t=0s)\n",
    "\n",
    "[scipy.stats.chi2_contingency](https://docs.scipy.org/doc/scipy/reference/generated/scipy.stats.chi2_contingency.html)"
   ]
  },
  {
   "cell_type": "code",
   "execution_count": null,
   "metadata": {},
   "outputs": [],
   "source": []
  }
 ],
 "metadata": {
  "kernelspec": {
   "display_name": "Python 3",
   "language": "python",
   "name": "python3"
  },
  "language_info": {
   "codemirror_mode": {
    "name": "ipython",
    "version": 3
   },
   "file_extension": ".py",
   "mimetype": "text/x-python",
   "name": "python",
   "nbconvert_exporter": "python",
   "pygments_lexer": "ipython3",
   "version": "3.7.0"
  }
 },
 "nbformat": 4,
 "nbformat_minor": 2
}
