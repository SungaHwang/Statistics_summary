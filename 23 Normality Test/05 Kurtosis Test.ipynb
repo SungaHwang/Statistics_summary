{
 "cells": [
  {
   "cell_type": "markdown",
   "metadata": {},
   "source": [
    "<img src='img/Screen Shot 2021-10-28 at 1.27.55 AM.png'>"
   ]
  },
  {
   "cell_type": "code",
   "execution_count": 1,
   "metadata": {},
   "outputs": [],
   "source": [
    "import matplotlib.pyplot as plt; plt.style.use('seaborn')\n",
    "import numpy as np; np.random.seed(0)\n",
    "import pandas as pd\n",
    "from scipy import stats"
   ]
  },
  {
   "cell_type": "code",
   "execution_count": 2,
   "metadata": {},
   "outputs": [],
   "source": [
    "size = 100\n",
    "mu = 5\n",
    "sigma = 2\n",
    "\n",
    "if 0:\n",
    "    x = stats.norm.rvs(loc=mu, scale=sigma, size=size)\n",
    "elif 0:\n",
    "    x = stats.t.rvs(3, loc=mu, scale=sigma, size=size)\n",
    "elif 0:\n",
    "    x = stats.t.rvs(20, loc=mu, scale=sigma, size=size)\n",
    "elif 0:\n",
    "    x = stats.uniform.rvs(size=size)\n",
    "elif 1:\n",
    "    import yfinance as yf\n",
    "    x = yf.Ticker('AAPL').history(period='max').Close.pct_change()[1:]"
   ]
  },
  {
   "cell_type": "code",
   "execution_count": 3,
   "metadata": {},
   "outputs": [
    {
     "data": {
      "text/plain": [
       "0.0"
      ]
     },
     "execution_count": 3,
     "metadata": {},
     "output_type": "execute_result"
    }
   ],
   "source": [
    "_, pval = stats.kurtosistest(x)\n",
    "pval"
   ]
  },
  {
   "cell_type": "markdown",
   "metadata": {},
   "source": [
    "# Reference\n",
    "\n",
    "[wiki](https://en.wikipedia.org/wiki/Normality_test)\n",
    "\n",
    "[Ben_Lambert](https://www.youtube.com/watch?v=TyjYI7yjFZI)\n",
    "\n",
    "[Thomas_Haslwanter](https://github.com/thomas-haslwanter/statsintro_python)\n",
    "\n",
    "[scipy.stats.probplot](https://docs.scipy.org/doc/scipy/reference/generated/scipy.stats.probplot.html)"
   ]
  },
  {
   "cell_type": "code",
   "execution_count": null,
   "metadata": {},
   "outputs": [],
   "source": []
  }
 ],
 "metadata": {
  "kernelspec": {
   "display_name": "Python 3",
   "language": "python",
   "name": "python3"
  },
  "language_info": {
   "codemirror_mode": {
    "name": "ipython",
    "version": 3
   },
   "file_extension": ".py",
   "mimetype": "text/x-python",
   "name": "python",
   "nbconvert_exporter": "python",
   "pygments_lexer": "ipython3",
   "version": "3.8.8"
  }
 },
 "nbformat": 4,
 "nbformat_minor": 2
}
