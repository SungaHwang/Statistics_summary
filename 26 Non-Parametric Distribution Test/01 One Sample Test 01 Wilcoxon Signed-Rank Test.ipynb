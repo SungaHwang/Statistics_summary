{
 "cells": [
  {
   "cell_type": "markdown",
   "metadata": {},
   "source": [
    "<img src='img/Screen Shot 2021-10-28 at 1.55.00 AM.png'>"
   ]
  },
  {
   "cell_type": "code",
   "execution_count": 1,
   "metadata": {},
   "outputs": [],
   "source": [
    "import matplotlib.pyplot as plt; plt.style.use('seaborn')\n",
    "import numpy as np; np.random.seed(0)\n",
    "import pandas as pd\n",
    "from scipy import stats"
   ]
  },
  {
   "cell_type": "markdown",
   "metadata": {},
   "source": [
    "<div align=\"center\"><img src=\"img/Screen Shot 2019-08-19 at 9.10.11 AM.png\" width=\"60%\" height=\"30%\"></div>\n",
    "\n",
    "[Understandable_Statistics](https://www.youtube.com/watch?v=P40BhFAiIKg&list=PL4BztsgicSEeC4Oic6s5vW4LE-0YZTuo-&index=14&t=5s)"
   ]
  },
  {
   "cell_type": "markdown",
   "metadata": {},
   "source": [
    "<img src='img/Screen Shot 2021-11-19 at 1.52.36 AM.png' width=50%>"
   ]
  },
  {
   "cell_type": "markdown",
   "metadata": {},
   "source": [
    "<img src='img/Screen Shot 2021-11-19 at 3.33.50 AM.png'>\n",
    "<img src='img/Screen Shot 2021-11-19 at 3.34.13 AM.png'>\n",
    "\n",
    "[DOC](https://docs.scipy.org/doc/scipy/reference/generated/scipy.stats.wilcoxon.html)"
   ]
  },
  {
   "cell_type": "code",
   "execution_count": 2,
   "metadata": {},
   "outputs": [],
   "source": [
    "data = np.array([[93,76],\n",
    "                 [70,72],\n",
    "                 [81,75],\n",
    "                 [65,68],\n",
    "                 [79,65],\n",
    "                 [54,54],\n",
    "                 [94,88],\n",
    "                 [91,81],\n",
    "                 [77,65],\n",
    "                 [65,57],\n",
    "                 [95,86],\n",
    "                 [89,87],\n",
    "                 [78,78],\n",
    "                 [80,77],\n",
    "                 [76,76]])"
   ]
  },
  {
   "cell_type": "code",
   "execution_count": 5,
   "metadata": {},
   "outputs": [
    {
     "data": {
      "text/plain": [
       "(11.0, 0.008560915878575638)"
      ]
     },
     "execution_count": 5,
     "metadata": {},
     "output_type": "execute_result"
    }
   ],
   "source": [
    "stat, pval = stats.wilcoxon(data[:,0], data[:,1], mode=\"approx\", zero_method=\"pratt\")\n",
    "stat, pval"
   ]
  },
  {
   "cell_type": "code",
   "execution_count": 6,
   "metadata": {},
   "outputs": [],
   "source": [
    "data = data[:,1] - data[:,0]"
   ]
  },
  {
   "cell_type": "code",
   "execution_count": 7,
   "metadata": {},
   "outputs": [
    {
     "data": {
      "text/plain": [
       "(11.0, 0.008560915878575638)"
      ]
     },
     "execution_count": 7,
     "metadata": {},
     "output_type": "execute_result"
    }
   ],
   "source": [
    "stat, pval = stats.wilcoxon(data, mode=\"approx\", zero_method=\"pratt\")\n",
    "stat, pval"
   ]
  },
  {
   "cell_type": "markdown",
   "metadata": {},
   "source": [
    "# Reference\n",
    "\n",
    "[wiki](https://en.wikipedia.org/wiki/Sign_test)\n",
    "\n",
    "[Understandable_Statistics](https://www.youtube.com/watch?v=P40BhFAiIKg&list=PL4BztsgicSEeC4Oic6s5vW4LE-0YZTuo-&index=14&t=5s)"
   ]
  }
 ],
 "metadata": {
  "kernelspec": {
   "display_name": "Python 3",
   "language": "python",
   "name": "python3"
  },
  "language_info": {
   "codemirror_mode": {
    "name": "ipython",
    "version": 3
   },
   "file_extension": ".py",
   "mimetype": "text/x-python",
   "name": "python",
   "nbconvert_exporter": "python",
   "pygments_lexer": "ipython3",
   "version": "3.8.8"
  }
 },
 "nbformat": 4,
 "nbformat_minor": 2
}
