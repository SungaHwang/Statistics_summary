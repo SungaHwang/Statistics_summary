{
 "cells": [
  {
   "cell_type": "markdown",
   "metadata": {},
   "source": [
    "<img src='img/Screen Shot 2021-10-28 at 2.07.31 AM.png'>"
   ]
  },
  {
   "cell_type": "code",
   "execution_count": 1,
   "metadata": {},
   "outputs": [],
   "source": [
    "import matplotlib.pyplot as plt; plt.style.use('seaborn')\n",
    "import numpy as np; np.random.seed(0)\n",
    "import pandas as pd\n",
    "from scipy import stats"
   ]
  },
  {
   "cell_type": "markdown",
   "metadata": {},
   "source": [
    "[statsmodels](https://www.statsmodels.org/stable/generated/statsmodels.sandbox.stats.runs.runstest_1samp.html)"
   ]
  },
  {
   "cell_type": "markdown",
   "metadata": {},
   "source": [
    "<img src=\"img/Screen Shot 2019-08-20 at 4.37.12 AM.png\" width=\"100%\" height=\"30%\">\n",
    "\n",
    "[Understandable_Statistics](https://www.youtube.com/watch?v=9YLgBwMQoMI&list=PL4BztsgicSEeC4Oic6s5vW4LE-0YZTuo-&index=17&t=4s)\n",
    "\n",
    "<img src=\"img/Screen Shot 2019-08-20 at 4.37.29 AM.png\" width=\"60%\" height=\"30%\">\n",
    "\n",
    "[Understandable_Statistics](https://www.youtube.com/watch?v=9YLgBwMQoMI&list=PL4BztsgicSEeC4Oic6s5vW4LE-0YZTuo-&index=17&t=4s)\n",
    "\n",
    "<img src=\"img/Screen Shot 2019-08-20 at 4.37.39 AM.png\" width=\"60%\" height=\"30%\">\n",
    "\n",
    "[Understandable_Statistics](https://www.youtube.com/watch?v=9YLgBwMQoMI&list=PL4BztsgicSEeC4Oic6s5vW4LE-0YZTuo-&index=17&t=4s)\n",
    "\n",
    "<img src=\"img/Screen Shot 2021-11-21 at 7.34.17 PM.png\">\n",
    "\n",
    "[wiki](https://en.wikipedia.org/wiki/Wald%E2%80%93Wolfowitz_runs_test)\n",
    "\n",
    "<img src=\"img/Screen Shot 2021-11-21 at 7.38.22 PM.png\">\n",
    "\n",
    "[wiki](https://en.wikipedia.org/wiki/Wald%E2%80%93Wolfowitz_runs_test)"
   ]
  },
  {
   "cell_type": "code",
   "execution_count": 12,
   "metadata": {},
   "outputs": [],
   "source": [
    "if 0:\n",
    "    x = np.array([1,1,1,1,1,1,0,0,0,0,0,0,1,0,0,0,1,1,0,0,0])\n",
    "elif 0:\n",
    "    x = np.array([1,1,0,1,0,1,0,0,1,0,1,0,1,0,1,1,0,1,0,0,1]) \n",
    "elif 1:\n",
    "    x = stats.binom(1,0.3).rvs(100)"
   ]
  },
  {
   "cell_type": "code",
   "execution_count": 13,
   "metadata": {},
   "outputs": [
    {
     "data": {
      "text/plain": [
       "(-0.6542711721672317, 0.5129371151058422)"
      ]
     },
     "execution_count": 13,
     "metadata": {},
     "output_type": "execute_result"
    }
   ],
   "source": [
    "import statsmodels.sandbox.stats.runs as runs\n",
    "stat, pval = runs.runstest_1samp(x)\n",
    "stat, pval"
   ]
  },
  {
   "cell_type": "code",
   "execution_count": null,
   "metadata": {},
   "outputs": [],
   "source": []
  }
 ],
 "metadata": {
  "kernelspec": {
   "display_name": "Python 3",
   "language": "python",
   "name": "python3"
  },
  "language_info": {
   "codemirror_mode": {
    "name": "ipython",
    "version": 3
   },
   "file_extension": ".py",
   "mimetype": "text/x-python",
   "name": "python",
   "nbconvert_exporter": "python",
   "pygments_lexer": "ipython3",
   "version": "3.6.10"
  }
 },
 "nbformat": 4,
 "nbformat_minor": 2
}
