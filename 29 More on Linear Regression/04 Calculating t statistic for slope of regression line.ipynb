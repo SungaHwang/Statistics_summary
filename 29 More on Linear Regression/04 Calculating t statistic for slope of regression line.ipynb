{
 "cells": [
  {
   "cell_type": "markdown",
   "metadata": {},
   "source": [
    "[khanacademy](https://www.khanacademy.org/math/ap-statistics/inference-slope-linear-regression/inference-slope/v/t-statistic-slope?modal=1)"
   ]
  },
  {
   "cell_type": "markdown",
   "metadata": {},
   "source": [
    "$$\\begin{array}{lll}\n",
    "\\text{SE}_b&=&\\sqrt{\\frac{1}{n-2}\\cdot\\frac{\\sum(y_i-\\hat{y}_i)^2}{\\sum(y_i-\\bar{x})^2}}\\\\\n",
    "\\text{df}&=&n-2\\\\\n",
    "\\text{T Score}&=&\\displaystyle\\frac{b}{\\text{SE}_b}\n",
    "\\end{array}$$\n",
    "\n",
    "[How to understand SE of regression slope equation](https://stats.stackexchange.com/questions/342632/how-to-understand-se-of-regression-slope-equation/342672)\n",
    "\n",
    "[Regression Slope: Confidence Interval](https://stattrek.com/regression/slope-confidence-interval.aspx)"
   ]
  },
  {
   "cell_type": "markdown",
   "metadata": {},
   "source": [
    "<div align=\"center\"><img src=\"img/Screen Shot 2019-08-14 at 1.05.05 AM.png\" width=\"100%\" height=\"30%\"></div>"
   ]
  }
 ],
 "metadata": {
  "kernelspec": {
   "display_name": "Python 3",
   "language": "python",
   "name": "python3"
  },
  "language_info": {
   "codemirror_mode": {
    "name": "ipython",
    "version": 3
   },
   "file_extension": ".py",
   "mimetype": "text/x-python",
   "name": "python",
   "nbconvert_exporter": "python",
   "pygments_lexer": "ipython3",
   "version": "3.7.0"
  }
 },
 "nbformat": 4,
 "nbformat_minor": 2
}
