{
 "cells": [
  {
   "cell_type": "code",
   "execution_count": 4,
   "metadata": {},
   "outputs": [],
   "source": [
    "import matplotlib.pyplot as plt; plt.style.use('seaborn')\n",
    "import numpy as np; np.random.seed(0)\n",
    "import pandas as pd\n",
    "from scipy import stats"
   ]
  },
  {
   "cell_type": "code",
   "execution_count": 5,
   "metadata": {},
   "outputs": [
    {
     "data": {
      "text/html": [
       "<div>\n",
       "<style scoped>\n",
       "    .dataframe tbody tr th:only-of-type {\n",
       "        vertical-align: middle;\n",
       "    }\n",
       "\n",
       "    .dataframe tbody tr th {\n",
       "        vertical-align: top;\n",
       "    }\n",
       "\n",
       "    .dataframe thead th {\n",
       "        text-align: right;\n",
       "    }\n",
       "</style>\n",
       "<table border=\"1\" class=\"dataframe\">\n",
       "  <thead>\n",
       "    <tr style=\"text-align: right;\">\n",
       "      <th></th>\n",
       "      <th>TV</th>\n",
       "      <th>Radio</th>\n",
       "      <th>Newspaper</th>\n",
       "      <th>Sales</th>\n",
       "    </tr>\n",
       "  </thead>\n",
       "  <tbody>\n",
       "    <tr>\n",
       "      <th>0</th>\n",
       "      <td>230.1</td>\n",
       "      <td>37.8</td>\n",
       "      <td>69.2</td>\n",
       "      <td>22.1</td>\n",
       "    </tr>\n",
       "    <tr>\n",
       "      <th>1</th>\n",
       "      <td>44.5</td>\n",
       "      <td>39.3</td>\n",
       "      <td>45.1</td>\n",
       "      <td>10.4</td>\n",
       "    </tr>\n",
       "    <tr>\n",
       "      <th>2</th>\n",
       "      <td>17.2</td>\n",
       "      <td>45.9</td>\n",
       "      <td>69.3</td>\n",
       "      <td>9.3</td>\n",
       "    </tr>\n",
       "    <tr>\n",
       "      <th>3</th>\n",
       "      <td>151.5</td>\n",
       "      <td>41.3</td>\n",
       "      <td>58.5</td>\n",
       "      <td>18.5</td>\n",
       "    </tr>\n",
       "    <tr>\n",
       "      <th>4</th>\n",
       "      <td>180.8</td>\n",
       "      <td>10.8</td>\n",
       "      <td>58.4</td>\n",
       "      <td>12.9</td>\n",
       "    </tr>\n",
       "  </tbody>\n",
       "</table>\n",
       "</div>"
      ],
      "text/plain": [
       "      TV  Radio  Newspaper  Sales\n",
       "0  230.1   37.8       69.2   22.1\n",
       "1   44.5   39.3       45.1   10.4\n",
       "2   17.2   45.9       69.3    9.3\n",
       "3  151.5   41.3       58.5   18.5\n",
       "4  180.8   10.8       58.4   12.9"
      ]
     },
     "execution_count": 5,
     "metadata": {},
     "output_type": "execute_result"
    }
   ],
   "source": [
    "url = 'https://raw.githubusercontent.com/justmarkham/scikit-learn-videos/master/data/Advertising.csv'\n",
    "df = pd.read_csv(url, usecols=[1,2,3,4])\n",
    "df.head()"
   ]
  },
  {
   "cell_type": "code",
   "execution_count": 7,
   "metadata": {},
   "outputs": [],
   "source": [
    "#df.info()"
   ]
  },
  {
   "cell_type": "markdown",
   "metadata": {},
   "source": [
    "$$\n",
    "f(x^{(i)})=\\beta_0+\\sum_{j=1}^p\\beta_jx_j^{(i)}\n",
    "$$\n",
    "$$\n",
    "$$\n",
    "$$\n",
    "{\\bf X}=\\left[\\begin{array}{cccccc}\n",
    "1&x^{(1)}_1&x^{(1)}_2&\\cdots&x^{(1)}_p\\\\\n",
    "1&x^{(2)}_1&x^{(2)}_2&\\cdots&x^{(2)}_p\\\\\n",
    "\\vdots&\\vdots&\\vdots&\\ddots&\\vdots\\\\\n",
    "1&x^{(N)}_1&x^{(N)}_2&\\cdots&x^{(N)}_p\\\\\n",
    "\\end{array}\\right]\n",
    "$$\n",
    "$$\n",
    "$$\n",
    "$$\n",
    "\\hat\\beta=({\\bf X}^T{\\bf X})^{-1}{\\bf X}^T{\\bf y}\n",
    "$$\n",
    "$$\n",
    "$$\n",
    "$$\n",
    "\\hat{\\bf y}={\\bf X}\\hat\\beta={\\bf X}({\\bf X}^T{\\bf X})^{-1}{\\bf X}^T{\\bf y}\n",
    "$$\n",
    "$$\n",
    "$$\n",
    "$$\n",
    "\\hat\\beta=({\\bf X}^T{\\bf X})^{-1}{\\bf X}^T{\\bf y}\\sim N(\\beta,({\\bf X}^T{\\bf X})^{-1}\\sigma^2)\n",
    "$$\n",
    "$$\n",
    "$$\n",
    "$$\n",
    "\\hat\\sigma^2=\\frac{1}{N-p-1}\\sum_{i=1}^N(y^{(i)}-\\hat y^{(i)})^2\\sim \\sigma^2\\frac{\\chi^2_{N-p-1}}{N-p-1}\n",
    "$$\n",
    "$$\n",
    "$$\n",
    "Under $H_0:\\beta_j=0$\n",
    "$$\n",
    "t_j=\\frac{\\hat\\beta_j}{\\hat\\sigma\\sqrt{v_j}}\\sim t_{N-p-1}\n",
    "$$\n",
    "where\n",
    "$$\n",
    "v_j=({\\bf X}^T{\\bf X})^{-1}_{jj}\n",
    "$$"
   ]
  },
  {
   "cell_type": "code",
   "execution_count": 8,
   "metadata": {},
   "outputs": [
    {
     "name": "stdout",
     "output_type": "stream",
     "text": [
      "==============================================================================\n",
      "                 coef    std err          t      P>|t|      [0.025      0.975]\n",
      "------------------------------------------------------------------------------\n",
      "Intercept      2.9389      0.312      9.422      0.000       2.324       3.554\n",
      "TV             0.0458      0.001     32.809      0.000       0.043       0.049\n",
      "Radio          0.1885      0.009     21.893      0.000       0.172       0.206\n",
      "Newspaper     -0.0010      0.006     -0.177      0.860      -0.013       0.011\n",
      "==============================================================================\n"
     ]
    }
   ],
   "source": [
    "import statsmodels.formula.api as sm # conda install -c conda-forge statsmodels\n",
    "result = sm.ols('Sales ~ TV + Radio + Newspaper', df).fit()\n",
    "print(result.summary().tables[1])"
   ]
  },
  {
   "cell_type": "code",
   "execution_count": 9,
   "metadata": {},
   "outputs": [
    {
     "name": "stdout",
     "output_type": "stream",
     "text": [
      "==============================================================================\n",
      "                 coef    std err          t      P>|t|      [0.025      0.975]\n",
      "------------------------------------------------------------------------------\n",
      "Intercept      2.9211      0.294      9.919      0.000       2.340       3.502\n",
      "TV             0.0458      0.001     32.909      0.000       0.043       0.048\n",
      "Radio          0.1880      0.008     23.382      0.000       0.172       0.204\n",
      "==============================================================================\n"
     ]
    }
   ],
   "source": [
    "import statsmodels.formula.api as sm # conda install -c conda-forge statsmodels\n",
    "result = sm.ols('Sales ~ TV + Radio', df).fit()\n",
    "print(result.summary().tables[1])"
   ]
  },
  {
   "cell_type": "code",
   "execution_count": 10,
   "metadata": {},
   "outputs": [],
   "source": [
    "def train_test_split(df, test_size_ratio=0.3):\n",
    "    num_data = df.shape[0]\n",
    "    num_data_train = int(num_data * (1-test_size_ratio)) \n",
    "    xy_train = df.iloc[:num_data_train].values\n",
    "    xy_test = df.iloc[num_data_train:].values\n",
    "    x_train = xy_train[:,:-1].astype(np.float32)\n",
    "    y_train = xy_train[:,-1].astype(np.float32).reshape((-1,1))\n",
    "    x_test = xy_test[:,:-1].astype(np.float32)\n",
    "    y_test = xy_test[:,-1].astype(np.float32).reshape((-1,1))\n",
    "    return x_train, y_train, x_test, y_test"
   ]
  },
  {
   "cell_type": "code",
   "execution_count": 11,
   "metadata": {},
   "outputs": [
    {
     "name": "stdout",
     "output_type": "stream",
     "text": [
      "(140, 2) (140, 1) (60, 2) (60, 1)\n",
      "float32 float32 float32 float32\n"
     ]
    }
   ],
   "source": [
    "x_train, y_train, x_test, y_test = train_test_split(df[['TV','Radio','Sales']]) \n",
    "print(x_train.shape, y_train.shape, x_test.shape, y_test.shape)\n",
    "print(x_train.dtype, y_train.dtype, x_test.dtype, y_test.dtype)"
   ]
  },
  {
   "cell_type": "code",
   "execution_count": 12,
   "metadata": {},
   "outputs": [],
   "source": [
    "from sklearn.linear_model import LinearRegression\n",
    "model = LinearRegression()\n",
    "model.fit(x_train, y_train)\n",
    "y_test_pred = model.predict(x_test)"
   ]
  },
  {
   "cell_type": "code",
   "execution_count": 13,
   "metadata": {},
   "outputs": [
    {
     "name": "stdout",
     "output_type": "stream",
     "text": [
      "[2.9880857]\n",
      "[[0.04705828 0.17799121]]\n"
     ]
    }
   ],
   "source": [
    "print(model.intercept_)\n",
    "print(model.coef_)"
   ]
  },
  {
   "cell_type": "code",
   "execution_count": 14,
   "metadata": {},
   "outputs": [
    {
     "name": "stdout",
     "output_type": "stream",
     "text": [
      "0.8935667579638638\n",
      "0.9014412865575183\n"
     ]
    }
   ],
   "source": [
    "print(model.score(x_train, y_train)) # R^2\n",
    "print(model.score(x_test, y_test)) # R^2"
   ]
  },
  {
   "cell_type": "markdown",
   "metadata": {},
   "source": [
    "$$\n",
    "\\begin{array}{lll}\n",
    "\\mbox{MAE}&&\\frac 1n\\sum_{i=1}^n|y_i-\\hat{y}_i|\\\\\n",
    "\\mbox{MSE}&&\\frac 1n\\sum_{i=1}^n(y_i-\\hat{y}_i)^2\\\\\n",
    "\\mbox{RMSE}&&\\sqrt{\\frac 1n\\sum_{i=1}^n(y_i-\\hat{y}_i)^2}\n",
    "\\end{array}\n",
    "$$"
   ]
  },
  {
   "cell_type": "code",
   "execution_count": 15,
   "metadata": {},
   "outputs": [
    {
     "name": "stdout",
     "output_type": "stream",
     "text": [
      "1.2429519\n",
      "2.5484755\n",
      "1.5963945\n"
     ]
    }
   ],
   "source": [
    "from sklearn import metrics\n",
    "print(metrics.mean_absolute_error(y_test, y_test_pred))\n",
    "print(metrics.mean_squared_error(y_test, y_test_pred))\n",
    "print(np.sqrt(metrics.mean_squared_error(y_test, y_test_pred)))"
   ]
  },
  {
   "cell_type": "code",
   "execution_count": 20,
   "metadata": {},
   "outputs": [
    {
     "data": {
      "image/png": "[encoded data removed]",
      "text/plain": [
       "<Figure size 576x396 with 1 Axes>"
      ]
     },
     "metadata": {},
     "output_type": "display_data"
    }
   ],
   "source": [
    "plt.plot(y_test.reshape((-1,)), y_test_pred.reshape((-1,)), '.')\n",
    "plt.plot(y_test.reshape((-1,)), y_test.reshape((-1,)), '-r', alpha=0.2)\n",
    "plt.xlabel('Sales')\n",
    "plt.ylabel('Projected Sales');"
   ]
  },
  {
   "cell_type": "markdown",
   "metadata": {},
   "source": [
    "# Reference\n",
    "\n",
    "[Data_School](https://www.youtube.com/watch?v=3ZWuPVWq7p4&list=PL5-da3qGB5ICeMbQuqbbCOQWcS6OYBr5A&index=6)\n",
    "\n",
    "[JWarmenhoven](https://github.com/JWarmenhoven/ISLR-python)"
   ]
  },
  {
   "cell_type": "code",
   "execution_count": null,
   "metadata": {},
   "outputs": [],
   "source": []
  }
 ],
 "metadata": {
  "kernelspec": {
   "display_name": "Python 3",
   "language": "python",
   "name": "python3"
  },
  "language_info": {
   "codemirror_mode": {
    "name": "ipython",
    "version": 3
   },
   "file_extension": ".py",
   "mimetype": "text/x-python",
   "name": "python",
   "nbconvert_exporter": "python",
   "pygments_lexer": "ipython3",
   "version": "3.8.1"
  }
 },
 "nbformat": 4,
 "nbformat_minor": 2
}
