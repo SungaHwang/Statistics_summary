{
 "cells": [
  {
   "cell_type": "code",
   "execution_count": 1,
   "metadata": {},
   "outputs": [],
   "source": [
    "import matplotlib.pyplot as plt; plt.style.use('seaborn')\n",
    "import numpy as np; np.random.seed(0)\n",
    "import pandas as pd\n",
    "from scipy import stats"
   ]
  },
  {
   "cell_type": "code",
   "execution_count": 2,
   "metadata": {},
   "outputs": [
    {
     "data": {
      "text/html": [
       "<div>\n",
       "<style scoped>\n",
       "    .dataframe tbody tr th:only-of-type {\n",
       "        vertical-align: middle;\n",
       "    }\n",
       "\n",
       "    .dataframe tbody tr th {\n",
       "        vertical-align: top;\n",
       "    }\n",
       "\n",
       "    .dataframe thead th {\n",
       "        text-align: right;\n",
       "    }\n",
       "</style>\n",
       "<table border=\"1\" class=\"dataframe\">\n",
       "  <thead>\n",
       "    <tr style=\"text-align: right;\">\n",
       "      <th></th>\n",
       "      <th>mpg</th>\n",
       "      <th>cylinders</th>\n",
       "      <th>displacement</th>\n",
       "      <th>horsepower</th>\n",
       "      <th>weight</th>\n",
       "      <th>acceleration</th>\n",
       "      <th>year</th>\n",
       "      <th>origin</th>\n",
       "      <th>name</th>\n",
       "      <th>horsepower2</th>\n",
       "      <th>horsepower3</th>\n",
       "    </tr>\n",
       "  </thead>\n",
       "  <tbody>\n",
       "    <tr>\n",
       "      <th>0</th>\n",
       "      <td>18.0</td>\n",
       "      <td>8</td>\n",
       "      <td>307.0</td>\n",
       "      <td>130</td>\n",
       "      <td>3504</td>\n",
       "      <td>12.0</td>\n",
       "      <td>70</td>\n",
       "      <td>1</td>\n",
       "      <td>chevrolet chevelle malibu</td>\n",
       "      <td>16900</td>\n",
       "      <td>2197000</td>\n",
       "    </tr>\n",
       "    <tr>\n",
       "      <th>1</th>\n",
       "      <td>15.0</td>\n",
       "      <td>8</td>\n",
       "      <td>350.0</td>\n",
       "      <td>165</td>\n",
       "      <td>3693</td>\n",
       "      <td>11.5</td>\n",
       "      <td>70</td>\n",
       "      <td>1</td>\n",
       "      <td>buick skylark 320</td>\n",
       "      <td>27225</td>\n",
       "      <td>4492125</td>\n",
       "    </tr>\n",
       "    <tr>\n",
       "      <th>2</th>\n",
       "      <td>18.0</td>\n",
       "      <td>8</td>\n",
       "      <td>318.0</td>\n",
       "      <td>150</td>\n",
       "      <td>3436</td>\n",
       "      <td>11.0</td>\n",
       "      <td>70</td>\n",
       "      <td>1</td>\n",
       "      <td>plymouth satellite</td>\n",
       "      <td>22500</td>\n",
       "      <td>3375000</td>\n",
       "    </tr>\n",
       "    <tr>\n",
       "      <th>3</th>\n",
       "      <td>16.0</td>\n",
       "      <td>8</td>\n",
       "      <td>304.0</td>\n",
       "      <td>150</td>\n",
       "      <td>3433</td>\n",
       "      <td>12.0</td>\n",
       "      <td>70</td>\n",
       "      <td>1</td>\n",
       "      <td>amc rebel sst</td>\n",
       "      <td>22500</td>\n",
       "      <td>3375000</td>\n",
       "    </tr>\n",
       "    <tr>\n",
       "      <th>4</th>\n",
       "      <td>17.0</td>\n",
       "      <td>8</td>\n",
       "      <td>302.0</td>\n",
       "      <td>140</td>\n",
       "      <td>3449</td>\n",
       "      <td>10.5</td>\n",
       "      <td>70</td>\n",
       "      <td>1</td>\n",
       "      <td>ford torino</td>\n",
       "      <td>19600</td>\n",
       "      <td>2744000</td>\n",
       "    </tr>\n",
       "  </tbody>\n",
       "</table>\n",
       "</div>"
      ],
      "text/plain": [
       "    mpg  cylinders  displacement  horsepower  weight  acceleration  year  \\\n",
       "0  18.0          8         307.0         130    3504          12.0    70   \n",
       "1  15.0          8         350.0         165    3693          11.5    70   \n",
       "2  18.0          8         318.0         150    3436          11.0    70   \n",
       "3  16.0          8         304.0         150    3433          12.0    70   \n",
       "4  17.0          8         302.0         140    3449          10.5    70   \n",
       "\n",
       "   origin                       name  horsepower2  horsepower3  \n",
       "0       1  chevrolet chevelle malibu        16900      2197000  \n",
       "1       1          buick skylark 320        27225      4492125  \n",
       "2       1         plymouth satellite        22500      3375000  \n",
       "3       1              amc rebel sst        22500      3375000  \n",
       "4       1                ford torino        19600      2744000  "
      ]
     },
     "execution_count": 2,
     "metadata": {},
     "output_type": "execute_result"
    }
   ],
   "source": [
    "url = 'https://raw.githubusercontent.com/selva86/datasets/master/Auto.csv'\n",
    "df = pd.read_csv(url, na_values='?').dropna()\n",
    "df['horsepower2'] = df.horsepower**2\n",
    "df['horsepower3'] = df.horsepower**3\n",
    "df.head()"
   ]
  },
  {
   "cell_type": "markdown",
   "metadata": {},
   "source": [
    "$$\n",
    "f(x^{(i)})=\\beta_0+\\sum_{j=1}^p\\beta_jx_j^{(i)}\n",
    "$$\n",
    "$$\n",
    "$$\n",
    "$$\n",
    "{\\bf X}=\\left[\\begin{array}{cccccc}\n",
    "1&x^{(1)}_1&x^{(1)}_2&\\cdots&x^{(1)}_p\\\\\n",
    "1&x^{(2)}_1&x^{(2)}_2&\\cdots&x^{(2)}_p\\\\\n",
    "\\vdots&\\vdots&\\vdots&\\ddots&\\vdots\\\\\n",
    "1&x^{(N)}_1&x^{(N)}_2&\\cdots&x^{(N)}_p\\\\\n",
    "\\end{array}\\right]\n",
    "$$\n",
    "$$\n",
    "$$\n",
    "$$\n",
    "\\hat\\beta=({\\bf X}^T{\\bf X})^{-1}{\\bf X}^T{\\bf y}\n",
    "$$\n",
    "$$\n",
    "$$\n",
    "$$\n",
    "\\hat{\\bf y}={\\bf X}\\hat\\beta={\\bf X}({\\bf X}^T{\\bf X})^{-1}{\\bf X}^T{\\bf y}\n",
    "$$\n",
    "$$\n",
    "$$\n",
    "$$\n",
    "\\hat\\beta=({\\bf X}^T{\\bf X})^{-1}{\\bf X}^T{\\bf y}\\sim N(\\beta,({\\bf X}^T{\\bf X})^{-1}\\sigma^2)\n",
    "$$\n",
    "$$\n",
    "$$\n",
    "$$\n",
    "\\hat\\sigma^2=\\frac{1}{N-p-1}\\sum_{i=1}^N(y^{(i)}-\\hat y^{(i)})^2\\sim \\sigma^2\\frac{\\chi^2_{N-p-1}}{N-p-1}\n",
    "$$\n",
    "$$\n",
    "$$\n",
    "Under $H_0:\\beta_j=0$\n",
    "$$\n",
    "t_j=\\frac{\\hat\\beta_j}{\\hat\\sigma\\sqrt{v_j}}\\sim t_{N-p-1}\n",
    "$$\n",
    "where\n",
    "$$\n",
    "v_j=({\\bf X}^T{\\bf X})^{-1}_{jj}\n",
    "$$"
   ]
  },
  {
   "cell_type": "code",
   "execution_count": 3,
   "metadata": {},
   "outputs": [
    {
     "name": "stdout",
     "output_type": "stream",
     "text": [
      "==============================================================================\n",
      "                 coef    std err          t      P>|t|      [0.025      0.975]\n",
      "------------------------------------------------------------------------------\n",
      "Intercept     39.9359      0.717     55.660      0.000      38.525      41.347\n",
      "horsepower    -0.1578      0.006    -24.489      0.000      -0.171      -0.145\n",
      "==============================================================================\n"
     ]
    }
   ],
   "source": [
    "import statsmodels.formula.api as sm # conda install -c conda-forge statsmodels\n",
    "result = sm.ols('mpg ~ horsepower', df).fit()\n",
    "print(result.summary().tables[1])"
   ]
  },
  {
   "cell_type": "code",
   "execution_count": 4,
   "metadata": {},
   "outputs": [
    {
     "name": "stdout",
     "output_type": "stream",
     "text": [
      "===============================================================================\n",
      "                  coef    std err          t      P>|t|      [0.025      0.975]\n",
      "-------------------------------------------------------------------------------\n",
      "Intercept      56.9001      1.800     31.604      0.000      53.360      60.440\n",
      "horsepower     -0.4662      0.031    -14.978      0.000      -0.527      -0.405\n",
      "horsepower2     0.0012      0.000     10.080      0.000       0.001       0.001\n",
      "===============================================================================\n"
     ]
    }
   ],
   "source": [
    "result = sm.ols('mpg ~ horsepower + horsepower2', df).fit()\n",
    "print(result.summary().tables[1])"
   ]
  },
  {
   "cell_type": "code",
   "execution_count": 5,
   "metadata": {},
   "outputs": [
    {
     "name": "stdout",
     "output_type": "stream",
     "text": [
      "===============================================================================\n",
      "                  coef    std err          t      P>|t|      [0.025      0.975]\n",
      "-------------------------------------------------------------------------------\n",
      "Intercept      60.6848      4.563     13.298      0.000      51.713      69.657\n",
      "horsepower     -0.5689      0.118     -4.824      0.000      -0.801      -0.337\n",
      "horsepower2     0.0021      0.001      2.193      0.029       0.000       0.004\n",
      "horsepower3 -2.147e-06   2.38e-06     -0.903      0.367   -6.82e-06    2.53e-06\n",
      "===============================================================================\n"
     ]
    }
   ],
   "source": [
    "result = sm.ols('mpg ~ horsepower + horsepower2 + horsepower3', df).fit()\n",
    "print(result.summary().tables[1])"
   ]
  },
  {
   "cell_type": "code",
   "execution_count": 6,
   "metadata": {},
   "outputs": [],
   "source": [
    "def train_test_split(df, test_size_ratio=0.3):\n",
    "    num_data = df.shape[0]\n",
    "    num_data_train = int(num_data * (1-test_size_ratio)) \n",
    "    xy_train = df.iloc[:num_data_train].values\n",
    "    xy_test = df.iloc[num_data_train:].values\n",
    "    x_train = xy_train[:,:-1].astype(np.float32)\n",
    "    y_train = xy_train[:,-1].astype(np.float32).reshape((-1,1))\n",
    "    x_test = xy_test[:,:-1].astype(np.float32)\n",
    "    y_test = xy_test[:,-1].astype(np.float32).reshape((-1,1))\n",
    "    return x_train, y_train, x_test, y_test"
   ]
  },
  {
   "cell_type": "code",
   "execution_count": 7,
   "metadata": {},
   "outputs": [
    {
     "name": "stdout",
     "output_type": "stream",
     "text": [
      "(274, 2) (274, 1) (118, 2) (118, 1)\n",
      "float32 float32 float32 float32\n"
     ]
    }
   ],
   "source": [
    "x_train, y_train, x_test, y_test = train_test_split(df[['horsepower','horsepower2','mpg']]) \n",
    "print(x_train.shape, y_train.shape, x_test.shape, y_test.shape)\n",
    "print(x_train.dtype, y_train.dtype, x_test.dtype, y_test.dtype)"
   ]
  },
  {
   "cell_type": "code",
   "execution_count": 8,
   "metadata": {},
   "outputs": [],
   "source": [
    "from sklearn.linear_model import LinearRegression\n",
    "model = LinearRegression()\n",
    "model.fit(x_train, y_train)\n",
    "y_train_pred = model.predict(x_train)\n",
    "y_test_pred = model.predict(x_test)"
   ]
  },
  {
   "cell_type": "code",
   "execution_count": 9,
   "metadata": {},
   "outputs": [
    {
     "name": "stdout",
     "output_type": "stream",
     "text": [
      "[48.993988]\n",
      "[[-0.37836647  0.0009887 ]]\n"
     ]
    }
   ],
   "source": [
    "print(model.intercept_)\n",
    "print(model.coef_)"
   ]
  },
  {
   "cell_type": "code",
   "execution_count": 10,
   "metadata": {},
   "outputs": [
    {
     "name": "stdout",
     "output_type": "stream",
     "text": [
      "0.7317995425973349\n",
      "-0.09933430339545346\n"
     ]
    }
   ],
   "source": [
    "print(model.score(x_train, y_train)) # R^2\n",
    "print(model.score(x_test, y_test)) # R^2"
   ]
  },
  {
   "cell_type": "markdown",
   "metadata": {},
   "source": [
    "$$\n",
    "\\begin{array}{lll}\n",
    "\\mbox{MAE}&&\\frac 1n\\sum_{i=1}^n|y_i-\\hat{y}_i|\\\\\n",
    "\\mbox{MSE}&&\\frac 1n\\sum_{i=1}^n(y_i-\\hat{y}_i)^2\\\\\n",
    "\\mbox{RMSE}&&\\sqrt{\\frac 1n\\sum_{i=1}^n(y_i-\\hat{y}_i)^2}\n",
    "\\end{array}\n",
    "$$"
   ]
  },
  {
   "cell_type": "code",
   "execution_count": 11,
   "metadata": {},
   "outputs": [
    {
     "name": "stdout",
     "output_type": "stream",
     "text": [
      "6.1080556\n",
      "52.637016\n",
      "7.2551374\n"
     ]
    }
   ],
   "source": [
    "from sklearn import metrics\n",
    "print(metrics.mean_absolute_error(y_test, y_test_pred))\n",
    "print(metrics.mean_squared_error(y_test, y_test_pred))\n",
    "print(np.sqrt(metrics.mean_squared_error(y_test, y_test_pred)))"
   ]
  },
  {
   "cell_type": "code",
   "execution_count": 12,
   "metadata": {},
   "outputs": [
    {
     "data": {
      "image/png": "[encoded data removed]",
      "text/plain": [
       "<Figure size 576x396 with 1 Axes>"
      ]
     },
     "metadata": {},
     "output_type": "display_data"
    }
   ],
   "source": [
    "idx = np.argsort(x_train[:,0])\n",
    "x_train_sort = x_train[idx,0]\n",
    "y_train_sort = y_train[idx,0]\n",
    "y_train_pred_sort = y_train_pred[idx]\n",
    "plt.plot(x_train_sort.reshape((-1,)), y_train_sort.reshape((-1,)), '.')\n",
    "plt.plot(x_train_sort.reshape((-1,)), y_train_pred_sort.reshape((-1,)));"
   ]
  },
  {
   "cell_type": "code",
   "execution_count": 13,
   "metadata": {},
   "outputs": [
    {
     "data": {
      "image/png": "[encoded data removed]",
      "text/plain": [
       "<Figure size 576x396 with 1 Axes>"
      ]
     },
     "metadata": {},
     "output_type": "display_data"
    }
   ],
   "source": [
    "idx = np.argsort(x_test[:,0])\n",
    "x_test_sort = x_test[idx,0]\n",
    "y_test_sort = y_test[idx,0]\n",
    "y_test_pred_sort = y_test_pred[idx]\n",
    "plt.plot(x_test_sort.reshape((-1,)), y_test_sort.reshape((-1,)), '.')\n",
    "plt.plot(x_test_sort.reshape((-1,)), y_test_pred_sort.reshape((-1,)));"
   ]
  },
  {
   "cell_type": "markdown",
   "metadata": {},
   "source": [
    "# Reference\n",
    "\n",
    "[Data_School](https://www.youtube.com/watch?v=3ZWuPVWq7p4&list=PL5-da3qGB5ICeMbQuqbbCOQWcS6OYBr5A&index=6)\n",
    "\n",
    "[JWarmenhoven](https://github.com/JWarmenhoven/ISLR-python)"
   ]
  },
  {
   "cell_type": "code",
   "execution_count": null,
   "metadata": {},
   "outputs": [],
   "source": []
  }
 ],
 "metadata": {
  "kernelspec": {
   "display_name": "Python 3",
   "language": "python",
   "name": "python3"
  },
  "language_info": {
   "codemirror_mode": {
    "name": "ipython",
    "version": 3
   },
   "file_extension": ".py",
   "mimetype": "text/x-python",
   "name": "python",
   "nbconvert_exporter": "python",
   "pygments_lexer": "ipython3",
   "version": "3.8.1"
  }
 },
 "nbformat": 4,
 "nbformat_minor": 2
}
