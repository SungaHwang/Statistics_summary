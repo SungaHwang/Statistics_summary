{
 "cells": [
  {
   "cell_type": "code",
   "execution_count": 1,
   "metadata": {},
   "outputs": [],
   "source": [
    "import matplotlib.pyplot as plt\n",
    "import numpy as np; np.random.seed(0)\n",
    "import pandas as pd"
   ]
  },
  {
   "cell_type": "code",
   "execution_count": 2,
   "metadata": {},
   "outputs": [],
   "source": [
    "def give_me_df(ticker):\n",
    "    import yfinance as yf # !pip install yfinance\n",
    "    stock = yf.Ticker(ticker)\n",
    "    df = stock.history(period='max')\n",
    "    df[ticker] = df.Close.pct_change()\n",
    "    return df[[ticker]].iloc[1:]"
   ]
  },
  {
   "cell_type": "code",
   "execution_count": 3,
   "metadata": {},
   "outputs": [],
   "source": [
    "df1 = give_me_df('SPY') \n",
    "df2 = give_me_df('AAPL') \n",
    "df3 = give_me_df('FB') "
   ]
  },
  {
   "cell_type": "code",
   "execution_count": 4,
   "metadata": {},
   "outputs": [],
   "source": [
    "def join_dfs(*dfs):\n",
    "    for idx, df_ in enumerate(dfs):\n",
    "        if idx == 0:\n",
    "            df = df_\n",
    "        else:\n",
    "            df = df.join(df_, how='inner')\n",
    "    return df"
   ]
  },
  {
   "cell_type": "code",
   "execution_count": 5,
   "metadata": {},
   "outputs": [],
   "source": [
    "if 1:\n",
    "    df = join_dfs(df1, df2)\n",
    "elif 1:\n",
    "    df = join_dfs(df1, df2, df3)"
   ]
  },
  {
   "cell_type": "code",
   "execution_count": 6,
   "metadata": {},
   "outputs": [],
   "source": [
    "def train_test_split(df, test_size_ratio=0.3):\n",
    "    num_data = df.shape[0]\n",
    "    num_data_train = int(num_data * (1-test_size_ratio)) \n",
    "    xy_train = df.iloc[:num_data_train].values\n",
    "    xy_test = df.iloc[num_data_train:].values\n",
    "    x_train = xy_train[:,:-1].astype(np.float32)\n",
    "    y_train = xy_train[:,-1].astype(np.float32).reshape((-1,1))\n",
    "    x_test = xy_test[:,:-1].astype(np.float32)\n",
    "    y_test = xy_test[:,-1].astype(np.float32).reshape((-1,1))\n",
    "    return x_train, y_train, x_test, y_test"
   ]
  },
  {
   "cell_type": "code",
   "execution_count": 7,
   "metadata": {},
   "outputs": [
    {
     "name": "stdout",
     "output_type": "stream",
     "text": [
      "(5007, 1) (5007, 1) (2146, 1) (2146, 1)\n",
      "float32 float32 float32 float32\n"
     ]
    }
   ],
   "source": [
    "x_train, y_train, x_test, y_test = train_test_split(df) \n",
    "print(x_train.shape, y_train.shape, x_test.shape, y_test.shape)\n",
    "print(x_train.dtype, y_train.dtype, x_test.dtype, y_test.dtype)"
   ]
  },
  {
   "cell_type": "code",
   "execution_count": 8,
   "metadata": {},
   "outputs": [],
   "source": [
    "from sklearn.linear_model import LinearRegression\n",
    "model = LinearRegression()\n",
    "model.fit(x_train, y_train)\n",
    "y_test_pred = model.predict(x_test)"
   ]
  },
  {
   "cell_type": "code",
   "execution_count": 9,
   "metadata": {},
   "outputs": [
    {
     "name": "stdout",
     "output_type": "stream",
     "text": [
      "[0.00079767]\n",
      "[[1.0729415]]\n"
     ]
    }
   ],
   "source": [
    "print(model.intercept_)\n",
    "print(model.coef_)"
   ]
  },
  {
   "cell_type": "markdown",
   "metadata": {},
   "source": [
    "$$\n",
    "R^2 = \\frac{\\text{Variance Explained by Model}}{\\text{Total Variance}}=1-\\frac{SSE}{SST}\n",
    "$$\n",
    "where\n",
    "$$\\begin{array}{lll}\n",
    "SST&=&\\sum(y_i-\\bar{y})^2\\\\\n",
    "SSE&=&\\sum(y_i-(\\hat{\\alpha}+\\hat{\\beta}x_i))^2\\\\\n",
    "\\end{array}$$\n",
    "\n",
    "[wiki](https://en.wikipedia.org/wiki/Coefficient_of_determination)"
   ]
  },
  {
   "cell_type": "code",
   "execution_count": 10,
   "metadata": {},
   "outputs": [
    {
     "name": "stdout",
     "output_type": "stream",
     "text": [
      "0.18328551025784046\n",
      "0.4522866414821348\n"
     ]
    }
   ],
   "source": [
    "print(model.score(x_train, y_train)) # R^2\n",
    "print(model.score(x_test, y_test)) # R^2"
   ]
  },
  {
   "cell_type": "markdown",
   "metadata": {},
   "source": [
    "$$\n",
    "\\begin{array}{lll}\n",
    "\\mbox{MAE}&&\\frac 1n\\sum_{i=1}^n|y_i-\\hat{y}_i|\\\\\n",
    "\\mbox{MSE}&&\\frac 1n\\sum_{i=1}^n(y_i-\\hat{y}_i)^2\\\\\n",
    "\\mbox{RMSE}&&\\sqrt{\\frac 1n\\sum_{i=1}^n(y_i-\\hat{y}_i)^2}\n",
    "\\end{array}\n",
    "$$"
   ]
  },
  {
   "cell_type": "code",
   "execution_count": 11,
   "metadata": {},
   "outputs": [
    {
     "name": "stdout",
     "output_type": "stream",
     "text": [
      "0.00917762\n",
      "0.0001773454\n",
      "0.013317109\n"
     ]
    }
   ],
   "source": [
    "from sklearn import metrics\n",
    "print(metrics.mean_absolute_error(y_test, y_test_pred))\n",
    "print(metrics.mean_squared_error(y_test, y_test_pred))\n",
    "print(np.sqrt(metrics.mean_squared_error(y_test, y_test_pred)))"
   ]
  },
  {
   "cell_type": "code",
   "execution_count": 12,
   "metadata": {},
   "outputs": [
    {
     "data": {
      "image/png": "[encoded data removed]",
      "text/plain": [
       "<Figure size 432x288 with 1 Axes>"
      ]
     },
     "metadata": {
      "needs_background": "light"
     },
     "output_type": "display_data"
    }
   ],
   "source": [
    "if 1:\n",
    "    plt.plot(x_test.reshape((-1,)), y_test.reshape((-1,)), '.');\n",
    "    plt.plot(x_test.reshape((-1,)), y_test_pred.reshape((-1,)));\n",
    "elif 1:\n",
    "    plt.plot(y_test.reshape((-1,)), y_test_pred.reshape((-1,)), '.');"
   ]
  }
 ],
 "metadata": {
  "kernelspec": {
   "display_name": "Python 3",
   "language": "python",
   "name": "python3"
  },
  "language_info": {
   "codemirror_mode": {
    "name": "ipython",
    "version": 3
   },
   "file_extension": ".py",
   "mimetype": "text/x-python",
   "name": "python",
   "nbconvert_exporter": "python",
   "pygments_lexer": "ipython3",
   "version": "3.8.5"
  }
 },
 "nbformat": 4,
 "nbformat_minor": 2
}
